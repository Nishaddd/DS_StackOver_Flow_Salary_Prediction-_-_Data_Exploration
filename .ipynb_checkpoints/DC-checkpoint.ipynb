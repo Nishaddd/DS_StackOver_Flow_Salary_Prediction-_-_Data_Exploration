{
 "cells": [
  {
   "cell_type": "code",
   "execution_count": 1,
   "id": "688c3f59",
   "metadata": {},
   "outputs": [],
   "source": [
    "import pandas as pd\n",
    "import matplotlib.pyplot as plt"
   ]
  },
  {
   "cell_type": "code",
   "execution_count": null,
   "id": "b47b7cd9",
   "metadata": {},
   "outputs": [],
   "source": [
    "\n"
   ]
  },
  {
   "cell_type": "code",
   "execution_count": 128,
   "id": "02f5fc35",
   "metadata": {},
   "outputs": [
    {
     "name": "stderr",
     "output_type": "stream",
     "text": [
      "/tmp/ipykernel_31013/1189772607.py:1: DtypeWarning: Columns (9,13,14,15,16,17,51,52,53,54,56,57,58,59,60,61,62,63,64,65,66,67,68,69,70,71,72,73,74,75,76,77,78,79,80,81,82,83,84,85,86,94,95,96,97,98,99,100,101,102,103,104,105,106,107,108,109,110,111,112,113,114,115,116,117,118,119,120,121,122,123,124,125,126,127,128,129) have mixed types. Specify dtype option on import or set low_memory=False.\n",
      "  d2018 = pd.read_csv(\"2018.csv\")\n"
     ]
    }
   ],
   "source": [
    "d2018 = pd.read_csv(\"2018.csv\")\n"
   ]
  },
  {
   "cell_type": "code",
   "execution_count": 129,
   "id": "8cc0464f",
   "metadata": {},
   "outputs": [
    {
     "data": {
      "text/plain": [
       "(98855, 131)"
      ]
     },
     "execution_count": 129,
     "metadata": {},
     "output_type": "execute_result"
    }
   ],
   "source": [
    "d2018.shape"
   ]
  },
  {
   "cell_type": "code",
   "execution_count": 130,
   "id": "1f7fcfde",
   "metadata": {},
   "outputs": [
    {
     "data": {
      "text/html": [
       "<div>\n",
       "<style scoped>\n",
       "    .dataframe tbody tr th:only-of-type {\n",
       "        vertical-align: middle;\n",
       "    }\n",
       "\n",
       "    .dataframe tbody tr th {\n",
       "        vertical-align: top;\n",
       "    }\n",
       "\n",
       "    .dataframe thead th {\n",
       "        text-align: right;\n",
       "    }\n",
       "</style>\n",
       "<table border=\"1\" class=\"dataframe\">\n",
       "  <thead>\n",
       "    <tr style=\"text-align: right;\">\n",
       "      <th></th>\n",
       "      <th>Unnamed: 0</th>\n",
       "      <th>Respondent</th>\n",
       "      <th>Hobby</th>\n",
       "      <th>OpenSource</th>\n",
       "      <th>Country</th>\n",
       "      <th>Student</th>\n",
       "      <th>Employment</th>\n",
       "      <th>FormalEducation</th>\n",
       "      <th>UndergradMajor</th>\n",
       "      <th>CompanySize</th>\n",
       "      <th>...</th>\n",
       "      <th>Gender</th>\n",
       "      <th>SexualOrientation</th>\n",
       "      <th>EducationParents</th>\n",
       "      <th>RaceEthnicity</th>\n",
       "      <th>Age</th>\n",
       "      <th>Dependents</th>\n",
       "      <th>MilitaryUS</th>\n",
       "      <th>SurveyTooLong</th>\n",
       "      <th>SurveyEasy</th>\n",
       "      <th>year</th>\n",
       "    </tr>\n",
       "  </thead>\n",
       "  <tbody>\n",
       "    <tr>\n",
       "      <th>0</th>\n",
       "      <td>0</td>\n",
       "      <td>1</td>\n",
       "      <td>Yes</td>\n",
       "      <td>No</td>\n",
       "      <td>Kenya</td>\n",
       "      <td>No</td>\n",
       "      <td>Employed part-time</td>\n",
       "      <td>Bachelor’s degree (BA, BS, B.Eng., etc.)</td>\n",
       "      <td>Mathematics or statistics</td>\n",
       "      <td>20 to 99 employees</td>\n",
       "      <td>...</td>\n",
       "      <td>Male</td>\n",
       "      <td>Straight or heterosexual</td>\n",
       "      <td>Bachelor’s degree (BA, BS, B.Eng., etc.)</td>\n",
       "      <td>Black or of African descent</td>\n",
       "      <td>25 - 34 years old</td>\n",
       "      <td>Yes</td>\n",
       "      <td>NaN</td>\n",
       "      <td>The survey was an appropriate length</td>\n",
       "      <td>Very easy</td>\n",
       "      <td>2018</td>\n",
       "    </tr>\n",
       "    <tr>\n",
       "      <th>1</th>\n",
       "      <td>1</td>\n",
       "      <td>3</td>\n",
       "      <td>Yes</td>\n",
       "      <td>Yes</td>\n",
       "      <td>United Kingdom</td>\n",
       "      <td>No</td>\n",
       "      <td>Employed full-time</td>\n",
       "      <td>Bachelor’s degree (BA, BS, B.Eng., etc.)</td>\n",
       "      <td>A natural science (ex. biology, chemistry, phy...</td>\n",
       "      <td>10,000 or more employees</td>\n",
       "      <td>...</td>\n",
       "      <td>Male</td>\n",
       "      <td>Straight or heterosexual</td>\n",
       "      <td>Bachelor’s degree (BA, BS, B.Eng., etc.)</td>\n",
       "      <td>White or of European descent</td>\n",
       "      <td>35 - 44 years old</td>\n",
       "      <td>Yes</td>\n",
       "      <td>NaN</td>\n",
       "      <td>The survey was an appropriate length</td>\n",
       "      <td>Somewhat easy</td>\n",
       "      <td>2018</td>\n",
       "    </tr>\n",
       "    <tr>\n",
       "      <th>2</th>\n",
       "      <td>2</td>\n",
       "      <td>4</td>\n",
       "      <td>Yes</td>\n",
       "      <td>Yes</td>\n",
       "      <td>United States</td>\n",
       "      <td>No</td>\n",
       "      <td>Employed full-time</td>\n",
       "      <td>Associate degree</td>\n",
       "      <td>Computer science, computer engineering, or sof...</td>\n",
       "      <td>20 to 99 employees</td>\n",
       "      <td>...</td>\n",
       "      <td>NaN</td>\n",
       "      <td>NaN</td>\n",
       "      <td>NaN</td>\n",
       "      <td>NaN</td>\n",
       "      <td>NaN</td>\n",
       "      <td>NaN</td>\n",
       "      <td>NaN</td>\n",
       "      <td>NaN</td>\n",
       "      <td>NaN</td>\n",
       "      <td>2018</td>\n",
       "    </tr>\n",
       "    <tr>\n",
       "      <th>3</th>\n",
       "      <td>3</td>\n",
       "      <td>5</td>\n",
       "      <td>No</td>\n",
       "      <td>No</td>\n",
       "      <td>United States</td>\n",
       "      <td>No</td>\n",
       "      <td>Employed full-time</td>\n",
       "      <td>Bachelor’s degree (BA, BS, B.Eng., etc.)</td>\n",
       "      <td>Computer science, computer engineering, or sof...</td>\n",
       "      <td>100 to 499 employees</td>\n",
       "      <td>...</td>\n",
       "      <td>Male</td>\n",
       "      <td>Straight or heterosexual</td>\n",
       "      <td>Some college/university study without earning ...</td>\n",
       "      <td>White or of European descent</td>\n",
       "      <td>35 - 44 years old</td>\n",
       "      <td>No</td>\n",
       "      <td>No</td>\n",
       "      <td>The survey was an appropriate length</td>\n",
       "      <td>Somewhat easy</td>\n",
       "      <td>2018</td>\n",
       "    </tr>\n",
       "    <tr>\n",
       "      <th>4</th>\n",
       "      <td>4</td>\n",
       "      <td>7</td>\n",
       "      <td>Yes</td>\n",
       "      <td>No</td>\n",
       "      <td>South Africa</td>\n",
       "      <td>Yes, part-time</td>\n",
       "      <td>Employed full-time</td>\n",
       "      <td>Some college/university study without earning ...</td>\n",
       "      <td>Computer science, computer engineering, or sof...</td>\n",
       "      <td>10,000 or more employees</td>\n",
       "      <td>...</td>\n",
       "      <td>Male</td>\n",
       "      <td>Straight or heterosexual</td>\n",
       "      <td>Some college/university study without earning ...</td>\n",
       "      <td>White or of European descent</td>\n",
       "      <td>18 - 24 years old</td>\n",
       "      <td>Yes</td>\n",
       "      <td>NaN</td>\n",
       "      <td>The survey was an appropriate length</td>\n",
       "      <td>Somewhat easy</td>\n",
       "      <td>2018</td>\n",
       "    </tr>\n",
       "  </tbody>\n",
       "</table>\n",
       "<p>5 rows × 131 columns</p>\n",
       "</div>"
      ],
      "text/plain": [
       "   Unnamed: 0  Respondent Hobby OpenSource         Country         Student  \\\n",
       "0           0           1   Yes         No           Kenya              No   \n",
       "1           1           3   Yes        Yes  United Kingdom              No   \n",
       "2           2           4   Yes        Yes   United States              No   \n",
       "3           3           5    No         No   United States              No   \n",
       "4           4           7   Yes         No    South Africa  Yes, part-time   \n",
       "\n",
       "           Employment                                    FormalEducation  \\\n",
       "0  Employed part-time           Bachelor’s degree (BA, BS, B.Eng., etc.)   \n",
       "1  Employed full-time           Bachelor’s degree (BA, BS, B.Eng., etc.)   \n",
       "2  Employed full-time                                   Associate degree   \n",
       "3  Employed full-time           Bachelor’s degree (BA, BS, B.Eng., etc.)   \n",
       "4  Employed full-time  Some college/university study without earning ...   \n",
       "\n",
       "                                      UndergradMajor  \\\n",
       "0                          Mathematics or statistics   \n",
       "1  A natural science (ex. biology, chemistry, phy...   \n",
       "2  Computer science, computer engineering, or sof...   \n",
       "3  Computer science, computer engineering, or sof...   \n",
       "4  Computer science, computer engineering, or sof...   \n",
       "\n",
       "                CompanySize  ... Gender         SexualOrientation  \\\n",
       "0        20 to 99 employees  ...   Male  Straight or heterosexual   \n",
       "1  10,000 or more employees  ...   Male  Straight or heterosexual   \n",
       "2        20 to 99 employees  ...    NaN                       NaN   \n",
       "3      100 to 499 employees  ...   Male  Straight or heterosexual   \n",
       "4  10,000 or more employees  ...   Male  Straight or heterosexual   \n",
       "\n",
       "                                    EducationParents  \\\n",
       "0           Bachelor’s degree (BA, BS, B.Eng., etc.)   \n",
       "1           Bachelor’s degree (BA, BS, B.Eng., etc.)   \n",
       "2                                                NaN   \n",
       "3  Some college/university study without earning ...   \n",
       "4  Some college/university study without earning ...   \n",
       "\n",
       "                  RaceEthnicity                Age Dependents MilitaryUS  \\\n",
       "0   Black or of African descent  25 - 34 years old        Yes        NaN   \n",
       "1  White or of European descent  35 - 44 years old        Yes        NaN   \n",
       "2                           NaN                NaN        NaN        NaN   \n",
       "3  White or of European descent  35 - 44 years old         No         No   \n",
       "4  White or of European descent  18 - 24 years old        Yes        NaN   \n",
       "\n",
       "                          SurveyTooLong     SurveyEasy  year  \n",
       "0  The survey was an appropriate length      Very easy  2018  \n",
       "1  The survey was an appropriate length  Somewhat easy  2018  \n",
       "2                                   NaN            NaN  2018  \n",
       "3  The survey was an appropriate length  Somewhat easy  2018  \n",
       "4  The survey was an appropriate length  Somewhat easy  2018  \n",
       "\n",
       "[5 rows x 131 columns]"
      ]
     },
     "execution_count": 130,
     "metadata": {},
     "output_type": "execute_result"
    }
   ],
   "source": [
    "# d2018.head()\n"
   ]
  },
  {
   "cell_type": "code",
   "execution_count": 131,
   "id": "0ca94413",
   "metadata": {},
   "outputs": [
    {
     "data": {
      "text/plain": [
       "(88883, 87)"
      ]
     },
     "execution_count": 131,
     "metadata": {},
     "output_type": "execute_result"
    }
   ],
   "source": [
    "d2019 = pd.read_csv(\"2019.csv\")\n",
    "d2019.shape"
   ]
  },
  {
   "cell_type": "code",
   "execution_count": 132,
   "id": "4a1123ed",
   "metadata": {},
   "outputs": [
    {
     "data": {
      "text/html": [
       "<div>\n",
       "<style scoped>\n",
       "    .dataframe tbody tr th:only-of-type {\n",
       "        vertical-align: middle;\n",
       "    }\n",
       "\n",
       "    .dataframe tbody tr th {\n",
       "        vertical-align: top;\n",
       "    }\n",
       "\n",
       "    .dataframe thead th {\n",
       "        text-align: right;\n",
       "    }\n",
       "</style>\n",
       "<table border=\"1\" class=\"dataframe\">\n",
       "  <thead>\n",
       "    <tr style=\"text-align: right;\">\n",
       "      <th></th>\n",
       "      <th>Unnamed: 0</th>\n",
       "      <th>Respondent</th>\n",
       "      <th>MainBranch</th>\n",
       "      <th>Hobbyist</th>\n",
       "      <th>OpenSourcer</th>\n",
       "      <th>OpenSource</th>\n",
       "      <th>Employment</th>\n",
       "      <th>Country</th>\n",
       "      <th>Student</th>\n",
       "      <th>EdLevel</th>\n",
       "      <th>...</th>\n",
       "      <th>SONewContent</th>\n",
       "      <th>Age</th>\n",
       "      <th>Gender</th>\n",
       "      <th>Trans</th>\n",
       "      <th>Sexuality</th>\n",
       "      <th>Ethnicity</th>\n",
       "      <th>Dependents</th>\n",
       "      <th>SurveyLength</th>\n",
       "      <th>SurveyEase</th>\n",
       "      <th>year</th>\n",
       "    </tr>\n",
       "  </thead>\n",
       "  <tbody>\n",
       "    <tr>\n",
       "      <th>0</th>\n",
       "      <td>0</td>\n",
       "      <td>1</td>\n",
       "      <td>I am a student who is learning to code</td>\n",
       "      <td>Yes</td>\n",
       "      <td>Never</td>\n",
       "      <td>The quality of OSS and closed source software ...</td>\n",
       "      <td>Not employed, and not looking for work</td>\n",
       "      <td>United Kingdom</td>\n",
       "      <td>No</td>\n",
       "      <td>Primary/elementary school</td>\n",
       "      <td>...</td>\n",
       "      <td>Tech articles written by other developers;Indu...</td>\n",
       "      <td>14.0</td>\n",
       "      <td>Man</td>\n",
       "      <td>No</td>\n",
       "      <td>Straight / Heterosexual</td>\n",
       "      <td>NaN</td>\n",
       "      <td>No</td>\n",
       "      <td>Appropriate in length</td>\n",
       "      <td>Neither easy nor difficult</td>\n",
       "      <td>2019</td>\n",
       "    </tr>\n",
       "    <tr>\n",
       "      <th>1</th>\n",
       "      <td>1</td>\n",
       "      <td>2</td>\n",
       "      <td>I am a student who is learning to code</td>\n",
       "      <td>No</td>\n",
       "      <td>Less than once per year</td>\n",
       "      <td>The quality of OSS and closed source software ...</td>\n",
       "      <td>Not employed, but looking for work</td>\n",
       "      <td>Bosnia and Herzegovina</td>\n",
       "      <td>Yes, full-time</td>\n",
       "      <td>Secondary school (e.g. American high school, G...</td>\n",
       "      <td>...</td>\n",
       "      <td>Tech articles written by other developers;Indu...</td>\n",
       "      <td>19.0</td>\n",
       "      <td>Man</td>\n",
       "      <td>No</td>\n",
       "      <td>Straight / Heterosexual</td>\n",
       "      <td>NaN</td>\n",
       "      <td>No</td>\n",
       "      <td>Appropriate in length</td>\n",
       "      <td>Neither easy nor difficult</td>\n",
       "      <td>2019</td>\n",
       "    </tr>\n",
       "    <tr>\n",
       "      <th>2</th>\n",
       "      <td>2</td>\n",
       "      <td>3</td>\n",
       "      <td>I am not primarily a developer, but I write co...</td>\n",
       "      <td>Yes</td>\n",
       "      <td>Never</td>\n",
       "      <td>The quality of OSS and closed source software ...</td>\n",
       "      <td>Employed full-time</td>\n",
       "      <td>Thailand</td>\n",
       "      <td>No</td>\n",
       "      <td>Bachelor’s degree (BA, BS, B.Eng., etc.)</td>\n",
       "      <td>...</td>\n",
       "      <td>Tech meetups or events in your area;Courses on...</td>\n",
       "      <td>28.0</td>\n",
       "      <td>Man</td>\n",
       "      <td>No</td>\n",
       "      <td>Straight / Heterosexual</td>\n",
       "      <td>NaN</td>\n",
       "      <td>Yes</td>\n",
       "      <td>Appropriate in length</td>\n",
       "      <td>Neither easy nor difficult</td>\n",
       "      <td>2019</td>\n",
       "    </tr>\n",
       "    <tr>\n",
       "      <th>3</th>\n",
       "      <td>3</td>\n",
       "      <td>4</td>\n",
       "      <td>I am a developer by profession</td>\n",
       "      <td>No</td>\n",
       "      <td>Never</td>\n",
       "      <td>The quality of OSS and closed source software ...</td>\n",
       "      <td>Employed full-time</td>\n",
       "      <td>United States</td>\n",
       "      <td>No</td>\n",
       "      <td>Bachelor’s degree (BA, BS, B.Eng., etc.)</td>\n",
       "      <td>...</td>\n",
       "      <td>Tech articles written by other developers;Indu...</td>\n",
       "      <td>22.0</td>\n",
       "      <td>Man</td>\n",
       "      <td>No</td>\n",
       "      <td>Straight / Heterosexual</td>\n",
       "      <td>White or of European descent</td>\n",
       "      <td>No</td>\n",
       "      <td>Appropriate in length</td>\n",
       "      <td>Easy</td>\n",
       "      <td>2019</td>\n",
       "    </tr>\n",
       "    <tr>\n",
       "      <th>4</th>\n",
       "      <td>4</td>\n",
       "      <td>5</td>\n",
       "      <td>I am a developer by profession</td>\n",
       "      <td>Yes</td>\n",
       "      <td>Once a month or more often</td>\n",
       "      <td>OSS is, on average, of HIGHER quality than pro...</td>\n",
       "      <td>Employed full-time</td>\n",
       "      <td>Ukraine</td>\n",
       "      <td>No</td>\n",
       "      <td>Bachelor’s degree (BA, BS, B.Eng., etc.)</td>\n",
       "      <td>...</td>\n",
       "      <td>Tech meetups or events in your area;Courses on...</td>\n",
       "      <td>30.0</td>\n",
       "      <td>Man</td>\n",
       "      <td>No</td>\n",
       "      <td>Straight / Heterosexual</td>\n",
       "      <td>White or of European descent;Multiracial</td>\n",
       "      <td>No</td>\n",
       "      <td>Appropriate in length</td>\n",
       "      <td>Easy</td>\n",
       "      <td>2019</td>\n",
       "    </tr>\n",
       "  </tbody>\n",
       "</table>\n",
       "<p>5 rows × 87 columns</p>\n",
       "</div>"
      ],
      "text/plain": [
       "   Unnamed: 0  Respondent                                         MainBranch  \\\n",
       "0           0           1             I am a student who is learning to code   \n",
       "1           1           2             I am a student who is learning to code   \n",
       "2           2           3  I am not primarily a developer, but I write co...   \n",
       "3           3           4                     I am a developer by profession   \n",
       "4           4           5                     I am a developer by profession   \n",
       "\n",
       "  Hobbyist                 OpenSourcer  \\\n",
       "0      Yes                       Never   \n",
       "1       No     Less than once per year   \n",
       "2      Yes                       Never   \n",
       "3       No                       Never   \n",
       "4      Yes  Once a month or more often   \n",
       "\n",
       "                                          OpenSource  \\\n",
       "0  The quality of OSS and closed source software ...   \n",
       "1  The quality of OSS and closed source software ...   \n",
       "2  The quality of OSS and closed source software ...   \n",
       "3  The quality of OSS and closed source software ...   \n",
       "4  OSS is, on average, of HIGHER quality than pro...   \n",
       "\n",
       "                               Employment                 Country  \\\n",
       "0  Not employed, and not looking for work          United Kingdom   \n",
       "1      Not employed, but looking for work  Bosnia and Herzegovina   \n",
       "2                      Employed full-time                Thailand   \n",
       "3                      Employed full-time           United States   \n",
       "4                      Employed full-time                 Ukraine   \n",
       "\n",
       "          Student                                            EdLevel  ...  \\\n",
       "0              No                          Primary/elementary school  ...   \n",
       "1  Yes, full-time  Secondary school (e.g. American high school, G...  ...   \n",
       "2              No           Bachelor’s degree (BA, BS, B.Eng., etc.)  ...   \n",
       "3              No           Bachelor’s degree (BA, BS, B.Eng., etc.)  ...   \n",
       "4              No           Bachelor’s degree (BA, BS, B.Eng., etc.)  ...   \n",
       "\n",
       "                                        SONewContent   Age Gender Trans  \\\n",
       "0  Tech articles written by other developers;Indu...  14.0    Man    No   \n",
       "1  Tech articles written by other developers;Indu...  19.0    Man    No   \n",
       "2  Tech meetups or events in your area;Courses on...  28.0    Man    No   \n",
       "3  Tech articles written by other developers;Indu...  22.0    Man    No   \n",
       "4  Tech meetups or events in your area;Courses on...  30.0    Man    No   \n",
       "\n",
       "                 Sexuality                                 Ethnicity  \\\n",
       "0  Straight / Heterosexual                                       NaN   \n",
       "1  Straight / Heterosexual                                       NaN   \n",
       "2  Straight / Heterosexual                                       NaN   \n",
       "3  Straight / Heterosexual              White or of European descent   \n",
       "4  Straight / Heterosexual  White or of European descent;Multiracial   \n",
       "\n",
       "  Dependents           SurveyLength                  SurveyEase  year  \n",
       "0         No  Appropriate in length  Neither easy nor difficult  2019  \n",
       "1         No  Appropriate in length  Neither easy nor difficult  2019  \n",
       "2        Yes  Appropriate in length  Neither easy nor difficult  2019  \n",
       "3         No  Appropriate in length                        Easy  2019  \n",
       "4         No  Appropriate in length                        Easy  2019  \n",
       "\n",
       "[5 rows x 87 columns]"
      ]
     },
     "execution_count": 132,
     "metadata": {},
     "output_type": "execute_result"
    }
   ],
   "source": [
    "# d2019.head()"
   ]
  },
  {
   "cell_type": "code",
   "execution_count": 133,
   "id": "a76c4b31",
   "metadata": {},
   "outputs": [
    {
     "data": {
      "text/html": [
       "<div>\n",
       "<style scoped>\n",
       "    .dataframe tbody tr th:only-of-type {\n",
       "        vertical-align: middle;\n",
       "    }\n",
       "\n",
       "    .dataframe tbody tr th {\n",
       "        vertical-align: top;\n",
       "    }\n",
       "\n",
       "    .dataframe thead th {\n",
       "        text-align: right;\n",
       "    }\n",
       "</style>\n",
       "<table border=\"1\" class=\"dataframe\">\n",
       "  <thead>\n",
       "    <tr style=\"text-align: right;\">\n",
       "      <th></th>\n",
       "      <th>Unnamed: 0</th>\n",
       "      <th>Respondent</th>\n",
       "      <th>MainBranch</th>\n",
       "      <th>Hobbyist</th>\n",
       "      <th>OpenSourcer</th>\n",
       "      <th>OpenSource</th>\n",
       "      <th>Employment</th>\n",
       "      <th>Country</th>\n",
       "      <th>Student</th>\n",
       "      <th>EdLevel</th>\n",
       "      <th>...</th>\n",
       "      <th>SONewContent</th>\n",
       "      <th>Age</th>\n",
       "      <th>Gender</th>\n",
       "      <th>Trans</th>\n",
       "      <th>Sexuality</th>\n",
       "      <th>Ethnicity</th>\n",
       "      <th>Dependents</th>\n",
       "      <th>SurveyLength</th>\n",
       "      <th>SurveyEase</th>\n",
       "      <th>year</th>\n",
       "    </tr>\n",
       "  </thead>\n",
       "  <tbody>\n",
       "    <tr>\n",
       "      <th>0</th>\n",
       "      <td>0</td>\n",
       "      <td>1</td>\n",
       "      <td>I am a student who is learning to code</td>\n",
       "      <td>Yes</td>\n",
       "      <td>Never</td>\n",
       "      <td>The quality of OSS and closed source software ...</td>\n",
       "      <td>Not employed, and not looking for work</td>\n",
       "      <td>United Kingdom</td>\n",
       "      <td>No</td>\n",
       "      <td>Primary/elementary school</td>\n",
       "      <td>...</td>\n",
       "      <td>Tech articles written by other developers;Indu...</td>\n",
       "      <td>14.0</td>\n",
       "      <td>Man</td>\n",
       "      <td>No</td>\n",
       "      <td>Straight / Heterosexual</td>\n",
       "      <td>NaN</td>\n",
       "      <td>No</td>\n",
       "      <td>Appropriate in length</td>\n",
       "      <td>Neither easy nor difficult</td>\n",
       "      <td>2019</td>\n",
       "    </tr>\n",
       "    <tr>\n",
       "      <th>1</th>\n",
       "      <td>1</td>\n",
       "      <td>2</td>\n",
       "      <td>I am a student who is learning to code</td>\n",
       "      <td>No</td>\n",
       "      <td>Less than once per year</td>\n",
       "      <td>The quality of OSS and closed source software ...</td>\n",
       "      <td>Not employed, but looking for work</td>\n",
       "      <td>Bosnia and Herzegovina</td>\n",
       "      <td>Yes, full-time</td>\n",
       "      <td>Secondary school (e.g. American high school, G...</td>\n",
       "      <td>...</td>\n",
       "      <td>Tech articles written by other developers;Indu...</td>\n",
       "      <td>19.0</td>\n",
       "      <td>Man</td>\n",
       "      <td>No</td>\n",
       "      <td>Straight / Heterosexual</td>\n",
       "      <td>NaN</td>\n",
       "      <td>No</td>\n",
       "      <td>Appropriate in length</td>\n",
       "      <td>Neither easy nor difficult</td>\n",
       "      <td>2019</td>\n",
       "    </tr>\n",
       "    <tr>\n",
       "      <th>2</th>\n",
       "      <td>2</td>\n",
       "      <td>3</td>\n",
       "      <td>I am not primarily a developer, but I write co...</td>\n",
       "      <td>Yes</td>\n",
       "      <td>Never</td>\n",
       "      <td>The quality of OSS and closed source software ...</td>\n",
       "      <td>Employed full-time</td>\n",
       "      <td>Thailand</td>\n",
       "      <td>No</td>\n",
       "      <td>Bachelor’s degree (BA, BS, B.Eng., etc.)</td>\n",
       "      <td>...</td>\n",
       "      <td>Tech meetups or events in your area;Courses on...</td>\n",
       "      <td>28.0</td>\n",
       "      <td>Man</td>\n",
       "      <td>No</td>\n",
       "      <td>Straight / Heterosexual</td>\n",
       "      <td>NaN</td>\n",
       "      <td>Yes</td>\n",
       "      <td>Appropriate in length</td>\n",
       "      <td>Neither easy nor difficult</td>\n",
       "      <td>2019</td>\n",
       "    </tr>\n",
       "    <tr>\n",
       "      <th>3</th>\n",
       "      <td>3</td>\n",
       "      <td>4</td>\n",
       "      <td>I am a developer by profession</td>\n",
       "      <td>No</td>\n",
       "      <td>Never</td>\n",
       "      <td>The quality of OSS and closed source software ...</td>\n",
       "      <td>Employed full-time</td>\n",
       "      <td>United States</td>\n",
       "      <td>No</td>\n",
       "      <td>Bachelor’s degree (BA, BS, B.Eng., etc.)</td>\n",
       "      <td>...</td>\n",
       "      <td>Tech articles written by other developers;Indu...</td>\n",
       "      <td>22.0</td>\n",
       "      <td>Man</td>\n",
       "      <td>No</td>\n",
       "      <td>Straight / Heterosexual</td>\n",
       "      <td>White or of European descent</td>\n",
       "      <td>No</td>\n",
       "      <td>Appropriate in length</td>\n",
       "      <td>Easy</td>\n",
       "      <td>2019</td>\n",
       "    </tr>\n",
       "    <tr>\n",
       "      <th>4</th>\n",
       "      <td>4</td>\n",
       "      <td>5</td>\n",
       "      <td>I am a developer by profession</td>\n",
       "      <td>Yes</td>\n",
       "      <td>Once a month or more often</td>\n",
       "      <td>OSS is, on average, of HIGHER quality than pro...</td>\n",
       "      <td>Employed full-time</td>\n",
       "      <td>Ukraine</td>\n",
       "      <td>No</td>\n",
       "      <td>Bachelor’s degree (BA, BS, B.Eng., etc.)</td>\n",
       "      <td>...</td>\n",
       "      <td>Tech meetups or events in your area;Courses on...</td>\n",
       "      <td>30.0</td>\n",
       "      <td>Man</td>\n",
       "      <td>No</td>\n",
       "      <td>Straight / Heterosexual</td>\n",
       "      <td>White or of European descent;Multiracial</td>\n",
       "      <td>No</td>\n",
       "      <td>Appropriate in length</td>\n",
       "      <td>Easy</td>\n",
       "      <td>2019</td>\n",
       "    </tr>\n",
       "  </tbody>\n",
       "</table>\n",
       "<p>5 rows × 87 columns</p>\n",
       "</div>"
      ],
      "text/plain": [
       "   Unnamed: 0  Respondent                                         MainBranch  \\\n",
       "0           0           1             I am a student who is learning to code   \n",
       "1           1           2             I am a student who is learning to code   \n",
       "2           2           3  I am not primarily a developer, but I write co...   \n",
       "3           3           4                     I am a developer by profession   \n",
       "4           4           5                     I am a developer by profession   \n",
       "\n",
       "  Hobbyist                 OpenSourcer  \\\n",
       "0      Yes                       Never   \n",
       "1       No     Less than once per year   \n",
       "2      Yes                       Never   \n",
       "3       No                       Never   \n",
       "4      Yes  Once a month or more often   \n",
       "\n",
       "                                          OpenSource  \\\n",
       "0  The quality of OSS and closed source software ...   \n",
       "1  The quality of OSS and closed source software ...   \n",
       "2  The quality of OSS and closed source software ...   \n",
       "3  The quality of OSS and closed source software ...   \n",
       "4  OSS is, on average, of HIGHER quality than pro...   \n",
       "\n",
       "                               Employment                 Country  \\\n",
       "0  Not employed, and not looking for work          United Kingdom   \n",
       "1      Not employed, but looking for work  Bosnia and Herzegovina   \n",
       "2                      Employed full-time                Thailand   \n",
       "3                      Employed full-time           United States   \n",
       "4                      Employed full-time                 Ukraine   \n",
       "\n",
       "          Student                                            EdLevel  ...  \\\n",
       "0              No                          Primary/elementary school  ...   \n",
       "1  Yes, full-time  Secondary school (e.g. American high school, G...  ...   \n",
       "2              No           Bachelor’s degree (BA, BS, B.Eng., etc.)  ...   \n",
       "3              No           Bachelor’s degree (BA, BS, B.Eng., etc.)  ...   \n",
       "4              No           Bachelor’s degree (BA, BS, B.Eng., etc.)  ...   \n",
       "\n",
       "                                        SONewContent   Age Gender Trans  \\\n",
       "0  Tech articles written by other developers;Indu...  14.0    Man    No   \n",
       "1  Tech articles written by other developers;Indu...  19.0    Man    No   \n",
       "2  Tech meetups or events in your area;Courses on...  28.0    Man    No   \n",
       "3  Tech articles written by other developers;Indu...  22.0    Man    No   \n",
       "4  Tech meetups or events in your area;Courses on...  30.0    Man    No   \n",
       "\n",
       "                 Sexuality                                 Ethnicity  \\\n",
       "0  Straight / Heterosexual                                       NaN   \n",
       "1  Straight / Heterosexual                                       NaN   \n",
       "2  Straight / Heterosexual                                       NaN   \n",
       "3  Straight / Heterosexual              White or of European descent   \n",
       "4  Straight / Heterosexual  White or of European descent;Multiracial   \n",
       "\n",
       "  Dependents           SurveyLength                  SurveyEase  year  \n",
       "0         No  Appropriate in length  Neither easy nor difficult  2019  \n",
       "1         No  Appropriate in length  Neither easy nor difficult  2019  \n",
       "2        Yes  Appropriate in length  Neither easy nor difficult  2019  \n",
       "3         No  Appropriate in length                        Easy  2019  \n",
       "4         No  Appropriate in length                        Easy  2019  \n",
       "\n",
       "[5 rows x 87 columns]"
      ]
     },
     "execution_count": 133,
     "metadata": {},
     "output_type": "execute_result"
    }
   ],
   "source": [
    "# d2019.head()\n"
   ]
  },
  {
   "cell_type": "code",
   "execution_count": 134,
   "id": "a951c12f",
   "metadata": {},
   "outputs": [
    {
     "data": {
      "text/plain": [
       "(64461, 63)"
      ]
     },
     "execution_count": 134,
     "metadata": {},
     "output_type": "execute_result"
    }
   ],
   "source": [
    "d2020 = pd.read_csv(\"2020.csv\")\n",
    "d2020.shape"
   ]
  },
  {
   "cell_type": "code",
   "execution_count": 135,
   "id": "67aac6b5",
   "metadata": {},
   "outputs": [
    {
     "data": {
      "text/html": [
       "<div>\n",
       "<style scoped>\n",
       "    .dataframe tbody tr th:only-of-type {\n",
       "        vertical-align: middle;\n",
       "    }\n",
       "\n",
       "    .dataframe tbody tr th {\n",
       "        vertical-align: top;\n",
       "    }\n",
       "\n",
       "    .dataframe thead th {\n",
       "        text-align: right;\n",
       "    }\n",
       "</style>\n",
       "<table border=\"1\" class=\"dataframe\">\n",
       "  <thead>\n",
       "    <tr style=\"text-align: right;\">\n",
       "      <th></th>\n",
       "      <th>Unnamed: 0</th>\n",
       "      <th>Respondent</th>\n",
       "      <th>MainBranch</th>\n",
       "      <th>Hobbyist</th>\n",
       "      <th>Age</th>\n",
       "      <th>Age1stCode</th>\n",
       "      <th>CompFreq</th>\n",
       "      <th>CompTotal</th>\n",
       "      <th>ConvertedComp</th>\n",
       "      <th>Country</th>\n",
       "      <th>...</th>\n",
       "      <th>SurveyLength</th>\n",
       "      <th>Trans</th>\n",
       "      <th>UndergradMajor</th>\n",
       "      <th>WebframeDesireNextYear</th>\n",
       "      <th>WebframeWorkedWith</th>\n",
       "      <th>WelcomeChange</th>\n",
       "      <th>WorkWeekHrs</th>\n",
       "      <th>YearsCode</th>\n",
       "      <th>YearsCodePro</th>\n",
       "      <th>year</th>\n",
       "    </tr>\n",
       "  </thead>\n",
       "  <tbody>\n",
       "    <tr>\n",
       "      <th>0</th>\n",
       "      <td>0</td>\n",
       "      <td>1</td>\n",
       "      <td>I am a developer by profession</td>\n",
       "      <td>Yes</td>\n",
       "      <td>NaN</td>\n",
       "      <td>13</td>\n",
       "      <td>Monthly</td>\n",
       "      <td>NaN</td>\n",
       "      <td>NaN</td>\n",
       "      <td>Germany</td>\n",
       "      <td>...</td>\n",
       "      <td>Appropriate in length</td>\n",
       "      <td>No</td>\n",
       "      <td>Computer science, computer engineering, or sof...</td>\n",
       "      <td>ASP.NET Core</td>\n",
       "      <td>ASP.NET;ASP.NET Core</td>\n",
       "      <td>Just as welcome now as I felt last year</td>\n",
       "      <td>50.0</td>\n",
       "      <td>36</td>\n",
       "      <td>27</td>\n",
       "      <td>2020</td>\n",
       "    </tr>\n",
       "    <tr>\n",
       "      <th>1</th>\n",
       "      <td>1</td>\n",
       "      <td>2</td>\n",
       "      <td>I am a developer by profession</td>\n",
       "      <td>No</td>\n",
       "      <td>NaN</td>\n",
       "      <td>19</td>\n",
       "      <td>NaN</td>\n",
       "      <td>NaN</td>\n",
       "      <td>NaN</td>\n",
       "      <td>United Kingdom</td>\n",
       "      <td>...</td>\n",
       "      <td>NaN</td>\n",
       "      <td>NaN</td>\n",
       "      <td>Computer science, computer engineering, or sof...</td>\n",
       "      <td>NaN</td>\n",
       "      <td>NaN</td>\n",
       "      <td>Somewhat more welcome now than last year</td>\n",
       "      <td>NaN</td>\n",
       "      <td>7</td>\n",
       "      <td>4</td>\n",
       "      <td>2020</td>\n",
       "    </tr>\n",
       "    <tr>\n",
       "      <th>2</th>\n",
       "      <td>2</td>\n",
       "      <td>3</td>\n",
       "      <td>I code primarily as a hobby</td>\n",
       "      <td>Yes</td>\n",
       "      <td>NaN</td>\n",
       "      <td>15</td>\n",
       "      <td>NaN</td>\n",
       "      <td>NaN</td>\n",
       "      <td>NaN</td>\n",
       "      <td>Russian Federation</td>\n",
       "      <td>...</td>\n",
       "      <td>Appropriate in length</td>\n",
       "      <td>NaN</td>\n",
       "      <td>NaN</td>\n",
       "      <td>NaN</td>\n",
       "      <td>NaN</td>\n",
       "      <td>Somewhat more welcome now than last year</td>\n",
       "      <td>NaN</td>\n",
       "      <td>4</td>\n",
       "      <td>NaN</td>\n",
       "      <td>2020</td>\n",
       "    </tr>\n",
       "    <tr>\n",
       "      <th>3</th>\n",
       "      <td>3</td>\n",
       "      <td>4</td>\n",
       "      <td>I am a developer by profession</td>\n",
       "      <td>Yes</td>\n",
       "      <td>25.0</td>\n",
       "      <td>18</td>\n",
       "      <td>NaN</td>\n",
       "      <td>NaN</td>\n",
       "      <td>NaN</td>\n",
       "      <td>Albania</td>\n",
       "      <td>...</td>\n",
       "      <td>NaN</td>\n",
       "      <td>No</td>\n",
       "      <td>Computer science, computer engineering, or sof...</td>\n",
       "      <td>NaN</td>\n",
       "      <td>NaN</td>\n",
       "      <td>Somewhat less welcome now than last year</td>\n",
       "      <td>40.0</td>\n",
       "      <td>7</td>\n",
       "      <td>4</td>\n",
       "      <td>2020</td>\n",
       "    </tr>\n",
       "    <tr>\n",
       "      <th>4</th>\n",
       "      <td>4</td>\n",
       "      <td>5</td>\n",
       "      <td>I used to be a developer by profession, but no...</td>\n",
       "      <td>Yes</td>\n",
       "      <td>31.0</td>\n",
       "      <td>16</td>\n",
       "      <td>NaN</td>\n",
       "      <td>NaN</td>\n",
       "      <td>NaN</td>\n",
       "      <td>United States</td>\n",
       "      <td>...</td>\n",
       "      <td>Too short</td>\n",
       "      <td>No</td>\n",
       "      <td>Computer science, computer engineering, or sof...</td>\n",
       "      <td>Django;Ruby on Rails</td>\n",
       "      <td>Ruby on Rails</td>\n",
       "      <td>Just as welcome now as I felt last year</td>\n",
       "      <td>NaN</td>\n",
       "      <td>15</td>\n",
       "      <td>8</td>\n",
       "      <td>2020</td>\n",
       "    </tr>\n",
       "  </tbody>\n",
       "</table>\n",
       "<p>5 rows × 63 columns</p>\n",
       "</div>"
      ],
      "text/plain": [
       "   Unnamed: 0  Respondent                                         MainBranch  \\\n",
       "0           0           1                     I am a developer by profession   \n",
       "1           1           2                     I am a developer by profession   \n",
       "2           2           3                        I code primarily as a hobby   \n",
       "3           3           4                     I am a developer by profession   \n",
       "4           4           5  I used to be a developer by profession, but no...   \n",
       "\n",
       "  Hobbyist   Age Age1stCode CompFreq  CompTotal  ConvertedComp  \\\n",
       "0      Yes   NaN         13  Monthly        NaN            NaN   \n",
       "1       No   NaN         19      NaN        NaN            NaN   \n",
       "2      Yes   NaN         15      NaN        NaN            NaN   \n",
       "3      Yes  25.0         18      NaN        NaN            NaN   \n",
       "4      Yes  31.0         16      NaN        NaN            NaN   \n",
       "\n",
       "              Country  ...           SurveyLength Trans  \\\n",
       "0             Germany  ...  Appropriate in length    No   \n",
       "1      United Kingdom  ...                    NaN   NaN   \n",
       "2  Russian Federation  ...  Appropriate in length   NaN   \n",
       "3             Albania  ...                    NaN    No   \n",
       "4       United States  ...              Too short    No   \n",
       "\n",
       "                                      UndergradMajor WebframeDesireNextYear  \\\n",
       "0  Computer science, computer engineering, or sof...           ASP.NET Core   \n",
       "1  Computer science, computer engineering, or sof...                    NaN   \n",
       "2                                                NaN                    NaN   \n",
       "3  Computer science, computer engineering, or sof...                    NaN   \n",
       "4  Computer science, computer engineering, or sof...   Django;Ruby on Rails   \n",
       "\n",
       "     WebframeWorkedWith                             WelcomeChange WorkWeekHrs  \\\n",
       "0  ASP.NET;ASP.NET Core   Just as welcome now as I felt last year        50.0   \n",
       "1                   NaN  Somewhat more welcome now than last year         NaN   \n",
       "2                   NaN  Somewhat more welcome now than last year         NaN   \n",
       "3                   NaN  Somewhat less welcome now than last year        40.0   \n",
       "4         Ruby on Rails   Just as welcome now as I felt last year         NaN   \n",
       "\n",
       "  YearsCode YearsCodePro  year  \n",
       "0        36           27  2020  \n",
       "1         7            4  2020  \n",
       "2         4          NaN  2020  \n",
       "3         7            4  2020  \n",
       "4        15            8  2020  \n",
       "\n",
       "[5 rows x 63 columns]"
      ]
     },
     "execution_count": 135,
     "metadata": {},
     "output_type": "execute_result"
    }
   ],
   "source": [
    "# d2020.head()"
   ]
  },
  {
   "cell_type": "code",
   "execution_count": 136,
   "id": "103fce06",
   "metadata": {},
   "outputs": [
    {
     "data": {
      "text/plain": [
       "(83439, 50)"
      ]
     },
     "execution_count": 136,
     "metadata": {},
     "output_type": "execute_result"
    }
   ],
   "source": [
    "d2021 = pd.read_csv(\"2021.csv\")\n",
    "# d2021.shape"
   ]
  },
  {
   "cell_type": "code",
   "execution_count": 137,
   "id": "0d0edae1",
   "metadata": {},
   "outputs": [
    {
     "data": {
      "text/html": [
       "<div>\n",
       "<style scoped>\n",
       "    .dataframe tbody tr th:only-of-type {\n",
       "        vertical-align: middle;\n",
       "    }\n",
       "\n",
       "    .dataframe tbody tr th {\n",
       "        vertical-align: top;\n",
       "    }\n",
       "\n",
       "    .dataframe thead th {\n",
       "        text-align: right;\n",
       "    }\n",
       "</style>\n",
       "<table border=\"1\" class=\"dataframe\">\n",
       "  <thead>\n",
       "    <tr style=\"text-align: right;\">\n",
       "      <th></th>\n",
       "      <th>Unnamed: 0</th>\n",
       "      <th>ResponseId</th>\n",
       "      <th>MainBranch</th>\n",
       "      <th>Employment</th>\n",
       "      <th>Country</th>\n",
       "      <th>US_State</th>\n",
       "      <th>UK_Country</th>\n",
       "      <th>EdLevel</th>\n",
       "      <th>Age1stCode</th>\n",
       "      <th>LearnCode</th>\n",
       "      <th>...</th>\n",
       "      <th>Gender</th>\n",
       "      <th>Trans</th>\n",
       "      <th>Sexuality</th>\n",
       "      <th>Ethnicity</th>\n",
       "      <th>Accessibility</th>\n",
       "      <th>MentalHealth</th>\n",
       "      <th>SurveyLength</th>\n",
       "      <th>SurveyEase</th>\n",
       "      <th>ConvertedCompYearly</th>\n",
       "      <th>year</th>\n",
       "    </tr>\n",
       "  </thead>\n",
       "  <tbody>\n",
       "    <tr>\n",
       "      <th>0</th>\n",
       "      <td>0</td>\n",
       "      <td>1</td>\n",
       "      <td>I am a developer by profession</td>\n",
       "      <td>Independent contractor, freelancer, or self-em...</td>\n",
       "      <td>Slovakia</td>\n",
       "      <td>NaN</td>\n",
       "      <td>NaN</td>\n",
       "      <td>Secondary school (e.g. American high school, G...</td>\n",
       "      <td>18 - 24 years</td>\n",
       "      <td>Coding Bootcamp;Other online resources (ex: vi...</td>\n",
       "      <td>...</td>\n",
       "      <td>Man</td>\n",
       "      <td>No</td>\n",
       "      <td>Straight / Heterosexual</td>\n",
       "      <td>White or of European descent</td>\n",
       "      <td>None of the above</td>\n",
       "      <td>None of the above</td>\n",
       "      <td>Appropriate in length</td>\n",
       "      <td>Easy</td>\n",
       "      <td>62268.0</td>\n",
       "      <td>2021</td>\n",
       "    </tr>\n",
       "    <tr>\n",
       "      <th>1</th>\n",
       "      <td>1</td>\n",
       "      <td>2</td>\n",
       "      <td>I am a student who is learning to code</td>\n",
       "      <td>Student, full-time</td>\n",
       "      <td>Netherlands</td>\n",
       "      <td>NaN</td>\n",
       "      <td>NaN</td>\n",
       "      <td>Bachelor’s degree (B.A., B.S., B.Eng., etc.)</td>\n",
       "      <td>11 - 17 years</td>\n",
       "      <td>Other online resources (ex: videos, blogs, etc...</td>\n",
       "      <td>...</td>\n",
       "      <td>Man</td>\n",
       "      <td>No</td>\n",
       "      <td>Straight / Heterosexual</td>\n",
       "      <td>White or of European descent</td>\n",
       "      <td>None of the above</td>\n",
       "      <td>None of the above</td>\n",
       "      <td>Appropriate in length</td>\n",
       "      <td>Easy</td>\n",
       "      <td>NaN</td>\n",
       "      <td>2021</td>\n",
       "    </tr>\n",
       "    <tr>\n",
       "      <th>2</th>\n",
       "      <td>2</td>\n",
       "      <td>3</td>\n",
       "      <td>I am not primarily a developer, but I write co...</td>\n",
       "      <td>Student, full-time</td>\n",
       "      <td>Russian Federation</td>\n",
       "      <td>NaN</td>\n",
       "      <td>NaN</td>\n",
       "      <td>Bachelor’s degree (B.A., B.S., B.Eng., etc.)</td>\n",
       "      <td>11 - 17 years</td>\n",
       "      <td>Other online resources (ex: videos, blogs, etc...</td>\n",
       "      <td>...</td>\n",
       "      <td>Man</td>\n",
       "      <td>No</td>\n",
       "      <td>Prefer not to say</td>\n",
       "      <td>Prefer not to say</td>\n",
       "      <td>None of the above</td>\n",
       "      <td>None of the above</td>\n",
       "      <td>Appropriate in length</td>\n",
       "      <td>Easy</td>\n",
       "      <td>NaN</td>\n",
       "      <td>2021</td>\n",
       "    </tr>\n",
       "    <tr>\n",
       "      <th>3</th>\n",
       "      <td>3</td>\n",
       "      <td>4</td>\n",
       "      <td>I am a developer by profession</td>\n",
       "      <td>Employed full-time</td>\n",
       "      <td>Austria</td>\n",
       "      <td>NaN</td>\n",
       "      <td>NaN</td>\n",
       "      <td>Master’s degree (M.A., M.S., M.Eng., MBA, etc.)</td>\n",
       "      <td>11 - 17 years</td>\n",
       "      <td>NaN</td>\n",
       "      <td>...</td>\n",
       "      <td>Man</td>\n",
       "      <td>No</td>\n",
       "      <td>Straight / Heterosexual</td>\n",
       "      <td>White or of European descent</td>\n",
       "      <td>I am deaf / hard of hearing</td>\n",
       "      <td>NaN</td>\n",
       "      <td>Appropriate in length</td>\n",
       "      <td>Neither easy nor difficult</td>\n",
       "      <td>NaN</td>\n",
       "      <td>2021</td>\n",
       "    </tr>\n",
       "    <tr>\n",
       "      <th>4</th>\n",
       "      <td>4</td>\n",
       "      <td>5</td>\n",
       "      <td>I am a developer by profession</td>\n",
       "      <td>Independent contractor, freelancer, or self-em...</td>\n",
       "      <td>United Kingdom of Great Britain and Northern I...</td>\n",
       "      <td>NaN</td>\n",
       "      <td>England</td>\n",
       "      <td>Master’s degree (M.A., M.S., M.Eng., MBA, etc.)</td>\n",
       "      <td>5 - 10 years</td>\n",
       "      <td>Friend or family member</td>\n",
       "      <td>...</td>\n",
       "      <td>Man</td>\n",
       "      <td>No</td>\n",
       "      <td>NaN</td>\n",
       "      <td>White or of European descent</td>\n",
       "      <td>None of the above</td>\n",
       "      <td>NaN</td>\n",
       "      <td>Appropriate in length</td>\n",
       "      <td>Easy</td>\n",
       "      <td>NaN</td>\n",
       "      <td>2021</td>\n",
       "    </tr>\n",
       "  </tbody>\n",
       "</table>\n",
       "<p>5 rows × 50 columns</p>\n",
       "</div>"
      ],
      "text/plain": [
       "   Unnamed: 0  ResponseId                                         MainBranch  \\\n",
       "0           0           1                     I am a developer by profession   \n",
       "1           1           2             I am a student who is learning to code   \n",
       "2           2           3  I am not primarily a developer, but I write co...   \n",
       "3           3           4                     I am a developer by profession   \n",
       "4           4           5                     I am a developer by profession   \n",
       "\n",
       "                                          Employment  \\\n",
       "0  Independent contractor, freelancer, or self-em...   \n",
       "1                                 Student, full-time   \n",
       "2                                 Student, full-time   \n",
       "3                                 Employed full-time   \n",
       "4  Independent contractor, freelancer, or self-em...   \n",
       "\n",
       "                                             Country US_State UK_Country  \\\n",
       "0                                           Slovakia      NaN        NaN   \n",
       "1                                        Netherlands      NaN        NaN   \n",
       "2                                 Russian Federation      NaN        NaN   \n",
       "3                                            Austria      NaN        NaN   \n",
       "4  United Kingdom of Great Britain and Northern I...      NaN    England   \n",
       "\n",
       "                                             EdLevel     Age1stCode  \\\n",
       "0  Secondary school (e.g. American high school, G...  18 - 24 years   \n",
       "1       Bachelor’s degree (B.A., B.S., B.Eng., etc.)  11 - 17 years   \n",
       "2       Bachelor’s degree (B.A., B.S., B.Eng., etc.)  11 - 17 years   \n",
       "3    Master’s degree (M.A., M.S., M.Eng., MBA, etc.)  11 - 17 years   \n",
       "4    Master’s degree (M.A., M.S., M.Eng., MBA, etc.)   5 - 10 years   \n",
       "\n",
       "                                           LearnCode  ... Gender Trans  \\\n",
       "0  Coding Bootcamp;Other online resources (ex: vi...  ...    Man    No   \n",
       "1  Other online resources (ex: videos, blogs, etc...  ...    Man    No   \n",
       "2  Other online resources (ex: videos, blogs, etc...  ...    Man    No   \n",
       "3                                                NaN  ...    Man    No   \n",
       "4                            Friend or family member  ...    Man    No   \n",
       "\n",
       "                 Sexuality                     Ethnicity  \\\n",
       "0  Straight / Heterosexual  White or of European descent   \n",
       "1  Straight / Heterosexual  White or of European descent   \n",
       "2        Prefer not to say             Prefer not to say   \n",
       "3  Straight / Heterosexual  White or of European descent   \n",
       "4                      NaN  White or of European descent   \n",
       "\n",
       "                 Accessibility       MentalHealth           SurveyLength  \\\n",
       "0            None of the above  None of the above  Appropriate in length   \n",
       "1            None of the above  None of the above  Appropriate in length   \n",
       "2            None of the above  None of the above  Appropriate in length   \n",
       "3  I am deaf / hard of hearing                NaN  Appropriate in length   \n",
       "4            None of the above                NaN  Appropriate in length   \n",
       "\n",
       "                   SurveyEase ConvertedCompYearly  year  \n",
       "0                        Easy             62268.0  2021  \n",
       "1                        Easy                 NaN  2021  \n",
       "2                        Easy                 NaN  2021  \n",
       "3  Neither easy nor difficult                 NaN  2021  \n",
       "4                        Easy                 NaN  2021  \n",
       "\n",
       "[5 rows x 50 columns]"
      ]
     },
     "execution_count": 137,
     "metadata": {},
     "output_type": "execute_result"
    }
   ],
   "source": [
    "# d2021.head()"
   ]
  },
  {
   "cell_type": "code",
   "execution_count": 138,
   "id": "3665f36a",
   "metadata": {},
   "outputs": [],
   "source": [
    "selected_features = [\"age\",\"gender\",\"salary\",\"country\",\"edlevel\",\"lan_have\",\"lan_want\",\"emplopyment\"]"
   ]
  },
  {
   "cell_type": "markdown",
   "id": "bf7677f7",
   "metadata": {},
   "source": [
    "## Extracting the selected features from each dataframes"
   ]
  },
  {
   "cell_type": "markdown",
   "id": "8066e90f",
   "metadata": {},
   "source": [
    "For 2018"
   ]
  },
  {
   "cell_type": "code",
   "execution_count": 139,
   "id": "7c8149ab",
   "metadata": {},
   "outputs": [],
   "source": [
    "d2018_selected_features = [\"Age\",\"Gender\",\"Currency\",\"Salary\",\"SalaryType\",\"Country\",\"FormalEducation\",\"UndergradMajor\",\"LanguageWorkedWith\"\n",
    "                          ,\"LanguageDesireNextYear\",\"SexualOrientation\",\"Employment\",\"year\"]"
   ]
  },
  {
   "cell_type": "code",
   "execution_count": 140,
   "id": "7ae39168",
   "metadata": {},
   "outputs": [
    {
     "data": {
      "text/plain": [
       "(98855, 13)"
      ]
     },
     "execution_count": 140,
     "metadata": {},
     "output_type": "execute_result"
    }
   ],
   "source": [
    "d2018 = d2018[d2018_selected_features]\n",
    "d2018.shape"
   ]
  },
  {
   "cell_type": "markdown",
   "id": "4f3f43d8",
   "metadata": {},
   "source": [
    "For 2019"
   ]
  },
  {
   "cell_type": "code",
   "execution_count": 141,
   "id": "733b6172",
   "metadata": {},
   "outputs": [],
   "source": [
    "d2019_selected_features = [\"Age\",\"Gender\",\"CurrencyDesc\",\"Country\",\"CompTotal\",\"CompFreq\",\"ConvertedComp\",\"EdLevel\"\n",
    "                           ,\"UndergradMajor\",\"LanguageWorkedWith\",\"LanguageDesireNextYear\",\"Sexuality\",\"Employment\",\"year\"]"
   ]
  },
  {
   "cell_type": "code",
   "execution_count": 142,
   "id": "a00531cf",
   "metadata": {},
   "outputs": [
    {
     "data": {
      "text/html": [
       "<div>\n",
       "<style scoped>\n",
       "    .dataframe tbody tr th:only-of-type {\n",
       "        vertical-align: middle;\n",
       "    }\n",
       "\n",
       "    .dataframe tbody tr th {\n",
       "        vertical-align: top;\n",
       "    }\n",
       "\n",
       "    .dataframe thead th {\n",
       "        text-align: right;\n",
       "    }\n",
       "</style>\n",
       "<table border=\"1\" class=\"dataframe\">\n",
       "  <thead>\n",
       "    <tr style=\"text-align: right;\">\n",
       "      <th></th>\n",
       "      <th>Unnamed: 0</th>\n",
       "      <th>Respondent</th>\n",
       "      <th>MainBranch</th>\n",
       "      <th>Hobbyist</th>\n",
       "      <th>OpenSourcer</th>\n",
       "      <th>OpenSource</th>\n",
       "      <th>Employment</th>\n",
       "      <th>Country</th>\n",
       "      <th>Student</th>\n",
       "      <th>EdLevel</th>\n",
       "      <th>...</th>\n",
       "      <th>SONewContent</th>\n",
       "      <th>Age</th>\n",
       "      <th>Gender</th>\n",
       "      <th>Trans</th>\n",
       "      <th>Sexuality</th>\n",
       "      <th>Ethnicity</th>\n",
       "      <th>Dependents</th>\n",
       "      <th>SurveyLength</th>\n",
       "      <th>SurveyEase</th>\n",
       "      <th>year</th>\n",
       "    </tr>\n",
       "  </thead>\n",
       "  <tbody>\n",
       "    <tr>\n",
       "      <th>0</th>\n",
       "      <td>0</td>\n",
       "      <td>1</td>\n",
       "      <td>I am a student who is learning to code</td>\n",
       "      <td>Yes</td>\n",
       "      <td>Never</td>\n",
       "      <td>The quality of OSS and closed source software ...</td>\n",
       "      <td>Not employed, and not looking for work</td>\n",
       "      <td>United Kingdom</td>\n",
       "      <td>No</td>\n",
       "      <td>Primary/elementary school</td>\n",
       "      <td>...</td>\n",
       "      <td>Tech articles written by other developers;Indu...</td>\n",
       "      <td>14.0</td>\n",
       "      <td>Man</td>\n",
       "      <td>No</td>\n",
       "      <td>Straight / Heterosexual</td>\n",
       "      <td>NaN</td>\n",
       "      <td>No</td>\n",
       "      <td>Appropriate in length</td>\n",
       "      <td>Neither easy nor difficult</td>\n",
       "      <td>2019</td>\n",
       "    </tr>\n",
       "    <tr>\n",
       "      <th>1</th>\n",
       "      <td>1</td>\n",
       "      <td>2</td>\n",
       "      <td>I am a student who is learning to code</td>\n",
       "      <td>No</td>\n",
       "      <td>Less than once per year</td>\n",
       "      <td>The quality of OSS and closed source software ...</td>\n",
       "      <td>Not employed, but looking for work</td>\n",
       "      <td>Bosnia and Herzegovina</td>\n",
       "      <td>Yes, full-time</td>\n",
       "      <td>Secondary school (e.g. American high school, G...</td>\n",
       "      <td>...</td>\n",
       "      <td>Tech articles written by other developers;Indu...</td>\n",
       "      <td>19.0</td>\n",
       "      <td>Man</td>\n",
       "      <td>No</td>\n",
       "      <td>Straight / Heterosexual</td>\n",
       "      <td>NaN</td>\n",
       "      <td>No</td>\n",
       "      <td>Appropriate in length</td>\n",
       "      <td>Neither easy nor difficult</td>\n",
       "      <td>2019</td>\n",
       "    </tr>\n",
       "  </tbody>\n",
       "</table>\n",
       "<p>2 rows × 87 columns</p>\n",
       "</div>"
      ],
      "text/plain": [
       "   Unnamed: 0  Respondent                              MainBranch Hobbyist  \\\n",
       "0           0           1  I am a student who is learning to code      Yes   \n",
       "1           1           2  I am a student who is learning to code       No   \n",
       "\n",
       "               OpenSourcer                                         OpenSource  \\\n",
       "0                    Never  The quality of OSS and closed source software ...   \n",
       "1  Less than once per year  The quality of OSS and closed source software ...   \n",
       "\n",
       "                               Employment                 Country  \\\n",
       "0  Not employed, and not looking for work          United Kingdom   \n",
       "1      Not employed, but looking for work  Bosnia and Herzegovina   \n",
       "\n",
       "          Student                                            EdLevel  ...  \\\n",
       "0              No                          Primary/elementary school  ...   \n",
       "1  Yes, full-time  Secondary school (e.g. American high school, G...  ...   \n",
       "\n",
       "                                        SONewContent   Age Gender Trans  \\\n",
       "0  Tech articles written by other developers;Indu...  14.0    Man    No   \n",
       "1  Tech articles written by other developers;Indu...  19.0    Man    No   \n",
       "\n",
       "                 Sexuality Ethnicity Dependents           SurveyLength  \\\n",
       "0  Straight / Heterosexual       NaN         No  Appropriate in length   \n",
       "1  Straight / Heterosexual       NaN         No  Appropriate in length   \n",
       "\n",
       "                   SurveyEase  year  \n",
       "0  Neither easy nor difficult  2019  \n",
       "1  Neither easy nor difficult  2019  \n",
       "\n",
       "[2 rows x 87 columns]"
      ]
     },
     "execution_count": 142,
     "metadata": {},
     "output_type": "execute_result"
    }
   ],
   "source": [
    "# d2019.head(2)\n",
    "# d2019.CurrencyDesc.value_counts()"
   ]
  },
  {
   "cell_type": "code",
   "execution_count": 143,
   "id": "2507bb8b",
   "metadata": {},
   "outputs": [
    {
     "data": {
      "text/plain": [
       "(88883, 87)"
      ]
     },
     "execution_count": 143,
     "metadata": {},
     "output_type": "execute_result"
    }
   ],
   "source": [
    "d2019.shape"
   ]
  },
  {
   "cell_type": "code",
   "execution_count": 144,
   "id": "cdb83ba1",
   "metadata": {},
   "outputs": [
    {
     "data": {
      "text/plain": [
       "Index(['Age', 'Gender', 'CurrencyDesc', 'Country', 'CompTotal', 'CompFreq',\n",
       "       'ConvertedComp', 'EdLevel', 'UndergradMajor', 'LanguageWorkedWith',\n",
       "       'LanguageDesireNextYear', 'Sexuality', 'Employment', 'year'],\n",
       "      dtype='object')"
      ]
     },
     "execution_count": 144,
     "metadata": {},
     "output_type": "execute_result"
    }
   ],
   "source": [
    "d2019 = d2019[d2019_selected_features]\n",
    "d2019.columns"
   ]
  },
  {
   "cell_type": "code",
   "execution_count": null,
   "id": "d8c1062d",
   "metadata": {},
   "outputs": [],
   "source": []
  },
  {
   "cell_type": "markdown",
   "id": "e7ab7f03",
   "metadata": {},
   "source": [
    "For 2020"
   ]
  },
  {
   "cell_type": "code",
   "execution_count": 145,
   "id": "5409832b",
   "metadata": {},
   "outputs": [],
   "source": [
    "d2020_selected_features = [\"Age\",\"Gender\",\"Country\",\"CompFreq\",\"CompTotal\",\"ConvertedComp\",\"CurrencyDesc\",\"EdLevel\"\n",
    "                          ,\"UndergradMajor\",\"LanguageWorkedWith\",\"LanguageDesireNextYear\",\"Sexuality\",\"Employment\",\"year\"]"
   ]
  },
  {
   "cell_type": "code",
   "execution_count": 146,
   "id": "e91b31af",
   "metadata": {},
   "outputs": [
    {
     "data": {
      "text/html": [
       "<div>\n",
       "<style scoped>\n",
       "    .dataframe tbody tr th:only-of-type {\n",
       "        vertical-align: middle;\n",
       "    }\n",
       "\n",
       "    .dataframe tbody tr th {\n",
       "        vertical-align: top;\n",
       "    }\n",
       "\n",
       "    .dataframe thead th {\n",
       "        text-align: right;\n",
       "    }\n",
       "</style>\n",
       "<table border=\"1\" class=\"dataframe\">\n",
       "  <thead>\n",
       "    <tr style=\"text-align: right;\">\n",
       "      <th></th>\n",
       "      <th>Unnamed: 0</th>\n",
       "      <th>Respondent</th>\n",
       "      <th>MainBranch</th>\n",
       "      <th>Hobbyist</th>\n",
       "      <th>Age</th>\n",
       "      <th>Age1stCode</th>\n",
       "      <th>CompFreq</th>\n",
       "      <th>CompTotal</th>\n",
       "      <th>ConvertedComp</th>\n",
       "      <th>Country</th>\n",
       "      <th>...</th>\n",
       "      <th>SurveyLength</th>\n",
       "      <th>Trans</th>\n",
       "      <th>UndergradMajor</th>\n",
       "      <th>WebframeDesireNextYear</th>\n",
       "      <th>WebframeWorkedWith</th>\n",
       "      <th>WelcomeChange</th>\n",
       "      <th>WorkWeekHrs</th>\n",
       "      <th>YearsCode</th>\n",
       "      <th>YearsCodePro</th>\n",
       "      <th>year</th>\n",
       "    </tr>\n",
       "  </thead>\n",
       "  <tbody>\n",
       "    <tr>\n",
       "      <th>0</th>\n",
       "      <td>0</td>\n",
       "      <td>1</td>\n",
       "      <td>I am a developer by profession</td>\n",
       "      <td>Yes</td>\n",
       "      <td>NaN</td>\n",
       "      <td>13</td>\n",
       "      <td>Monthly</td>\n",
       "      <td>NaN</td>\n",
       "      <td>NaN</td>\n",
       "      <td>Germany</td>\n",
       "      <td>...</td>\n",
       "      <td>Appropriate in length</td>\n",
       "      <td>No</td>\n",
       "      <td>Computer science, computer engineering, or sof...</td>\n",
       "      <td>ASP.NET Core</td>\n",
       "      <td>ASP.NET;ASP.NET Core</td>\n",
       "      <td>Just as welcome now as I felt last year</td>\n",
       "      <td>50.0</td>\n",
       "      <td>36</td>\n",
       "      <td>27</td>\n",
       "      <td>2020</td>\n",
       "    </tr>\n",
       "    <tr>\n",
       "      <th>1</th>\n",
       "      <td>1</td>\n",
       "      <td>2</td>\n",
       "      <td>I am a developer by profession</td>\n",
       "      <td>No</td>\n",
       "      <td>NaN</td>\n",
       "      <td>19</td>\n",
       "      <td>NaN</td>\n",
       "      <td>NaN</td>\n",
       "      <td>NaN</td>\n",
       "      <td>United Kingdom</td>\n",
       "      <td>...</td>\n",
       "      <td>NaN</td>\n",
       "      <td>NaN</td>\n",
       "      <td>Computer science, computer engineering, or sof...</td>\n",
       "      <td>NaN</td>\n",
       "      <td>NaN</td>\n",
       "      <td>Somewhat more welcome now than last year</td>\n",
       "      <td>NaN</td>\n",
       "      <td>7</td>\n",
       "      <td>4</td>\n",
       "      <td>2020</td>\n",
       "    </tr>\n",
       "  </tbody>\n",
       "</table>\n",
       "<p>2 rows × 63 columns</p>\n",
       "</div>"
      ],
      "text/plain": [
       "   Unnamed: 0  Respondent                      MainBranch Hobbyist  Age  \\\n",
       "0           0           1  I am a developer by profession      Yes  NaN   \n",
       "1           1           2  I am a developer by profession       No  NaN   \n",
       "\n",
       "  Age1stCode CompFreq  CompTotal  ConvertedComp         Country  ...  \\\n",
       "0         13  Monthly        NaN            NaN         Germany  ...   \n",
       "1         19      NaN        NaN            NaN  United Kingdom  ...   \n",
       "\n",
       "            SurveyLength Trans  \\\n",
       "0  Appropriate in length    No   \n",
       "1                    NaN   NaN   \n",
       "\n",
       "                                      UndergradMajor WebframeDesireNextYear  \\\n",
       "0  Computer science, computer engineering, or sof...           ASP.NET Core   \n",
       "1  Computer science, computer engineering, or sof...                    NaN   \n",
       "\n",
       "     WebframeWorkedWith                             WelcomeChange WorkWeekHrs  \\\n",
       "0  ASP.NET;ASP.NET Core   Just as welcome now as I felt last year        50.0   \n",
       "1                   NaN  Somewhat more welcome now than last year         NaN   \n",
       "\n",
       "  YearsCode YearsCodePro  year  \n",
       "0        36           27  2020  \n",
       "1         7            4  2020  \n",
       "\n",
       "[2 rows x 63 columns]"
      ]
     },
     "execution_count": 146,
     "metadata": {},
     "output_type": "execute_result"
    }
   ],
   "source": [
    "# d2020.head(2)"
   ]
  },
  {
   "cell_type": "code",
   "execution_count": 147,
   "id": "ddc59368",
   "metadata": {},
   "outputs": [],
   "source": [
    "d2020= d2020[d2020_selected_features]"
   ]
  },
  {
   "cell_type": "code",
   "execution_count": 148,
   "id": "e33cf6f1",
   "metadata": {},
   "outputs": [
    {
     "data": {
      "text/plain": [
       "Index(['Age', 'Gender', 'Country', 'CompFreq', 'CompTotal', 'ConvertedComp',\n",
       "       'CurrencyDesc', 'EdLevel', 'UndergradMajor', 'LanguageWorkedWith',\n",
       "       'LanguageDesireNextYear', 'Sexuality', 'Employment', 'year'],\n",
       "      dtype='object')"
      ]
     },
     "execution_count": 148,
     "metadata": {},
     "output_type": "execute_result"
    }
   ],
   "source": [
    "d2020.shape\n",
    "d2020.columns"
   ]
  },
  {
   "cell_type": "code",
   "execution_count": 149,
   "id": "fa2489e9",
   "metadata": {},
   "outputs": [],
   "source": [
    "d2021_selected_features = [\"Age\",\"Gender\",\"Country\",\"ConvertedCompYearly\",\"EdLevel\",\"LanguageHaveWorkedWith\"\n",
    "                           ,\"LanguageWantToWorkWith\",\"Sexuality\"\n",
    "                           ,\"Employment\",\"year\"]"
   ]
  },
  {
   "cell_type": "code",
   "execution_count": 150,
   "id": "3e33be7f",
   "metadata": {},
   "outputs": [
    {
     "data": {
      "text/html": [
       "<div>\n",
       "<style scoped>\n",
       "    .dataframe tbody tr th:only-of-type {\n",
       "        vertical-align: middle;\n",
       "    }\n",
       "\n",
       "    .dataframe tbody tr th {\n",
       "        vertical-align: top;\n",
       "    }\n",
       "\n",
       "    .dataframe thead th {\n",
       "        text-align: right;\n",
       "    }\n",
       "</style>\n",
       "<table border=\"1\" class=\"dataframe\">\n",
       "  <thead>\n",
       "    <tr style=\"text-align: right;\">\n",
       "      <th></th>\n",
       "      <th>Unnamed: 0</th>\n",
       "      <th>ResponseId</th>\n",
       "      <th>MainBranch</th>\n",
       "      <th>Employment</th>\n",
       "      <th>Country</th>\n",
       "      <th>US_State</th>\n",
       "      <th>UK_Country</th>\n",
       "      <th>EdLevel</th>\n",
       "      <th>Age1stCode</th>\n",
       "      <th>LearnCode</th>\n",
       "      <th>...</th>\n",
       "      <th>Gender</th>\n",
       "      <th>Trans</th>\n",
       "      <th>Sexuality</th>\n",
       "      <th>Ethnicity</th>\n",
       "      <th>Accessibility</th>\n",
       "      <th>MentalHealth</th>\n",
       "      <th>SurveyLength</th>\n",
       "      <th>SurveyEase</th>\n",
       "      <th>ConvertedCompYearly</th>\n",
       "      <th>year</th>\n",
       "    </tr>\n",
       "  </thead>\n",
       "  <tbody>\n",
       "    <tr>\n",
       "      <th>0</th>\n",
       "      <td>0</td>\n",
       "      <td>1</td>\n",
       "      <td>I am a developer by profession</td>\n",
       "      <td>Independent contractor, freelancer, or self-em...</td>\n",
       "      <td>Slovakia</td>\n",
       "      <td>NaN</td>\n",
       "      <td>NaN</td>\n",
       "      <td>Secondary school (e.g. American high school, G...</td>\n",
       "      <td>18 - 24 years</td>\n",
       "      <td>Coding Bootcamp;Other online resources (ex: vi...</td>\n",
       "      <td>...</td>\n",
       "      <td>Man</td>\n",
       "      <td>No</td>\n",
       "      <td>Straight / Heterosexual</td>\n",
       "      <td>White or of European descent</td>\n",
       "      <td>None of the above</td>\n",
       "      <td>None of the above</td>\n",
       "      <td>Appropriate in length</td>\n",
       "      <td>Easy</td>\n",
       "      <td>62268.0</td>\n",
       "      <td>2021</td>\n",
       "    </tr>\n",
       "    <tr>\n",
       "      <th>1</th>\n",
       "      <td>1</td>\n",
       "      <td>2</td>\n",
       "      <td>I am a student who is learning to code</td>\n",
       "      <td>Student, full-time</td>\n",
       "      <td>Netherlands</td>\n",
       "      <td>NaN</td>\n",
       "      <td>NaN</td>\n",
       "      <td>Bachelor’s degree (B.A., B.S., B.Eng., etc.)</td>\n",
       "      <td>11 - 17 years</td>\n",
       "      <td>Other online resources (ex: videos, blogs, etc...</td>\n",
       "      <td>...</td>\n",
       "      <td>Man</td>\n",
       "      <td>No</td>\n",
       "      <td>Straight / Heterosexual</td>\n",
       "      <td>White or of European descent</td>\n",
       "      <td>None of the above</td>\n",
       "      <td>None of the above</td>\n",
       "      <td>Appropriate in length</td>\n",
       "      <td>Easy</td>\n",
       "      <td>NaN</td>\n",
       "      <td>2021</td>\n",
       "    </tr>\n",
       "  </tbody>\n",
       "</table>\n",
       "<p>2 rows × 50 columns</p>\n",
       "</div>"
      ],
      "text/plain": [
       "   Unnamed: 0  ResponseId                              MainBranch  \\\n",
       "0           0           1          I am a developer by profession   \n",
       "1           1           2  I am a student who is learning to code   \n",
       "\n",
       "                                          Employment      Country US_State  \\\n",
       "0  Independent contractor, freelancer, or self-em...     Slovakia      NaN   \n",
       "1                                 Student, full-time  Netherlands      NaN   \n",
       "\n",
       "  UK_Country                                            EdLevel  \\\n",
       "0        NaN  Secondary school (e.g. American high school, G...   \n",
       "1        NaN       Bachelor’s degree (B.A., B.S., B.Eng., etc.)   \n",
       "\n",
       "      Age1stCode                                          LearnCode  ...  \\\n",
       "0  18 - 24 years  Coding Bootcamp;Other online resources (ex: vi...  ...   \n",
       "1  11 - 17 years  Other online resources (ex: videos, blogs, etc...  ...   \n",
       "\n",
       "  Gender Trans                Sexuality                     Ethnicity  \\\n",
       "0    Man    No  Straight / Heterosexual  White or of European descent   \n",
       "1    Man    No  Straight / Heterosexual  White or of European descent   \n",
       "\n",
       "       Accessibility       MentalHealth           SurveyLength SurveyEase  \\\n",
       "0  None of the above  None of the above  Appropriate in length       Easy   \n",
       "1  None of the above  None of the above  Appropriate in length       Easy   \n",
       "\n",
       "  ConvertedCompYearly  year  \n",
       "0             62268.0  2021  \n",
       "1                 NaN  2021  \n",
       "\n",
       "[2 rows x 50 columns]"
      ]
     },
     "execution_count": 150,
     "metadata": {},
     "output_type": "execute_result"
    }
   ],
   "source": [
    "# d2021.head(2)"
   ]
  },
  {
   "cell_type": "code",
   "execution_count": 151,
   "id": "8ec5a9ef",
   "metadata": {},
   "outputs": [],
   "source": [
    "d2021 = d2021[d2021_selected_features]"
   ]
  },
  {
   "cell_type": "code",
   "execution_count": 152,
   "id": "96b7b4dc",
   "metadata": {},
   "outputs": [
    {
     "data": {
      "text/plain": [
       "(83439, 10)"
      ]
     },
     "execution_count": 152,
     "metadata": {},
     "output_type": "execute_result"
    }
   ],
   "source": [
    "d2021.shape"
   ]
  },
  {
   "cell_type": "markdown",
   "id": "8b78dcbf",
   "metadata": {},
   "source": [
    "### Remove all the na values\n"
   ]
  },
  {
   "cell_type": "code",
   "execution_count": 153,
   "id": "ed4faa54",
   "metadata": {},
   "outputs": [
    {
     "name": "stdout",
     "output_type": "stream",
     "text": [
      "(98855, 13)\n",
      "Index(['Age', 'Gender', 'Currency', 'Salary', 'SalaryType', 'Country',\n",
      "       'FormalEducation', 'UndergradMajor', 'LanguageWorkedWith',\n",
      "       'LanguageDesireNextYear', 'SexualOrientation', 'Employment', 'year'],\n",
      "      dtype='object')\n",
      "(27473, 13)\n",
      "Index(['Age', 'Gender', 'Currency', 'Salary', 'SalaryType', 'Country',\n",
      "       'FormalEducation', 'UndergradMajor', 'LanguageWorkedWith',\n",
      "       'LanguageDesireNextYear', 'SexualOrientation', 'Employment', 'year'],\n",
      "      dtype='object')\n",
      "(88883, 14)\n",
      "Index(['Age', 'Gender', 'CurrencyDesc', 'Country', 'CompTotal', 'CompFreq',\n",
      "       'ConvertedComp', 'EdLevel', 'UndergradMajor', 'LanguageWorkedWith',\n",
      "       'LanguageDesireNextYear', 'Sexuality', 'Employment', 'year'],\n",
      "      dtype='object')\n",
      "(42909, 14)\n",
      "Index(['Age', 'Gender', 'CurrencyDesc', 'Country', 'CompTotal', 'CompFreq',\n",
      "       'ConvertedComp', 'EdLevel', 'UndergradMajor', 'LanguageWorkedWith',\n",
      "       'LanguageDesireNextYear', 'Sexuality', 'Employment', 'year'],\n",
      "      dtype='object')\n",
      "(64461, 14)\n",
      "Index(['Age', 'Gender', 'Country', 'CompFreq', 'CompTotal', 'ConvertedComp',\n",
      "       'CurrencyDesc', 'EdLevel', 'UndergradMajor', 'LanguageWorkedWith',\n",
      "       'LanguageDesireNextYear', 'Sexuality', 'Employment', 'year'],\n",
      "      dtype='object')\n",
      "(24071, 14)\n",
      "Index(['Age', 'Gender', 'Country', 'CompFreq', 'CompTotal', 'ConvertedComp',\n",
      "       'CurrencyDesc', 'EdLevel', 'UndergradMajor', 'LanguageWorkedWith',\n",
      "       'LanguageDesireNextYear', 'Sexuality', 'Employment', 'year'],\n",
      "      dtype='object')\n",
      "(83439, 10)\n",
      "Index(['Age', 'Gender', 'Country', 'ConvertedCompYearly', 'EdLevel',\n",
      "       'LanguageHaveWorkedWith', 'LanguageWantToWorkWith', 'Sexuality',\n",
      "       'Employment', 'year'],\n",
      "      dtype='object')\n",
      "(40745, 10)\n",
      "Index(['Age', 'Gender', 'Country', 'ConvertedCompYearly', 'EdLevel',\n",
      "       'LanguageHaveWorkedWith', 'LanguageWantToWorkWith', 'Sexuality',\n",
      "       'Employment', 'year'],\n",
      "      dtype='object')\n"
     ]
    }
   ],
   "source": [
    "dfs = [d2018,d2019,d2020,d2021]\n",
    "for df in dfs:\n",
    "    print(df.shape)\n",
    "    print(df.columns)\n",
    "    df.dropna(inplace=True)\n",
    "    print(df.shape)\n",
    "    print(df.columns)"
   ]
  },
  {
   "cell_type": "markdown",
   "id": "e3021556",
   "metadata": {},
   "source": [
    "### Renaming columns to a common format\n"
   ]
  },
  {
   "cell_type": "code",
   "execution_count": 154,
   "id": "a9cc0493",
   "metadata": {},
   "outputs": [
    {
     "data": {
      "text/plain": [
       "Index(['Age', 'Gender', 'Currency', 'Salary', 'SalaryType', 'Country',\n",
       "       'FormalEducation', 'UndergradMajor', 'LanguageWorkedWith',\n",
       "       'LanguageDesireNextYear', 'SexualOrientation', 'Employment', 'year'],\n",
       "      dtype='object')"
      ]
     },
     "execution_count": 154,
     "metadata": {},
     "output_type": "execute_result"
    }
   ],
   "source": [
    "d2018.columns"
   ]
  },
  {
   "cell_type": "code",
   "execution_count": 155,
   "id": "f2528426",
   "metadata": {},
   "outputs": [
    {
     "name": "stdout",
     "output_type": "stream",
     "text": [
      "Index(['Age', 'Gender', 'Currency', 'Salary', 'SalaryType', 'Country',\n",
      "       'EdLevel', 'UndergradMajor', 'lang_have', 'lang_want', 'Sexuality',\n",
      "       'Employment', 'year'],\n",
      "      dtype='object')\n",
      "Index(['Age', 'Gender', 'Currency', 'Country', 'CompTotal', 'CompFreq',\n",
      "       'ConvertedComp', 'EdLevel', 'UndergradMajor', 'lang_have', 'lang_want',\n",
      "       'Sexuality', 'Employment', 'year'],\n",
      "      dtype='object')\n",
      "Index(['Age', 'Gender', 'Country', 'CompFreq', 'CompTotal', 'ConvertedComp',\n",
      "       'Currency', 'EdLevel', 'UndergradMajor', 'lang_have', 'lang_want',\n",
      "       'Sexuality', 'Employment', 'year'],\n",
      "      dtype='object')\n",
      "Index(['Age', 'Gender', 'Country', 'salary', 'EdLevel', 'lang_have',\n",
      "       'lang_want', 'Sexuality', 'Employment', 'year'],\n",
      "      dtype='object')\n"
     ]
    }
   ],
   "source": [
    "for df in dfs:\n",
    "    df.rename(columns = {'FormalEducation':'EdLevel','LanguageWorkedWith':'lang_have'\n",
    "                                ,'LanguageDesireNextYear':'lang_want','LanguageHaveWorkedWith':'lang_have'\n",
    "                       ,'LanguageWantToWorkWith':'lang_want','CurrencyDesc':'Currency',\n",
    "                         'SexualOrientation':'Sexuality','ConvertedCompYearly':'salary'},inplace = True)\n",
    "    print(df.columns)"
   ]
  },
  {
   "cell_type": "markdown",
   "id": "4cbfb337",
   "metadata": {},
   "source": [
    "## Calculating yearly salaries"
   ]
  },
  {
   "cell_type": "markdown",
   "id": "08b2205e",
   "metadata": {},
   "source": [
    "For 2018"
   ]
  },
  {
   "cell_type": "code",
   "execution_count": 156,
   "id": "3f9edd6d",
   "metadata": {},
   "outputs": [
    {
     "data": {
      "text/plain": [
       "U.S. dollars ($)               9382\n",
       "Euros (€)                      6878\n",
       "Indian rupees (₹)              2526\n",
       "British pounds sterling (£)    2464\n",
       "Canadian dollars (C$)          1121\n",
       "Russian rubles (₽)              876\n",
       "Brazilian reais (R$)            799\n",
       "Australian dollars (A$)         681\n",
       "Polish złoty (zł)               670\n",
       "Swedish kroner (SEK)            458\n",
       "Swiss francs                    278\n",
       "Norwegian krone (kr)            236\n",
       "Danish krone (kr)               235\n",
       "Mexican pesos (MXN$)            235\n",
       "South African rands (R)         218\n",
       "Chinese yuan renminbi (¥)       175\n",
       "Singapore dollars (S$)          108\n",
       "Japanese yen (¥)                106\n",
       "Bitcoin (btc)                    27\n",
       "Name: Currency, dtype: int64"
      ]
     },
     "execution_count": 156,
     "metadata": {},
     "output_type": "execute_result"
    }
   ],
   "source": [
    "# d2018.Currency.value_counts()"
   ]
  },
  {
   "cell_type": "code",
   "execution_count": 157,
   "id": "891ea3ae",
   "metadata": {},
   "outputs": [
    {
     "data": {
      "text/plain": [
       "Index(['Age', 'Gender', 'Currency', 'Salary', 'SalaryType', 'Country',\n",
       "       'EdLevel', 'UndergradMajor', 'lang_have', 'lang_want', 'Sexuality',\n",
       "       'Employment', 'year'],\n",
       "      dtype='object')"
      ]
     },
     "execution_count": 157,
     "metadata": {},
     "output_type": "execute_result"
    }
   ],
   "source": [
    "# d2018.columns"
   ]
  },
  {
   "cell_type": "code",
   "execution_count": 158,
   "id": "c77223b5",
   "metadata": {},
   "outputs": [
    {
     "data": {
      "text/plain": [
       "Yearly     16267\n",
       "Monthly    10370\n",
       "Weekly       836\n",
       "Name: SalaryType, dtype: int64"
      ]
     },
     "execution_count": 158,
     "metadata": {},
     "output_type": "execute_result"
    }
   ],
   "source": [
    "\n",
    "d2018['SalaryType'].value_counts()"
   ]
  },
  {
   "cell_type": "code",
   "execution_count": 159,
   "id": "d3a117f7",
   "metadata": {},
   "outputs": [],
   "source": [
    "#"
   ]
  },
  {
   "cell_type": "code",
   "execution_count": 160,
   "id": "19ce5fe6",
   "metadata": {},
   "outputs": [],
   "source": [
    "d2018[\"Currency\"] = d2018[\"Currency\"].map({\"Euros (€)\":0.848,\"Indian rupees (₹)\":68.422 ,\"U.S. dollars ($)\":1,\n",
    "                                           \"British pounds sterling (£)\":0.750 ,\"Canadian dollars (C$)\":1.297 ,\n",
    "                                          \"Russian rubles (₽)\":62.845 , \"Brazilian reais (R$)\":3.655 ,\"Australian dollars (A$)\"\n",
    "                                          :1.340 ,\"Polish złoty (zł)\":3.612 ,\"Swedish kroner (SEK)\":8.703 ,\"Swiss francs\":0.979 ,\n",
    "                                          \"Chinese yuan renminbi (¥)\":6.620 ,\"Danish krone (kr)\":6.319 ,\"Mexican pesos (MXN$)\":19.227 ,\n",
    "                                          \"South African rands (R)\":13.258 ,\"Norwegian krone (kr)\":8.143,\"Singapore dollars (S$)\":1.349 ,\n",
    "                                          \"Japanese yen (¥)\":110.424 ,\"Bitcoin (btc)\":0 })"
   ]
  },
  {
   "cell_type": "code",
   "execution_count": 161,
   "id": "6af3c0ec",
   "metadata": {},
   "outputs": [],
   "source": [
    "d2018['SalaryType'] =d2018['SalaryType'].map({\"Monthly\":12,\"Yearly\":1,\"Weekly\":48})"
   ]
  },
  {
   "cell_type": "code",
   "execution_count": 162,
   "id": "04aa65c4",
   "metadata": {},
   "outputs": [],
   "source": [
    "d2018['Salary'] = d2018['Salary'].apply(lambda x:x.replace(\",\",\"\").replace(\"nan\",\"0\"))\n",
    "d2018['Salary'] = d2018['Salary'].astype(float)"
   ]
  },
  {
   "cell_type": "code",
   "execution_count": 163,
   "id": "ceed9077",
   "metadata": {},
   "outputs": [],
   "source": [
    "d2018.reset_index(inplace=True)"
   ]
  },
  {
   "cell_type": "code",
   "execution_count": 164,
   "id": "422e2094",
   "metadata": {},
   "outputs": [],
   "source": [
    "d2018['salary'] = (d2018['Salary']*d2018['SalaryType'])/d2018[\"Currency\"]"
   ]
  },
  {
   "cell_type": "code",
   "execution_count": 165,
   "id": "a6964d70",
   "metadata": {},
   "outputs": [
    {
     "data": {
      "text/plain": [
       "0         51000.0\n",
       "1        260000.0\n",
       "2        120000.0\n",
       "3        250000.0\n",
       "4        120000.0\n",
       "           ...   \n",
       "27468         0.0\n",
       "27469     40000.0\n",
       "27470         0.0\n",
       "27471     70000.0\n",
       "27472         0.0\n",
       "Name: Salary, Length: 27473, dtype: float64"
      ]
     },
     "execution_count": 165,
     "metadata": {},
     "output_type": "execute_result"
    }
   ],
   "source": [
    "d2018['Salary']"
   ]
  },
  {
   "cell_type": "code",
   "execution_count": 166,
   "id": "3c52d874",
   "metadata": {},
   "outputs": [
    {
     "data": {
      "text/plain": [
       "1     16267\n",
       "12    10370\n",
       "48      836\n",
       "Name: SalaryType, dtype: int64"
      ]
     },
     "execution_count": 166,
     "metadata": {},
     "output_type": "execute_result"
    }
   ],
   "source": [
    "d2018['SalaryType'].value_counts()"
   ]
  },
  {
   "cell_type": "code",
   "execution_count": 167,
   "id": "12f58638",
   "metadata": {},
   "outputs": [
    {
     "data": {
      "text/plain": [
       "1.000      9382\n",
       "0.848      6878\n",
       "68.422     2526\n",
       "0.750      2464\n",
       "1.297      1121\n",
       "62.845      876\n",
       "3.655       799\n",
       "1.340       681\n",
       "3.612       670\n",
       "8.703       458\n",
       "0.979       278\n",
       "8.143       236\n",
       "6.319       235\n",
       "19.227      235\n",
       "13.258      218\n",
       "6.620       175\n",
       "1.349       108\n",
       "110.424     106\n",
       "0.000        27\n",
       "Name: Currency, dtype: int64"
      ]
     },
     "execution_count": 167,
     "metadata": {},
     "output_type": "execute_result"
    }
   ],
   "source": [
    "d2018[\"Currency\"].value_counts()"
   ]
  },
  {
   "cell_type": "code",
   "execution_count": 168,
   "id": "354bfb2e",
   "metadata": {},
   "outputs": [
    {
     "data": {
      "text/plain": [
       "0         68000.000000\n",
       "1         19610.801026\n",
       "2        120000.000000\n",
       "3        250000.000000\n",
       "4         89552.238806\n",
       "             ...      \n",
       "27468         0.000000\n",
       "27469     24964.893119\n",
       "27470         0.000000\n",
       "27471     93333.333333\n",
       "27472         0.000000\n",
       "Name: salary, Length: 27473, dtype: float64"
      ]
     },
     "execution_count": 168,
     "metadata": {},
     "output_type": "execute_result"
    }
   ],
   "source": [
    "d2018.salary"
   ]
  },
  {
   "cell_type": "code",
   "execution_count": 169,
   "id": "a8c8f7e6",
   "metadata": {},
   "outputs": [
    {
     "data": {
      "text/plain": [
       "2"
      ]
     },
     "execution_count": 169,
     "metadata": {},
     "output_type": "execute_result"
    }
   ],
   "source": [
    "d2018['salary'].isnull().sum()"
   ]
  },
  {
   "cell_type": "code",
   "execution_count": 170,
   "id": "31820e60",
   "metadata": {},
   "outputs": [
    {
     "data": {
      "text/plain": [
       "(27473, 15)"
      ]
     },
     "execution_count": 170,
     "metadata": {},
     "output_type": "execute_result"
    }
   ],
   "source": [
    "d2018.shape"
   ]
  },
  {
   "cell_type": "code",
   "execution_count": 171,
   "id": "5d331894",
   "metadata": {},
   "outputs": [],
   "source": [
    "d2018 = d2018[d2018['salary'] != 0]"
   ]
  },
  {
   "cell_type": "code",
   "execution_count": 172,
   "id": "d8ab3287",
   "metadata": {},
   "outputs": [
    {
     "data": {
      "text/plain": [
       "(27211, 15)"
      ]
     },
     "execution_count": 172,
     "metadata": {},
     "output_type": "execute_result"
    }
   ],
   "source": [
    "d2018.shape"
   ]
  },
  {
   "cell_type": "code",
   "execution_count": 173,
   "id": "de81f1ab",
   "metadata": {},
   "outputs": [
    {
     "data": {
      "text/plain": [
       "Index(['index', 'Age', 'Gender', 'Currency', 'Salary', 'SalaryType', 'Country',\n",
       "       'EdLevel', 'UndergradMajor', 'lang_have', 'lang_want', 'Sexuality',\n",
       "       'Employment', 'year', 'salary'],\n",
       "      dtype='object')"
      ]
     },
     "execution_count": 173,
     "metadata": {},
     "output_type": "execute_result"
    }
   ],
   "source": [
    "d2018.columns"
   ]
  },
  {
   "cell_type": "code",
   "execution_count": 174,
   "id": "6cb09c01",
   "metadata": {},
   "outputs": [
    {
     "name": "stderr",
     "output_type": "stream",
     "text": [
      "/tmp/ipykernel_31013/760843261.py:1: SettingWithCopyWarning: \n",
      "A value is trying to be set on a copy of a slice from a DataFrame\n",
      "\n",
      "See the caveats in the documentation: https://pandas.pydata.org/pandas-docs/stable/user_guide/indexing.html#returning-a-view-versus-a-copy\n",
      "  d2018.drop(columns = ['Currency', 'Salary', 'SalaryType'],inplace=True)\n"
     ]
    }
   ],
   "source": [
    "d2018.drop(columns = ['Currency', 'Salary', 'SalaryType'],inplace=True)"
   ]
  },
  {
   "cell_type": "code",
   "execution_count": 175,
   "id": "8e19104a",
   "metadata": {},
   "outputs": [
    {
     "data": {
      "text/plain": [
       "Index(['index', 'Age', 'Gender', 'Country', 'EdLevel', 'UndergradMajor',\n",
       "       'lang_have', 'lang_want', 'Sexuality', 'Employment', 'year', 'salary'],\n",
       "      dtype='object')"
      ]
     },
     "execution_count": 175,
     "metadata": {},
     "output_type": "execute_result"
    }
   ],
   "source": [
    "d2018.columns"
   ]
  },
  {
   "cell_type": "code",
   "execution_count": 176,
   "id": "02f8d6d6",
   "metadata": {},
   "outputs": [],
   "source": [
    "d2018.to_csv(\"d2018.csv\")"
   ]
  },
  {
   "cell_type": "markdown",
   "id": "c424ee72",
   "metadata": {},
   "source": [
    "For 2019"
   ]
  },
  {
   "cell_type": "code",
   "execution_count": 180,
   "id": "36c1d781",
   "metadata": {},
   "outputs": [
    {
     "data": {
      "text/plain": [
       "Index(['Age', 'Gender', 'Country', 'ConvertedComp', 'EdLevel',\n",
       "       'UndergradMajor', 'lang_have', 'lang_want', 'Sexuality', 'Employment',\n",
       "       'year'],\n",
       "      dtype='object')"
      ]
     },
     "execution_count": 180,
     "metadata": {},
     "output_type": "execute_result"
    }
   ],
   "source": [
    "\n",
    "d2019.columns"
   ]
  },
  {
   "cell_type": "code",
   "execution_count": 327,
   "id": "f3eb4727",
   "metadata": {},
   "outputs": [],
   "source": [
    "d2019.drop(columns = ['Currency', 'CompTotal', 'CompFreq'],inplace=True)"
   ]
  },
  {
   "cell_type": "code",
   "execution_count": 182,
   "id": "6b3e401b",
   "metadata": {},
   "outputs": [],
   "source": [
    "d2019.rename(columns = {\"ConvertedComp\":\"salary\"},inplace=True)"
   ]
  },
  {
   "cell_type": "code",
   "execution_count": 183,
   "id": "a0af3bd8",
   "metadata": {},
   "outputs": [],
   "source": [
    "d2019['salary'] = d2019['salary'].astype(float)\n",
    "\n"
   ]
  },
  {
   "cell_type": "markdown",
   "id": "53bafa13",
   "metadata": {},
   "source": [
    "For 2020"
   ]
  },
  {
   "cell_type": "code",
   "execution_count": 184,
   "id": "f769a9b3",
   "metadata": {},
   "outputs": [],
   "source": [
    "d2020.drop(columns = ['Currency', 'CompTotal', 'CompFreq'],inplace=True)"
   ]
  },
  {
   "cell_type": "code",
   "execution_count": 185,
   "id": "558dad07",
   "metadata": {},
   "outputs": [],
   "source": [
    "d2020.rename(columns = {\"ConvertedComp\":\"salary\"},inplace=True)"
   ]
  },
  {
   "cell_type": "code",
   "execution_count": 186,
   "id": "f1ecc12e",
   "metadata": {},
   "outputs": [],
   "source": [
    "d2020['salary'] = d2020['salary'].astype(float)\n"
   ]
  },
  {
   "cell_type": "markdown",
   "id": "1406e849",
   "metadata": {},
   "source": [
    "For 2021"
   ]
  },
  {
   "cell_type": "code",
   "execution_count": 187,
   "id": "ba8b156c",
   "metadata": {},
   "outputs": [
    {
     "data": {
      "text/plain": [
       "Index(['Age', 'Gender', 'Country', 'salary', 'EdLevel', 'lang_have',\n",
       "       'lang_want', 'Sexuality', 'Employment', 'year'],\n",
       "      dtype='object')"
      ]
     },
     "execution_count": 187,
     "metadata": {},
     "output_type": "execute_result"
    }
   ],
   "source": [
    "d2021.columns"
   ]
  },
  {
   "cell_type": "markdown",
   "id": "93911649",
   "metadata": {},
   "source": [
    "### Creating undergrad df with 2018,2019,and 2020"
   ]
  },
  {
   "cell_type": "code",
   "execution_count": 188,
   "id": "45d03052",
   "metadata": {},
   "outputs": [],
   "source": [
    "undergrad_df = pd.concat([d2018, d2019, d2020],axis = 0)"
   ]
  },
  {
   "cell_type": "code",
   "execution_count": 191,
   "id": "4721b41c",
   "metadata": {},
   "outputs": [],
   "source": [
    "# undergrad_df.drop(columns = (['Currency', 'Salary', 'SalaryType']),inplace = True)\n",
    "undergrad_df.reset_index(inplace=True)"
   ]
  },
  {
   "cell_type": "code",
   "execution_count": 192,
   "id": "ce66280f",
   "metadata": {},
   "outputs": [],
   "source": [
    "undergrad_df.to_csv(\"undergrad_df.csv\")\n"
   ]
  },
  {
   "cell_type": "markdown",
   "id": "76b56153",
   "metadata": {},
   "source": [
    "### Creating final concatenated df to work with"
   ]
  },
  {
   "cell_type": "code",
   "execution_count": 193,
   "id": "d3235ddd",
   "metadata": {},
   "outputs": [],
   "source": [
    "df = pd.concat([d2018,d2019,d2020,d2021],axis = 0)"
   ]
  },
  {
   "cell_type": "code",
   "execution_count": 208,
   "id": "9cbb4532",
   "metadata": {},
   "outputs": [
    {
     "data": {
      "text/plain": [
       "(134936, 10)"
      ]
     },
     "execution_count": 208,
     "metadata": {},
     "output_type": "execute_result"
    }
   ],
   "source": [
    "df.drop(columns = (['index']),inplace = True)\n",
    "df.shape"
   ]
  },
  {
   "cell_type": "code",
   "execution_count": 209,
   "id": "db0ca0b6",
   "metadata": {},
   "outputs": [
    {
     "data": {
      "text/plain": [
       "Index(['Age', 'Gender', 'Country', 'EdLevel', 'lang_have', 'lang_want',\n",
       "       'Sexuality', 'Employment', 'year', 'salary'],\n",
       "      dtype='object')"
      ]
     },
     "execution_count": 209,
     "metadata": {},
     "output_type": "execute_result"
    }
   ],
   "source": [
    "df.columns"
   ]
  },
  {
   "cell_type": "code",
   "execution_count": 210,
   "id": "ceea282e",
   "metadata": {},
   "outputs": [],
   "source": [
    "df.reset_index(inplace=True)"
   ]
  },
  {
   "cell_type": "code",
   "execution_count": 213,
   "id": "a431e046",
   "metadata": {},
   "outputs": [
    {
     "data": {
      "text/plain": [
       "(134936, 11)"
      ]
     },
     "execution_count": 213,
     "metadata": {},
     "output_type": "execute_result"
    }
   ],
   "source": [
    "df.shape"
   ]
  },
  {
   "cell_type": "code",
   "execution_count": 214,
   "id": "8df34805",
   "metadata": {},
   "outputs": [
    {
     "data": {
      "text/plain": [
       "(134934, 11)"
      ]
     },
     "execution_count": 214,
     "metadata": {},
     "output_type": "execute_result"
    }
   ],
   "source": [
    "df.dropna(inplace=True)\n",
    "df.shape"
   ]
  },
  {
   "cell_type": "markdown",
   "id": "551d762b",
   "metadata": {},
   "source": [
    "## Cleaning Age column"
   ]
  },
  {
   "cell_type": "code",
   "execution_count": 217,
   "id": "2e78141c",
   "metadata": {},
   "outputs": [
    {
     "data": {
      "text/plain": [
       "{'25-34 years old': 20506,\n",
       " '25 - 34 years old': 15296,\n",
       " '35-44 years old': 9578,\n",
       " '18-24 years old': 6486,\n",
       " '35 - 44 years old': 5294,\n",
       " '18 - 24 years old': 4864,\n",
       " 28.0: 4351,\n",
       " 25.0: 4336,\n",
       " 27.0: 4285,\n",
       " 26.0: 4235,\n",
       " 30.0: 4137,\n",
       " 29.0: 4017,\n",
       " 24.0: 3692,\n",
       " 31.0: 3171,\n",
       " 32.0: 3156,\n",
       " 23.0: 3063,\n",
       " '45-54 years old': 3045,\n",
       " 33.0: 2818,\n",
       " 34.0: 2499,\n",
       " 35.0: 2483,\n",
       " 36.0: 2105,\n",
       " 22.0: 1962,\n",
       " 37.0: 1846,\n",
       " 38.0: 1814,\n",
       " 39.0: 1421,\n",
       " '45 - 54 years old': 1372,\n",
       " 40.0: 1369,\n",
       " 42.0: 1009,\n",
       " 41.0: 966,\n",
       " 21.0: 948,\n",
       " '55-64 years old': 898,\n",
       " 43.0: 811,\n",
       " 44.0: 658,\n",
       " 45.0: 632,\n",
       " 46.0: 512,\n",
       " 48.0: 479,\n",
       " 47.0: 460,\n",
       " 50.0: 406,\n",
       " 49.0: 394,\n",
       " 20.0: 374,\n",
       " '55 - 64 years old': 338,\n",
       " 52.0: 290,\n",
       " 51.0: 284,\n",
       " 53.0: 265,\n",
       " 55.0: 215,\n",
       " 54.0: 214,\n",
       " 19.0: 175,\n",
       " 56.0: 167,\n",
       " 57.0: 139,\n",
       " '65 years or older': 138,\n",
       " 58.0: 118,\n",
       " 59.0: 111,\n",
       " 60.0: 99,\n",
       " 'Under 18 years old': 93,\n",
       " 62.0: 81,\n",
       " 63.0: 67,\n",
       " 61.0: 66,\n",
       " 18.0: 52,\n",
       " 'Prefer not to say': 46,\n",
       " 64.0: 46,\n",
       " 65.0: 33,\n",
       " 66.0: 21,\n",
       " 68.0: 12,\n",
       " 72.0: 12,\n",
       " 67.0: 11,\n",
       " 17.0: 11,\n",
       " 70.0: 9,\n",
       " 69.0: 7,\n",
       " 73.0: 7,\n",
       " 99.0: 6,\n",
       " 71.0: 5,\n",
       " 16.0: 5,\n",
       " 2.0: 4,\n",
       " 74.0: 3,\n",
       " 22.5: 2,\n",
       " 1.0: 2,\n",
       " 75.0: 2,\n",
       " 31.5: 2,\n",
       " 38.5: 1,\n",
       " 61.3: 1,\n",
       " 26.5: 1,\n",
       " 28.5: 1,\n",
       " 33.6: 1,\n",
       " 43.5: 1,\n",
       " 46.5: 1,\n",
       " 15.0: 1,\n",
       " 83.0: 1,\n",
       " 78.0: 1,\n",
       " 27.5: 1,\n",
       " 279.0: 1,\n",
       " 79.0: 1,\n",
       " 85.0: 1,\n",
       " 96.0: 1,\n",
       " 23.8: 1,\n",
       " 49.5: 1,\n",
       " 95.0: 1,\n",
       " 30.8: 1,\n",
       " 84.0: 1,\n",
       " 98.0: 1,\n",
       " 37.5: 1,\n",
       " 3.0: 1,\n",
       " 24.5: 1,\n",
       " 23.5: 1,\n",
       " 29.5: 1,\n",
       " 4.0: 1,\n",
       " 13.0: 1}"
      ]
     },
     "execution_count": 217,
     "metadata": {},
     "output_type": "execute_result"
    }
   ],
   "source": [
    "df.Age.value_counts().to_dict()"
   ]
  },
  {
   "cell_type": "code",
   "execution_count": 221,
   "id": "2dc45ca4",
   "metadata": {},
   "outputs": [],
   "source": [
    "df[\"Age\"] = df[\"Age\"].astype(str).apply(lambda x: x.split(\"years\")[0] if \"years\" in x.lower() else x)"
   ]
  },
  {
   "cell_type": "code",
   "execution_count": 224,
   "id": "3b0af0a1",
   "metadata": {},
   "outputs": [
    {
     "data": {
      "text/plain": [
       "{'25-34 ': 20506,\n",
       " '25 - 34 ': 15296,\n",
       " '35-44 ': 9578,\n",
       " '18-24 ': 6486,\n",
       " '35 - 44 ': 5294,\n",
       " '18 - 24 ': 4864,\n",
       " '28.0': 4351,\n",
       " '25.0': 4336,\n",
       " '27.0': 4285,\n",
       " '26.0': 4235,\n",
       " '30.0': 4137,\n",
       " '29.0': 4017,\n",
       " '24.0': 3692,\n",
       " '31.0': 3171,\n",
       " '32.0': 3156,\n",
       " '23.0': 3063,\n",
       " '45-54 ': 3045,\n",
       " '33.0': 2818,\n",
       " '34.0': 2499,\n",
       " '35.0': 2483,\n",
       " '36.0': 2105,\n",
       " '22.0': 1962,\n",
       " '37.0': 1846,\n",
       " '38.0': 1814,\n",
       " '39.0': 1421,\n",
       " '45 - 54 ': 1372,\n",
       " '40.0': 1369,\n",
       " '42.0': 1009,\n",
       " '41.0': 966,\n",
       " '21.0': 948,\n",
       " '55-64 ': 898,\n",
       " '43.0': 811,\n",
       " '44.0': 658,\n",
       " '45.0': 632,\n",
       " '46.0': 512,\n",
       " '48.0': 479,\n",
       " '47.0': 460,\n",
       " '50.0': 406,\n",
       " '49.0': 394,\n",
       " '20.0': 374,\n",
       " '55 - 64 ': 338,\n",
       " '52.0': 290,\n",
       " '51.0': 284,\n",
       " '53.0': 265,\n",
       " '55.0': 215,\n",
       " '54.0': 214,\n",
       " '19.0': 175,\n",
       " '56.0': 167,\n",
       " '57.0': 139,\n",
       " '65 ': 138,\n",
       " '58.0': 118,\n",
       " '59.0': 111,\n",
       " '60.0': 99,\n",
       " 'Under 18 ': 93,\n",
       " '62.0': 81,\n",
       " '63.0': 67,\n",
       " '61.0': 66,\n",
       " '18.0': 52,\n",
       " 'Prefer not to say': 46,\n",
       " '64.0': 46,\n",
       " '65.0': 33,\n",
       " '66.0': 21,\n",
       " '68.0': 12,\n",
       " '72.0': 12,\n",
       " '67.0': 11,\n",
       " '17.0': 11,\n",
       " '70.0': 9,\n",
       " '69.0': 7,\n",
       " '73.0': 7,\n",
       " '99.0': 6,\n",
       " '71.0': 5,\n",
       " '16.0': 5,\n",
       " '2.0': 4,\n",
       " '74.0': 3,\n",
       " '22.5': 2,\n",
       " '1.0': 2,\n",
       " '75.0': 2,\n",
       " '31.5': 2,\n",
       " '38.5': 1,\n",
       " '61.3': 1,\n",
       " '26.5': 1,\n",
       " '28.5': 1,\n",
       " '33.6': 1,\n",
       " '43.5': 1,\n",
       " '46.5': 1,\n",
       " '15.0': 1,\n",
       " '83.0': 1,\n",
       " '78.0': 1,\n",
       " '27.5': 1,\n",
       " '279.0': 1,\n",
       " '79.0': 1,\n",
       " '85.0': 1,\n",
       " '96.0': 1,\n",
       " '23.8': 1,\n",
       " '49.5': 1,\n",
       " '95.0': 1,\n",
       " '30.8': 1,\n",
       " '84.0': 1,\n",
       " '98.0': 1,\n",
       " '37.5': 1,\n",
       " '3.0': 1,\n",
       " '24.5': 1,\n",
       " '23.5': 1,\n",
       " '29.5': 1,\n",
       " '4.0': 1,\n",
       " '13.0': 1}"
      ]
     },
     "execution_count": 224,
     "metadata": {},
     "output_type": "execute_result"
    }
   ],
   "source": [
    "df[\"Age\"].value_counts().to_dict()"
   ]
  },
  {
   "cell_type": "code",
   "execution_count": 236,
   "id": "b7095767",
   "metadata": {},
   "outputs": [],
   "source": [
    "def clean_age(x):\n",
    "    if \"under\" in x.lower():\n",
    "        return \"18 below\"\n",
    "    if 'Prefer not to say' in x:\n",
    "        return \"na\"\n",
    "    if '25-34 ' in x:  \n",
    "        return '25-30'\n",
    "    if '25 - 34 ' in x:\n",
    "        return '31-35'\n",
    "    if '35-44 ' in x:\n",
    "        return '35-40'\n",
    "    if '35 - 44 ' in x:\n",
    "        return '41-44'\n",
    "    if '45-54 ' in x:\n",
    "        return '45-50'\n",
    "    if '45-54 ' in x:\n",
    "        return '45-50'\n",
    "    if '45 - 54 ' in x:\n",
    "        return '51-55'\n",
    "    if '55 - 64 ' in x:\n",
    "        return '61-64'\n",
    "    if '55-64 ' in x:\n",
    "        return '55-60'\n",
    "    if '18 - 24 ' in x:\n",
    "        return '18-24'\n",
    "    if '18-24 ' in x:\n",
    "        return '18-24'\n",
    "    if float(x) < 5 or float(x) > 85:\n",
    "        return \"na\"\n",
    "    if float(x) < 18:\n",
    "        return \"18 below\"\n",
    "    if 18 <= float(x) <= 25:\n",
    "        return '18-24'\n",
    "    if 18 <= float(x) <= 25:\n",
    "        return '18-24'\n",
    "    if 25 < float(x) <= 30:\n",
    "        return '25-30'\n",
    "    if 30 < float(x) <= 35:\n",
    "        return '31-35'\n",
    "    if 35 < float(x) <= 40:\n",
    "        return '35-40'\n",
    "    if 40 < float(x) <= 45:\n",
    "        return '41-44'\n",
    "    if 45 < float(x) <= 50:\n",
    "        return '45-50'\n",
    "    if 50 < float(x) <= 55:\n",
    "        return '51-55'\n",
    "    if 55 < float(x) <= 60:\n",
    "        return '55-60'\n",
    "    if 60 < float(x) <= 65:\n",
    "        return '61-65'\n",
    "    if float(x) > 65:\n",
    "        return \"65 above\""
   ]
  },
  {
   "cell_type": "code",
   "execution_count": 240,
   "id": "6fefbd95",
   "metadata": {},
   "outputs": [],
   "source": [
    "df[\"Age\"] = df[\"Age\"].apply(clean_age)"
   ]
  },
  {
   "cell_type": "code",
   "execution_count": 255,
   "id": "df25ec0c",
   "metadata": {},
   "outputs": [],
   "source": [
    "df = df[df.Age != 'na']"
   ]
  },
  {
   "cell_type": "code",
   "execution_count": 257,
   "id": "04ec7df5",
   "metadata": {},
   "outputs": [
    {
     "data": {
      "text/plain": [
       "Index(['index', 'Age', 'Gender', 'Country', 'EdLevel', 'lang_have',\n",
       "       'lang_want', 'Sexuality', 'Employment', 'year', 'salary'],\n",
       "      dtype='object')"
      ]
     },
     "execution_count": 257,
     "metadata": {},
     "output_type": "execute_result"
    }
   ],
   "source": [
    "df.columns"
   ]
  },
  {
   "cell_type": "markdown",
   "id": "007917b0",
   "metadata": {},
   "source": [
    "## Cleaning Gender Column"
   ]
  },
  {
   "cell_type": "code",
   "execution_count": 258,
   "id": "25d26e68",
   "metadata": {},
   "outputs": [
    {
     "data": {
      "text/plain": [
       "Man                                                                                   99583\n",
       "Male                                                                                  25173\n",
       "Woman                                                                                  6280\n",
       "Female                                                                                 1662\n",
       "Non-binary, genderqueer, or gender non-conforming                                       754\n",
       "Prefer not to say                                                                       370\n",
       "Man;Non-binary, genderqueer, or gender non-conforming                                   280\n",
       "Woman;Non-binary, genderqueer, or gender non-conforming                                 191\n",
       "Or, in your own words:                                                                  119\n",
       "Man;Or, in your own words:                                                              104\n",
       "Female;Transgender                                                                       61\n",
       "Male;Non-binary, genderqueer, or gender non-conforming                                   49\n",
       "Transgender                                                                              35\n",
       "Woman;Man                                                                                34\n",
       "Female;Non-binary, genderqueer, or gender non-conforming                                 29\n",
       "Transgender;Non-binary, genderqueer, or gender non-conforming                            26\n",
       "Female;Male                                                                              20\n",
       "Male;Transgender                                                                         19\n",
       "Woman;Man;Non-binary, genderqueer, or gender non-conforming                              14\n",
       "Female;Male;Transgender;Non-binary, genderqueer, or gender non-conforming                11\n",
       "Female;Transgender;Non-binary, genderqueer, or gender non-conforming                     11\n",
       "Man;Woman                                                                                 8\n",
       "Non-binary, genderqueer, or gender non-conforming;Or, in your own words:                  7\n",
       "Man;Woman;Non-binary, genderqueer, or gender non-conforming;Or, in your own words:        6\n",
       "Man;Non-binary, genderqueer, or gender non-conforming;Or, in your own words:              5\n",
       "Woman;Non-binary, genderqueer, or gender non-conforming;Or, in your own words:            5\n",
       "Man;Woman;Non-binary, genderqueer, or gender non-conforming                               4\n",
       "Woman;Or, in your own words:                                                              3\n",
       "Female;Male;Transgender                                                                   3\n",
       "Male;Transgender;Non-binary, genderqueer, or gender non-conforming                        2\n",
       "Female;Male;Non-binary, genderqueer, or gender non-conforming                             1\n",
       "Man;Woman;Or, in your own words:                                                          1\n",
       "Name: Gender, dtype: int64"
      ]
     },
     "execution_count": 258,
     "metadata": {},
     "output_type": "execute_result"
    }
   ],
   "source": [
    "df.Gender.value_counts()"
   ]
  },
  {
   "cell_type": "code",
   "execution_count": 260,
   "id": "661899b2",
   "metadata": {},
   "outputs": [],
   "source": [
    "def clean_gender(x):\n",
    "    if 'transgender' in x.lower():\n",
    "        return 'Transgender'\n",
    "    if 'non-binary' in x.lower() or 'genderqueer' in x.lower() or 'non-conforming' in x.lower():\n",
    "        return 'Non-binary/Genderqueer/Non-Conforming'\n",
    "    if 'in your own words' in x.lower():\n",
    "        return 'Self-description'\n",
    "    if 'prefer not to say' in x.lower():\n",
    "        return 'prefer not to say'\n",
    "    if 'woman' in x.lower() or \"female\" in x.lower():\n",
    "        return \"Female\"\n",
    "    if 'man' in x.lower() or 'male' in x.lower():\n",
    "        return \"Male\"\n"
   ]
  },
  {
   "cell_type": "code",
   "execution_count": 263,
   "id": "1f036647",
   "metadata": {},
   "outputs": [
    {
     "name": "stderr",
     "output_type": "stream",
     "text": [
      "/tmp/ipykernel_31013/2046542616.py:1: SettingWithCopyWarning: \n",
      "A value is trying to be set on a copy of a slice from a DataFrame.\n",
      "Try using .loc[row_indexer,col_indexer] = value instead\n",
      "\n",
      "See the caveats in the documentation: https://pandas.pydata.org/pandas-docs/stable/user_guide/indexing.html#returning-a-view-versus-a-copy\n",
      "  df['Gender'] = df['Gender'].apply(clean_gender)\n"
     ]
    }
   ],
   "source": [
    "df['Gender'] = df['Gender'].apply(clean_gender)"
   ]
  },
  {
   "cell_type": "markdown",
   "id": "1f17da5a",
   "metadata": {},
   "source": [
    "## Clean Country column"
   ]
  },
  {
   "cell_type": "code",
   "execution_count": 269,
   "id": "49d1a426",
   "metadata": {},
   "outputs": [
    {
     "data": {
      "text/plain": [
       "{'Afghanistan': 18,\n",
       " 'Albania': 96,\n",
       " 'Algeria': 52,\n",
       " 'Andorra': 3,\n",
       " 'Angola': 7,\n",
       " 'Argentina': 931,\n",
       " 'Armenia': 102,\n",
       " 'Australia': 2987,\n",
       " 'Austria': 1180,\n",
       " 'Azerbaijan': 65,\n",
       " 'Bahamas': 1,\n",
       " 'Bahrain': 16,\n",
       " 'Bangladesh': 518,\n",
       " 'Barbados': 8,\n",
       " 'Belarus': 319,\n",
       " 'Belgium': 1248,\n",
       " 'Belize': 3,\n",
       " 'Benin': 8,\n",
       " 'Bhutan': 5,\n",
       " 'Bolivia': 68,\n",
       " 'Bosnia and Herzegovina': 160,\n",
       " 'Botswana': 10,\n",
       " 'Brazil': 4320,\n",
       " 'Brunei Darussalam': 2,\n",
       " 'Bulgaria': 692,\n",
       " 'Burkina Faso': 1,\n",
       " 'Burundi': 3,\n",
       " 'Cambodia': 21,\n",
       " 'Cameroon': 41,\n",
       " 'Canada': 5335,\n",
       " 'Cape Verde': 1,\n",
       " 'Chile': 343,\n",
       " 'China': 630,\n",
       " 'Colombia': 593,\n",
       " 'Congo, Republic of the...': 8,\n",
       " 'Costa Rica': 133,\n",
       " 'Croatia': 398,\n",
       " 'Cuba': 61,\n",
       " 'Cyprus': 83,\n",
       " 'Czech Republic': 995,\n",
       " \"Côte d'Ivoire\": 22,\n",
       " \"Democratic People's Republic of Korea\": 1,\n",
       " 'Democratic Republic of the Congo': 11,\n",
       " 'Denmark': 1096,\n",
       " 'Djibouti': 1,\n",
       " 'Dominica': 1,\n",
       " 'Dominican Republic': 161,\n",
       " 'Ecuador': 147,\n",
       " 'Egypt': 367,\n",
       " 'El Salvador': 86,\n",
       " 'Estonia': 323,\n",
       " 'Ethiopia': 52,\n",
       " 'Fiji': 4,\n",
       " 'Finland': 980,\n",
       " 'France': 4573,\n",
       " 'Gambia': 1,\n",
       " 'Georgia': 141,\n",
       " 'Germany': 8805,\n",
       " 'Ghana': 74,\n",
       " 'Greece': 854,\n",
       " 'Guatemala': 98,\n",
       " 'Guinea': 2,\n",
       " 'Guyana': 4,\n",
       " 'Haiti': 5,\n",
       " 'Honduras': 37,\n",
       " 'Hong Kong (S.A.R.)': 217,\n",
       " 'Hungary': 698,\n",
       " 'Iceland': 76,\n",
       " 'India': 9997,\n",
       " 'Indonesia': 462,\n",
       " 'Iran': 468,\n",
       " 'Iran, Islamic Republic of...': 383,\n",
       " 'Iraq': 26,\n",
       " 'Ireland': 868,\n",
       " 'Isle of Man': 6,\n",
       " 'Israel': 1059,\n",
       " 'Italy': 2304,\n",
       " 'Jamaica': 25,\n",
       " 'Japan': 657,\n",
       " 'Jordan': 75,\n",
       " 'Kazakhstan': 100,\n",
       " 'Kenya': 257,\n",
       " 'Kosovo': 28,\n",
       " 'Kuwait': 23,\n",
       " 'Kyrgyzstan': 31,\n",
       " \"Lao People's Democratic Republic\": 4,\n",
       " 'Latvia': 237,\n",
       " 'Lebanon': 135,\n",
       " 'Lesotho': 6,\n",
       " 'Libyan Arab Jamahiriya': 5,\n",
       " 'Liechtenstein': 1,\n",
       " 'Lithuania': 422,\n",
       " 'Luxembourg': 92,\n",
       " 'Madagascar': 22,\n",
       " 'Malawi': 6,\n",
       " 'Malaysia': 321,\n",
       " 'Maldives': 13,\n",
       " 'Mali': 1,\n",
       " 'Malta': 111,\n",
       " 'Mauritius': 31,\n",
       " 'Mexico': 1313,\n",
       " 'Monaco': 4,\n",
       " 'Mongolia': 16,\n",
       " 'Montenegro': 24,\n",
       " 'Morocco': 118,\n",
       " 'Mozambique': 7,\n",
       " 'Myanmar': 31,\n",
       " 'Namibia': 10,\n",
       " 'Nepal': 203,\n",
       " 'Netherlands': 3101,\n",
       " 'New Zealand': 735,\n",
       " 'Nicaragua': 54,\n",
       " 'Niger': 2,\n",
       " 'Nigeria': 401,\n",
       " 'Nomadic': 24,\n",
       " 'North Korea': 1,\n",
       " 'Norway': 1167,\n",
       " 'Oman': 9,\n",
       " 'Other Country (Not Listed Above)': 62,\n",
       " 'Pakistan': 792,\n",
       " 'Palestine': 9,\n",
       " 'Panama': 58,\n",
       " 'Paraguay': 81,\n",
       " 'Peru': 201,\n",
       " 'Philippines': 367,\n",
       " 'Poland': 3351,\n",
       " 'Portugal': 959,\n",
       " 'Qatar': 20,\n",
       " 'Republic of Korea': 45,\n",
       " 'Republic of Moldova': 76,\n",
       " 'Romania': 1055,\n",
       " 'Russian Federation': 3067,\n",
       " 'Rwanda': 18,\n",
       " 'Saint Kitts and Nevis': 1,\n",
       " 'Saint Lucia': 1,\n",
       " 'Saint Vincent and the Grenadines': 1,\n",
       " 'San Marino': 2,\n",
       " 'Saudi Arabia': 94,\n",
       " 'Senegal': 18,\n",
       " 'Serbia': 539,\n",
       " 'Seychelles': 1,\n",
       " 'Sierra Leone': 1,\n",
       " 'Singapore': 444,\n",
       " 'Slovakia': 361,\n",
       " 'Slovenia': 422,\n",
       " 'Somalia': 8,\n",
       " 'South Africa': 1027,\n",
       " 'South Korea': 173,\n",
       " 'Spain': 3124,\n",
       " 'Sri Lanka': 366,\n",
       " 'Sudan': 25,\n",
       " 'Suriname': 2,\n",
       " 'Swaziland': 10,\n",
       " 'Sweden': 2264,\n",
       " 'Switzerland': 1478,\n",
       " 'Syrian Arab Republic': 31,\n",
       " 'Taiwan': 255,\n",
       " 'Tajikistan': 5,\n",
       " 'Thailand': 181,\n",
       " 'The former Yugoslav Republic of Macedonia': 76,\n",
       " 'Togo': 7,\n",
       " 'Trinidad and Tobago': 23,\n",
       " 'Tunisia': 97,\n",
       " 'Turkey': 1089,\n",
       " 'Turkmenistan': 7,\n",
       " 'Uganda': 72,\n",
       " 'Ukraine': 1303,\n",
       " 'United Arab Emirates': 167,\n",
       " 'United Kingdom': 7393,\n",
       " 'United Kingdom of Great Britain and Northern Ireland': 2582,\n",
       " 'United Republic of Tanzania': 44,\n",
       " 'United States': 25882,\n",
       " 'United States of America': 8696,\n",
       " 'Uruguay': 252,\n",
       " 'Uzbekistan': 51,\n",
       " 'Venezuela, Bolivarian Republic of...': 139,\n",
       " 'Viet Nam': 221,\n",
       " 'Yemen': 15,\n",
       " 'Zambia': 19,\n",
       " 'Zimbabwe': 42}"
      ]
     },
     "execution_count": 269,
     "metadata": {},
     "output_type": "execute_result"
    }
   ],
   "source": [
    "df.Country.value_counts().sort_values().to_dict()"
   ]
  },
  {
   "cell_type": "code",
   "execution_count": 278,
   "id": "00c2d502",
   "metadata": {},
   "outputs": [],
   "source": [
    "def clean_country(x):\n",
    "    if 'congo' in x.lower():\n",
    "        return 'Republic of Congo'\n",
    "    if 'iran' in x.lower() and 'islam' in x.lower():\n",
    "        return 'Iran'\n",
    "    if 'dominica' in x.lower():\n",
    "        return 'Dominican Republic'\n",
    "    if \"Democratic People's Republic of Korea\" in x.lower() and \"north korea\" in x.lower():\n",
    "        return 'North Korea'\n",
    "    if 'united states' in x.lower():\n",
    "        return \"USA\"\n",
    "    if 'united kingdom' in x.lower():\n",
    "        return \"UK\"\n",
    "    else :\n",
    "        return x\n",
    "    "
   ]
  },
  {
   "cell_type": "code",
   "execution_count": 279,
   "id": "96e821b3",
   "metadata": {},
   "outputs": [
    {
     "name": "stderr",
     "output_type": "stream",
     "text": [
      "/tmp/ipykernel_31013/3401064559.py:1: SettingWithCopyWarning: \n",
      "A value is trying to be set on a copy of a slice from a DataFrame.\n",
      "Try using .loc[row_indexer,col_indexer] = value instead\n",
      "\n",
      "See the caveats in the documentation: https://pandas.pydata.org/pandas-docs/stable/user_guide/indexing.html#returning-a-view-versus-a-copy\n",
      "  df[\"Country\"] = df[\"Country\"].apply(clean_country)\n"
     ]
    }
   ],
   "source": [
    "df[\"Country\"] = df[\"Country\"].apply(clean_country)"
   ]
  },
  {
   "cell_type": "code",
   "execution_count": 277,
   "id": "88017a09",
   "metadata": {},
   "outputs": [
    {
     "data": {
      "text/plain": [
       "{'North Korea': 1,\n",
       " 'Cape Verde': 1,\n",
       " 'Saint Vincent and the Grenadines': 1,\n",
       " 'Saint Lucia': 1,\n",
       " 'Burkina Faso': 1,\n",
       " 'Djibouti': 1,\n",
       " \"Democratic People's Republic of Korea\": 1,\n",
       " 'Sierra Leone': 1,\n",
       " 'Gambia': 1,\n",
       " 'Liechtenstein': 1,\n",
       " 'Seychelles': 1,\n",
       " 'Saint Kitts and Nevis': 1,\n",
       " 'Bahamas': 1,\n",
       " 'Mali': 1,\n",
       " 'Suriname': 2,\n",
       " 'San Marino': 2,\n",
       " 'Niger': 2,\n",
       " 'Guinea': 2,\n",
       " 'Brunei Darussalam': 2,\n",
       " 'Belize': 3,\n",
       " 'Burundi': 3,\n",
       " 'Andorra': 3,\n",
       " 'Fiji': 4,\n",
       " 'Guyana': 4,\n",
       " 'Monaco': 4,\n",
       " \"Lao People's Democratic Republic\": 4,\n",
       " 'Tajikistan': 5,\n",
       " 'Libyan Arab Jamahiriya': 5,\n",
       " 'Bhutan': 5,\n",
       " 'Haiti': 5,\n",
       " 'Lesotho': 6,\n",
       " 'Isle of Man': 6,\n",
       " 'Malawi': 6,\n",
       " 'Turkmenistan': 7,\n",
       " 'Mozambique': 7,\n",
       " 'Angola': 7,\n",
       " 'Togo': 7,\n",
       " 'Somalia': 8,\n",
       " 'Benin': 8,\n",
       " 'Barbados': 8,\n",
       " 'Oman': 9,\n",
       " 'Palestine': 9,\n",
       " 'Namibia': 10,\n",
       " 'Swaziland': 10,\n",
       " 'Botswana': 10,\n",
       " 'Maldives': 13,\n",
       " 'Yemen': 15,\n",
       " 'Bahrain': 16,\n",
       " 'Mongolia': 16,\n",
       " 'Afghanistan': 18,\n",
       " 'Senegal': 18,\n",
       " 'Rwanda': 18,\n",
       " 'Republic of Congo': 19,\n",
       " 'Zambia': 19,\n",
       " 'Qatar': 20,\n",
       " 'Cambodia': 21,\n",
       " \"Côte d'Ivoire\": 22,\n",
       " 'Madagascar': 22,\n",
       " 'Trinidad and Tobago': 23,\n",
       " 'Kuwait': 23,\n",
       " 'Montenegro': 24,\n",
       " 'Nomadic': 24,\n",
       " 'Sudan': 25,\n",
       " 'Jamaica': 25,\n",
       " 'Iraq': 26,\n",
       " 'Kosovo': 28,\n",
       " 'Mauritius': 31,\n",
       " 'Syrian Arab Republic': 31,\n",
       " 'Myanmar': 31,\n",
       " 'Kyrgyzstan': 31,\n",
       " 'Honduras': 37,\n",
       " 'Cameroon': 41,\n",
       " 'Zimbabwe': 42,\n",
       " 'United Republic of Tanzania': 44,\n",
       " 'Republic of Korea': 45,\n",
       " 'Uzbekistan': 51,\n",
       " 'Ethiopia': 52,\n",
       " 'Algeria': 52,\n",
       " 'Nicaragua': 54,\n",
       " 'Panama': 58,\n",
       " 'Cuba': 61,\n",
       " 'Other Country (Not Listed Above)': 62,\n",
       " 'Azerbaijan': 65,\n",
       " 'Bolivia': 68,\n",
       " 'Uganda': 72,\n",
       " 'Ghana': 74,\n",
       " 'Jordan': 75,\n",
       " 'Republic of Moldova': 76,\n",
       " 'The former Yugoslav Republic of Macedonia': 76,\n",
       " 'Iceland': 76,\n",
       " 'Paraguay': 81,\n",
       " 'Cyprus': 83,\n",
       " 'El Salvador': 86,\n",
       " 'Luxembourg': 92,\n",
       " 'Saudi Arabia': 94,\n",
       " 'Albania': 96,\n",
       " 'Tunisia': 97,\n",
       " 'Guatemala': 98,\n",
       " 'Kazakhstan': 100,\n",
       " 'Armenia': 102,\n",
       " 'Malta': 111,\n",
       " 'Morocco': 118,\n",
       " 'Costa Rica': 133,\n",
       " 'Lebanon': 135,\n",
       " 'Venezuela, Bolivarian Republic of...': 139,\n",
       " 'Georgia': 141,\n",
       " 'Ecuador': 147,\n",
       " 'Bosnia and Herzegovina': 160,\n",
       " 'Dominican Republic': 162,\n",
       " 'United Arab Emirates': 167,\n",
       " 'South Korea': 173,\n",
       " 'Thailand': 181,\n",
       " 'Peru': 201,\n",
       " 'Nepal': 203,\n",
       " 'Hong Kong (S.A.R.)': 217,\n",
       " 'Viet Nam': 221,\n",
       " 'Latvia': 237,\n",
       " 'Uruguay': 252,\n",
       " 'Taiwan': 255,\n",
       " 'Kenya': 257,\n",
       " 'Belarus': 319,\n",
       " 'Malaysia': 321,\n",
       " 'Estonia': 323,\n",
       " 'Chile': 343,\n",
       " 'Slovakia': 361,\n",
       " 'Sri Lanka': 366,\n",
       " 'Egypt': 367,\n",
       " 'Philippines': 367,\n",
       " 'Croatia': 398,\n",
       " 'Nigeria': 401,\n",
       " 'Lithuania': 422,\n",
       " 'Slovenia': 422,\n",
       " 'Singapore': 444,\n",
       " 'Indonesia': 462,\n",
       " 'Bangladesh': 518,\n",
       " 'Serbia': 539,\n",
       " 'Colombia': 593,\n",
       " 'China': 630,\n",
       " 'Japan': 657,\n",
       " 'Bulgaria': 692,\n",
       " 'Hungary': 698,\n",
       " 'New Zealand': 735,\n",
       " 'Pakistan': 792,\n",
       " 'Iran': 851,\n",
       " 'Greece': 854,\n",
       " 'Ireland': 868,\n",
       " 'Argentina': 931,\n",
       " 'Portugal': 959,\n",
       " 'Finland': 980,\n",
       " 'Czech Republic': 995,\n",
       " 'South Africa': 1027,\n",
       " 'Romania': 1055,\n",
       " 'Israel': 1059,\n",
       " 'Turkey': 1089,\n",
       " 'Denmark': 1096,\n",
       " 'Norway': 1167,\n",
       " 'Austria': 1180,\n",
       " 'Belgium': 1248,\n",
       " 'Ukraine': 1303,\n",
       " 'Mexico': 1313,\n",
       " 'Switzerland': 1478,\n",
       " 'Sweden': 2264,\n",
       " 'Italy': 2304,\n",
       " 'Australia': 2987,\n",
       " 'Russian Federation': 3067,\n",
       " 'Netherlands': 3101,\n",
       " 'Spain': 3124,\n",
       " 'Poland': 3351,\n",
       " 'Brazil': 4320,\n",
       " 'France': 4573,\n",
       " 'Canada': 5335,\n",
       " 'Germany': 8805,\n",
       " 'UK': 9975,\n",
       " 'India': 9997,\n",
       " 'USA': 34578}"
      ]
     },
     "execution_count": 277,
     "metadata": {},
     "output_type": "execute_result"
    }
   ],
   "source": []
  },
  {
   "cell_type": "markdown",
   "id": "9d00f2b5",
   "metadata": {},
   "source": [
    "## Cleaning Education level column"
   ]
  },
  {
   "cell_type": "code",
   "execution_count": 280,
   "id": "6aa11e30",
   "metadata": {},
   "outputs": [
    {
     "data": {
      "text/plain": [
       "Bachelor’s degree (BA, BS, B.Eng., etc.)                                              36623\n",
       "Bachelor’s degree (B.A., B.S., B.Eng., etc.)                                          32096\n",
       "Master’s degree (MA, MS, M.Eng., MBA, etc.)                                           18540\n",
       "Some college/university study without earning a degree                                17439\n",
       "Master’s degree (M.A., M.S., M.Eng., MBA, etc.)                                       16844\n",
       "Associate degree                                                                       2447\n",
       "Other doctoral degree (Ph.D., Ed.D., etc.)                                             2291\n",
       "Other doctoral degree (Ph.D, Ed.D., etc.)                                              2132\n",
       "Associate degree (A.A., A.S., etc.)                                                    2074\n",
       "Professional degree (JD, MD, etc.)                                                     2025\n",
       "Secondary school (e.g. American high school, German Realschule or Gymnasium, etc.)     1771\n",
       "Something else                                                                          395\n",
       "Primary/elementary school                                                               193\n",
       "Name: EdLevel, dtype: int64"
      ]
     },
     "execution_count": 280,
     "metadata": {},
     "output_type": "execute_result"
    }
   ],
   "source": [
    "df.EdLevel.value_counts()"
   ]
  },
  {
   "cell_type": "code",
   "execution_count": 281,
   "id": "d4ff5c18",
   "metadata": {},
   "outputs": [],
   "source": [
    "def clean_edu (x):\n",
    "    if \"bachelor\" in x.lower():\n",
    "        return \"Graduate\"\n",
    "    if 'master' in x.lower():\n",
    "        return \"Post-graduate\"\n",
    "    if \"doctoral\" in x.lower():\n",
    "        return \"Doctorate\"\n",
    "    if \"associate\" in x.lower() or \"professional\" in x.lower() or \"some college\" in x.lower():\n",
    "        return \"Diploma/professional \"\n",
    "    if \"school\" in x.lower() or \"something else\" in x.lower():\n",
    "        return \"Below graduation\"\n",
    "    \n",
    "    "
   ]
  },
  {
   "cell_type": "code",
   "execution_count": 285,
   "id": "5c562418",
   "metadata": {},
   "outputs": [
    {
     "name": "stderr",
     "output_type": "stream",
     "text": [
      "/tmp/ipykernel_31013/1949680107.py:1: SettingWithCopyWarning: \n",
      "A value is trying to be set on a copy of a slice from a DataFrame.\n",
      "Try using .loc[row_indexer,col_indexer] = value instead\n",
      "\n",
      "See the caveats in the documentation: https://pandas.pydata.org/pandas-docs/stable/user_guide/indexing.html#returning-a-view-versus-a-copy\n",
      "  df[\"EdLevel\"] = df[\"EdLevel\"].apply(clean_edu)\n"
     ]
    }
   ],
   "source": [
    "df[\"EdLevel\"] = df[\"EdLevel\"].apply(clean_edu)"
   ]
  },
  {
   "cell_type": "code",
   "execution_count": 287,
   "id": "dec9e5de",
   "metadata": {},
   "outputs": [
    {
     "data": {
      "text/plain": [
       "Graduate                 68719\n",
       "Post-graduate            35384\n",
       "Diploma/professional     23985\n",
       "Doctorate                 4423\n",
       "Below graduation          2359\n",
       "Name: EdLevel, dtype: int64"
      ]
     },
     "execution_count": 287,
     "metadata": {},
     "output_type": "execute_result"
    }
   ],
   "source": [
    "df[\"EdLevel\"].value_counts()"
   ]
  },
  {
   "cell_type": "markdown",
   "id": "b93a8ce4",
   "metadata": {},
   "source": [
    "## Clean language want to work with and language working with "
   ]
  },
  {
   "cell_type": "code",
   "execution_count": 294,
   "id": "10134f23",
   "metadata": {},
   "outputs": [],
   "source": [
    "df['lang_have'] = df['lang_have'].apply(lambda x: x.replace(\"/\",\" \").replace(\";\",\" \") ) "
   ]
  },
  {
   "cell_type": "code",
   "execution_count": 295,
   "id": "bcb7fab0",
   "metadata": {},
   "outputs": [],
   "source": [
    "df['lang_want'] = df['lang_want'].apply(lambda x: x.replace(\"/\",\" \").replace(\";\",\" \") ) "
   ]
  },
  {
   "cell_type": "code",
   "execution_count": 298,
   "id": "83b5ef8e",
   "metadata": {},
   "outputs": [
    {
     "data": {
      "text/plain": [
       "Straight / Heterosexual                                                           97059\n",
       "Straight or heterosexual                                                          25082\n",
       "Bisexual                                                                           4142\n",
       "Gay or Lesbian                                                                     2884\n",
       "Prefer not to say                                                                  1688\n",
       "Bisexual or Queer                                                                   918\n",
       "Prefer to self-describe:                                                            509\n",
       "Bisexual;Straight / Heterosexual                                                    407\n",
       "Queer                                                                               306\n",
       "Straight / Heterosexual;Bisexual                                                    304\n",
       "Bisexual;Queer                                                                      280\n",
       "Asexual                                                                             234\n",
       "Straight or heterosexual;Bisexual or Queer                                          168\n",
       "Straight / Heterosexual;Prefer to self-describe:                                    126\n",
       "Gay or Lesbian;Queer                                                                124\n",
       "Bisexual;Gay or Lesbian                                                             109\n",
       "Straight or heterosexual;Asexual                                                    101\n",
       "Straight / Heterosexual;Queer                                                        84\n",
       "Gay or Lesbian;Bisexual or Queer                                                     46\n",
       "Bisexual;Gay or Lesbian;Queer                                                        34\n",
       "Prefer to self-describe:;Queer                                                       30\n",
       "Bisexual or Queer;Asexual                                                            27\n",
       "Bisexual;Gay or Lesbian;Straight / Heterosexual                                      24\n",
       "Straight or heterosexual;Gay or Lesbian;Bisexual or Queer;Asexual                    22\n",
       "Gay or Lesbian;Straight / Heterosexual                                               18\n",
       "Bisexual;Prefer to self-describe:;Queer                                              15\n",
       "Gay or Lesbian;Asexual                                                               13\n",
       "Bisexual;Prefer to self-describe:                                                    13\n",
       "Bisexual;Gay or Lesbian;Straight / Heterosexual;Queer                                11\n",
       "Straight or heterosexual;Bisexual or Queer;Asexual                                   11\n",
       "Straight / Heterosexual;Bisexual;Gay or Lesbian                                      10\n",
       "Straight / Heterosexual;Gay or Lesbian                                                8\n",
       "Prefer to self-describe:;Gay or Lesbian;Queer                                         7\n",
       "Straight or heterosexual;Gay or Lesbian;Bisexual or Queer                             7\n",
       "Straight / Heterosexual;Bisexual;Queer                                                7\n",
       "Straight or heterosexual;Gay or Lesbian                                               7\n",
       "Gay or Lesbian;Bisexual or Queer;Asexual                                              6\n",
       "Straight / Heterosexual;Bisexual;Gay or Lesbian;Queer                                 5\n",
       "Straight / Heterosexual;Prefer to self-describe:;Queer                                4\n",
       "Bisexual;Straight / Heterosexual;Queer                                                4\n",
       "Straight / Heterosexual;Bisexual;Prefer to self-describe:                             4\n",
       "Straight / Heterosexual;Bisexual;Prefer to self-describe:;Gay or Lesbian;Queer        3\n",
       "Bisexual;Prefer to self-describe:;Gay or Lesbian;Queer                                3\n",
       "Bisexual;Prefer to self-describe:;Gay or Lesbian                                      2\n",
       "Prefer to self-describe:;Gay or Lesbian                                               2\n",
       "Straight / Heterosexual;Bisexual;Prefer to self-describe:;Gay or Lesbian              1\n",
       "Straight / Heterosexual;Bisexual;Prefer to self-describe:;Queer                       1\n",
       "Name: Sexuality, dtype: int64"
      ]
     },
     "execution_count": 298,
     "metadata": {},
     "output_type": "execute_result"
    }
   ],
   "source": [
    "df.Sexuality.value_counts()"
   ]
  },
  {
   "cell_type": "code",
   "execution_count": 299,
   "id": "03083d74",
   "metadata": {},
   "outputs": [],
   "source": [
    "def clean_sexuality(x):\n",
    "    if 'asexual' in x.lower():\n",
    "        return \"Asexual\"\n",
    "    if \"queer\" in x.lower() :\n",
    "        return \"Queer\"\n",
    "    if \"self-describe\" in x.lower():\n",
    "        return \"Prefer to self-describe\"\n",
    "    if \"prefer not to say\" in x.lower():\n",
    "        return \"Prefer not to say\"\n",
    "    if \"gay\" in x.lower() or \"lesbian\" in x.lower():\n",
    "        return \"Gay or Lesbian\"\n",
    "    if \"bisexual\" in x.lower():\n",
    "        return \"Bisexual\"\n",
    "    if \"straight\" in x.lower() or \"heterosexual\" in x.lower():\n",
    "        return \"Straigh/Heterosexual\""
   ]
  },
  {
   "cell_type": "code",
   "execution_count": 300,
   "id": "f2f2d09d",
   "metadata": {},
   "outputs": [],
   "source": [
    "sexuality =df.Sexuality.apply(clean_sexuality)"
   ]
  },
  {
   "cell_type": "code",
   "execution_count": 302,
   "id": "a7abb250",
   "metadata": {},
   "outputs": [
    {
     "data": {
      "text/plain": [
       "(134870,)"
      ]
     },
     "execution_count": 302,
     "metadata": {},
     "output_type": "execute_result"
    }
   ],
   "source": [
    "sexuality.shape"
   ]
  },
  {
   "cell_type": "code",
   "execution_count": 310,
   "id": "e161f226",
   "metadata": {},
   "outputs": [
    {
     "data": {
      "text/plain": [
       "Employed full-time                                      118374\n",
       "Independent contractor, freelancer, or self-employed     11587\n",
       "Employed part-time                                        4291\n",
       "Not employed, but looking for work                         439\n",
       "Not employed, and not looking for work                     131\n",
       "Retired                                                     25\n",
       "I prefer not to say                                         23\n",
       "Name: Employment, dtype: int64"
      ]
     },
     "execution_count": 310,
     "metadata": {},
     "output_type": "execute_result"
    }
   ],
   "source": [
    "df.Employment.value_counts()\n"
   ]
  },
  {
   "cell_type": "code",
   "execution_count": 312,
   "id": "c4608fb3",
   "metadata": {},
   "outputs": [
    {
     "data": {
      "text/plain": [
       "index         0\n",
       "Age           0\n",
       "Gender        0\n",
       "Country       0\n",
       "EdLevel       0\n",
       "lang_have     0\n",
       "lang_want     0\n",
       "Sexuality     0\n",
       "Employment    0\n",
       "year          0\n",
       "salary        0\n",
       "dtype: int64"
      ]
     },
     "execution_count": 312,
     "metadata": {},
     "output_type": "execute_result"
    }
   ],
   "source": [
    "df.isna().sum()"
   ]
  },
  {
   "cell_type": "code",
   "execution_count": 315,
   "id": "33f5553d",
   "metadata": {},
   "outputs": [
    {
     "name": "stdout",
     "output_type": "stream",
     "text": [
      "index\n",
      "0         1\n",
      "89944     1\n",
      "89942     1\n",
      "89941     1\n",
      "89940     1\n",
      "         ..\n",
      "44956     1\n",
      "44955     1\n",
      "44954     1\n",
      "44953     1\n",
      "134935    1\n",
      "Name: index, Length: 134870, dtype: int64\n",
      "Age\n",
      "25-30       41535\n",
      "31-35       29427\n",
      "18-24       25957\n",
      "35-40       18135\n",
      "41-44        9371\n",
      "45-50        5298\n",
      "51-55        2640\n",
      "55-60        1532\n",
      "61-65         432\n",
      "61-64         338\n",
      "18 below      111\n",
      "65 above       94\n",
      "Name: Age, dtype: int64\n",
      "Gender\n",
      "Male                                     124756\n",
      "Female                                     8004\n",
      "Non-binary/Genderqueer/Non-Conforming      1345\n",
      "prefer not to say                           370\n",
      "Self-description                            227\n",
      "Transgender                                 168\n",
      "Name: Gender, dtype: int64\n",
      "Country\n",
      "USA              34578\n",
      "India             9997\n",
      "UK                9975\n",
      "Germany           8805\n",
      "Canada            5335\n",
      "                 ...  \n",
      "Mali                 1\n",
      "Seychelles           1\n",
      "Liechtenstein        1\n",
      "Sierra Leone         1\n",
      "North Korea          1\n",
      "Name: Country, Length: 175, dtype: int64\n",
      "EdLevel\n",
      "Graduate                 68719\n",
      "Post-graduate            35384\n",
      "Diploma/professional     23985\n",
      "Doctorate                 4423\n",
      "Below graduation          2359\n",
      "Name: EdLevel, dtype: int64\n",
      "lang_have\n",
      "C# HTML CSS JavaScript SQL                                                    1623\n",
      "HTML CSS JavaScript PHP SQL                                                   1462\n",
      "C# HTML CSS JavaScript SQL TypeScript                                         1325\n",
      "Java                                                                          1087\n",
      "Python                                                                        1067\n",
      "                                                                              ... \n",
      "Bash Shell PowerShell Java Rust Other(s):                                        1\n",
      "Bash Shell PowerShell Dart HTML CSS Java JavaScript Objective-C Python SQL       1\n",
      "Bash Shell PowerShell Go HTML CSS JavaScript PHP Python SQL Other(s):            1\n",
      "Assembly C C++ Go HTML CSS JavaScript Kotlin Swift TypeScript                    1\n",
      "Delphi Elixir HTML CSS Java JavaScript                                           1\n",
      "Name: lang_have, Length: 41330, dtype: int64\n",
      "lang_want\n",
      "Python                                                                         1810\n",
      "C#                                                                             1118\n",
      "Go                                                                              922\n",
      "Rust                                                                            865\n",
      "HTML CSS JavaScript TypeScript                                                  826\n",
      "                                                                               ... \n",
      "C# Go HTML CSS Java JavaScript Kotlin Objective-C PHP Python Ruby SQL Swift       1\n",
      "Bash Shell PowerShell HTML CSS Java JavaScript Python R SQL VBA WebAssembly       1\n",
      "C++ Objective-C PHP Python SQL                                                    1\n",
      "Assembly Bash Shell PowerShell C HTML CSS JavaScript Ruby SQL WebAssembly         1\n",
      "Elixir HTML CSS Java JavaScript Node.js PHP SQL TypeScript                        1\n",
      "Name: lang_want, Length: 46403, dtype: int64\n",
      "Sexuality\n",
      "Straight / Heterosexual                                                           97059\n",
      "Straight or heterosexual                                                          25082\n",
      "Bisexual                                                                           4142\n",
      "Gay or Lesbian                                                                     2884\n",
      "Prefer not to say                                                                  1688\n",
      "Bisexual or Queer                                                                   918\n",
      "Prefer to self-describe:                                                            509\n",
      "Bisexual;Straight / Heterosexual                                                    407\n",
      "Queer                                                                               306\n",
      "Straight / Heterosexual;Bisexual                                                    304\n",
      "Bisexual;Queer                                                                      280\n",
      "Asexual                                                                             234\n",
      "Straight or heterosexual;Bisexual or Queer                                          168\n",
      "Straight / Heterosexual;Prefer to self-describe:                                    126\n",
      "Gay or Lesbian;Queer                                                                124\n",
      "Bisexual;Gay or Lesbian                                                             109\n",
      "Straight or heterosexual;Asexual                                                    101\n",
      "Straight / Heterosexual;Queer                                                        84\n",
      "Gay or Lesbian;Bisexual or Queer                                                     46\n",
      "Bisexual;Gay or Lesbian;Queer                                                        34\n",
      "Prefer to self-describe:;Queer                                                       30\n",
      "Bisexual or Queer;Asexual                                                            27\n",
      "Bisexual;Gay or Lesbian;Straight / Heterosexual                                      24\n",
      "Straight or heterosexual;Gay or Lesbian;Bisexual or Queer;Asexual                    22\n",
      "Gay or Lesbian;Straight / Heterosexual                                               18\n",
      "Bisexual;Prefer to self-describe:;Queer                                              15\n",
      "Gay or Lesbian;Asexual                                                               13\n",
      "Bisexual;Prefer to self-describe:                                                    13\n",
      "Bisexual;Gay or Lesbian;Straight / Heterosexual;Queer                                11\n",
      "Straight or heterosexual;Bisexual or Queer;Asexual                                   11\n",
      "Straight / Heterosexual;Bisexual;Gay or Lesbian                                      10\n",
      "Straight / Heterosexual;Gay or Lesbian                                                8\n",
      "Prefer to self-describe:;Gay or Lesbian;Queer                                         7\n",
      "Straight or heterosexual;Gay or Lesbian;Bisexual or Queer                             7\n",
      "Straight / Heterosexual;Bisexual;Queer                                                7\n",
      "Straight or heterosexual;Gay or Lesbian                                               7\n",
      "Gay or Lesbian;Bisexual or Queer;Asexual                                              6\n",
      "Straight / Heterosexual;Bisexual;Gay or Lesbian;Queer                                 5\n",
      "Straight / Heterosexual;Prefer to self-describe:;Queer                                4\n",
      "Bisexual;Straight / Heterosexual;Queer                                                4\n",
      "Straight / Heterosexual;Bisexual;Prefer to self-describe:                             4\n",
      "Straight / Heterosexual;Bisexual;Prefer to self-describe:;Gay or Lesbian;Queer        3\n",
      "Bisexual;Prefer to self-describe:;Gay or Lesbian;Queer                                3\n",
      "Bisexual;Prefer to self-describe:;Gay or Lesbian                                      2\n",
      "Prefer to self-describe:;Gay or Lesbian                                               2\n",
      "Straight / Heterosexual;Bisexual;Prefer to self-describe:;Gay or Lesbian              1\n",
      "Straight / Heterosexual;Bisexual;Prefer to self-describe:;Queer                       1\n",
      "Name: Sexuality, dtype: int64\n",
      "Employment\n",
      "Employed full-time                                      118374\n",
      "Independent contractor, freelancer, or self-employed     11587\n",
      "Employed part-time                                        4291\n",
      "Not employed, but looking for work                         439\n",
      "Not employed, and not looking for work                     131\n",
      "Retired                                                     25\n",
      "I prefer not to say                                         23\n",
      "Name: Employment, dtype: int64\n",
      "year\n",
      "2019    42895\n",
      "2021    40699\n",
      "2018    27209\n",
      "2020    24067\n",
      "Name: year, dtype: int64\n",
      "salary\n",
      "120000.0    1367\n",
      "100000.0    1248\n",
      "150000.0    1130\n",
      "80000.0      995\n",
      "130000.0     939\n",
      "            ... \n",
      "32883.0        1\n",
      "587700.0       1\n",
      "55934.0        1\n",
      "37524.0        1\n",
      "816816.0       1\n",
      "Name: salary, Length: 19600, dtype: int64\n"
     ]
    }
   ],
   "source": [
    "for column in df.columns:\n",
    "    print(column)\n",
    "    print(df[column].value_counts())"
   ]
  },
  {
   "cell_type": "code",
   "execution_count": 325,
   "id": "3e3fe990",
   "metadata": {},
   "outputs": [],
   "source": [
    "df.drop(columns = (['level_0', 'index']),inplace=True)"
   ]
  },
  {
   "cell_type": "code",
   "execution_count": 326,
   "id": "c5671157",
   "metadata": {},
   "outputs": [],
   "source": [
    "df.to_csv(\"clean_df.csv\")"
   ]
  },
  {
   "cell_type": "code",
   "execution_count": null,
   "id": "b4b309aa",
   "metadata": {},
   "outputs": [],
   "source": []
  }
 ],
 "metadata": {
  "kernelspec": {
   "display_name": "Python 3 (ipykernel)",
   "language": "python",
   "name": "python3"
  },
  "language_info": {
   "codemirror_mode": {
    "name": "ipython",
    "version": 3
   },
   "file_extension": ".py",
   "mimetype": "text/x-python",
   "name": "python",
   "nbconvert_exporter": "python",
   "pygments_lexer": "ipython3",
   "version": "3.9.7"
  }
 },
 "nbformat": 4,
 "nbformat_minor": 5
}
