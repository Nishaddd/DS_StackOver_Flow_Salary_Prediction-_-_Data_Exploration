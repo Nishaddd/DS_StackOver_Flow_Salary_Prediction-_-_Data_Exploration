{
 "cells": [
  {
   "cell_type": "code",
   "execution_count": 1,
   "id": "688c3f59",
   "metadata": {},
   "outputs": [],
   "source": [
    "import pandas as pd\n",
    "import matplotlib.pyplot as plt"
   ]
  },
  {
   "cell_type": "code",
   "execution_count": null,
   "id": "b47b7cd9",
   "metadata": {},
   "outputs": [],
   "source": [
    "\n"
   ]
  },
  {
   "cell_type": "code",
   "execution_count": 2,
   "id": "02f5fc35",
   "metadata": {},
   "outputs": [
    {
     "name": "stderr",
     "output_type": "stream",
     "text": [
      "/tmp/ipykernel_59601/1189772607.py:1: DtypeWarning: Columns (9,13,14,15,16,17,51,52,53,54,56,57,58,59,60,61,62,63,64,65,66,67,68,69,70,71,72,73,74,75,76,77,78,79,80,81,82,83,84,85,86,94,95,96,97,98,99,100,101,102,103,104,105,106,107,108,109,110,111,112,113,114,115,116,117,118,119,120,121,122,123,124,125,126,127,128,129) have mixed types. Specify dtype option on import or set low_memory=False.\n",
      "  d2018 = pd.read_csv(\"2018.csv\")\n"
     ]
    }
   ],
   "source": [
    "d2018 = pd.read_csv(\"2018.csv\")\n"
   ]
  },
  {
   "cell_type": "code",
   "execution_count": 3,
   "id": "8cc0464f",
   "metadata": {},
   "outputs": [
    {
     "data": {
      "text/plain": [
       "(98855, 131)"
      ]
     },
     "execution_count": 3,
     "metadata": {},
     "output_type": "execute_result"
    }
   ],
   "source": [
    "d2018.shape"
   ]
  },
  {
   "cell_type": "code",
   "execution_count": 4,
   "id": "1f7fcfde",
   "metadata": {},
   "outputs": [],
   "source": [
    "# d2018.head()\n"
   ]
  },
  {
   "cell_type": "code",
   "execution_count": 5,
   "id": "0ca94413",
   "metadata": {},
   "outputs": [
    {
     "data": {
      "text/plain": [
       "(88883, 87)"
      ]
     },
     "execution_count": 5,
     "metadata": {},
     "output_type": "execute_result"
    }
   ],
   "source": [
    "d2019 = pd.read_csv(\"2019.csv\")\n",
    "d2019.shape"
   ]
  },
  {
   "cell_type": "code",
   "execution_count": 6,
   "id": "4a1123ed",
   "metadata": {},
   "outputs": [],
   "source": [
    "# d2019.head()"
   ]
  },
  {
   "cell_type": "code",
   "execution_count": 7,
   "id": "a76c4b31",
   "metadata": {},
   "outputs": [],
   "source": [
    "# d2019.head()\n"
   ]
  },
  {
   "cell_type": "code",
   "execution_count": 8,
   "id": "a951c12f",
   "metadata": {},
   "outputs": [
    {
     "data": {
      "text/plain": [
       "(64461, 63)"
      ]
     },
     "execution_count": 8,
     "metadata": {},
     "output_type": "execute_result"
    }
   ],
   "source": [
    "d2020 = pd.read_csv(\"2020.csv\")\n",
    "d2020.shape"
   ]
  },
  {
   "cell_type": "code",
   "execution_count": 9,
   "id": "67aac6b5",
   "metadata": {},
   "outputs": [],
   "source": [
    "# d2020.head()"
   ]
  },
  {
   "cell_type": "code",
   "execution_count": 10,
   "id": "103fce06",
   "metadata": {},
   "outputs": [],
   "source": [
    "d2021 = pd.read_csv(\"2021.csv\")\n",
    "# d2021.shape"
   ]
  },
  {
   "cell_type": "code",
   "execution_count": 11,
   "id": "0d0edae1",
   "metadata": {},
   "outputs": [],
   "source": [
    "# d2021.head()"
   ]
  },
  {
   "cell_type": "code",
   "execution_count": 12,
   "id": "3665f36a",
   "metadata": {},
   "outputs": [],
   "source": [
    "selected_features = [\"age\",\"gender\",\"salary\",\"country\",\"edlevel\",\"lan_have\",\"lan_want\",\"emplopyment\"]"
   ]
  },
  {
   "cell_type": "markdown",
   "id": "bf7677f7",
   "metadata": {},
   "source": [
    "## Extracting the selected features from each dataframes"
   ]
  },
  {
   "cell_type": "markdown",
   "id": "8066e90f",
   "metadata": {},
   "source": [
    "For 2018"
   ]
  },
  {
   "cell_type": "code",
   "execution_count": 13,
   "id": "7c8149ab",
   "metadata": {},
   "outputs": [],
   "source": [
    "d2018_selected_features = [\"Age\",\"Gender\",\"Currency\",\"Salary\",\"SalaryType\",\"Country\",\"FormalEducation\",\"UndergradMajor\",\"LanguageWorkedWith\"\n",
    "                          ,\"LanguageDesireNextYear\",\"SexualOrientation\",\"Employment\",\"year\"]"
   ]
  },
  {
   "cell_type": "code",
   "execution_count": 14,
   "id": "7ae39168",
   "metadata": {},
   "outputs": [
    {
     "data": {
      "text/plain": [
       "(98855, 13)"
      ]
     },
     "execution_count": 14,
     "metadata": {},
     "output_type": "execute_result"
    }
   ],
   "source": [
    "d2018 = d2018[d2018_selected_features]\n",
    "d2018.shape"
   ]
  },
  {
   "cell_type": "markdown",
   "id": "4f3f43d8",
   "metadata": {},
   "source": [
    "For 2019"
   ]
  },
  {
   "cell_type": "code",
   "execution_count": 15,
   "id": "733b6172",
   "metadata": {},
   "outputs": [],
   "source": [
    "d2019_selected_features = [\"Age\",\"Gender\",\"CurrencyDesc\",\"Country\",\"CompTotal\",\"CompFreq\",\"ConvertedComp\",\"EdLevel\"\n",
    "                           ,\"UndergradMajor\",\"LanguageWorkedWith\",\"LanguageDesireNextYear\",\"Sexuality\",\"Employment\",\"year\"]"
   ]
  },
  {
   "cell_type": "code",
   "execution_count": 16,
   "id": "a00531cf",
   "metadata": {},
   "outputs": [],
   "source": [
    "# d2019.head(2)\n",
    "# d2019.CurrencyDesc.value_counts()"
   ]
  },
  {
   "cell_type": "code",
   "execution_count": 17,
   "id": "2507bb8b",
   "metadata": {},
   "outputs": [
    {
     "data": {
      "text/plain": [
       "(88883, 87)"
      ]
     },
     "execution_count": 17,
     "metadata": {},
     "output_type": "execute_result"
    }
   ],
   "source": [
    "d2019.shape"
   ]
  },
  {
   "cell_type": "code",
   "execution_count": 18,
   "id": "cdb83ba1",
   "metadata": {},
   "outputs": [
    {
     "data": {
      "text/plain": [
       "Index(['Age', 'Gender', 'CurrencyDesc', 'Country', 'CompTotal', 'CompFreq',\n",
       "       'ConvertedComp', 'EdLevel', 'UndergradMajor', 'LanguageWorkedWith',\n",
       "       'LanguageDesireNextYear', 'Sexuality', 'Employment', 'year'],\n",
       "      dtype='object')"
      ]
     },
     "execution_count": 18,
     "metadata": {},
     "output_type": "execute_result"
    }
   ],
   "source": [
    "d2019 = d2019[d2019_selected_features]\n",
    "d2019.columns"
   ]
  },
  {
   "cell_type": "code",
   "execution_count": null,
   "id": "d8c1062d",
   "metadata": {},
   "outputs": [],
   "source": []
  },
  {
   "cell_type": "markdown",
   "id": "e7ab7f03",
   "metadata": {},
   "source": [
    "For 2020"
   ]
  },
  {
   "cell_type": "code",
   "execution_count": 19,
   "id": "5409832b",
   "metadata": {},
   "outputs": [],
   "source": [
    "d2020_selected_features = [\"Age\",\"Gender\",\"Country\",\"CompFreq\",\"CompTotal\",\"ConvertedComp\",\"CurrencyDesc\",\"EdLevel\"\n",
    "                          ,\"UndergradMajor\",\"LanguageWorkedWith\",\"LanguageDesireNextYear\",\"Sexuality\",\"Employment\",\"year\"]"
   ]
  },
  {
   "cell_type": "code",
   "execution_count": 20,
   "id": "e91b31af",
   "metadata": {},
   "outputs": [],
   "source": [
    "# d2020.head(2)"
   ]
  },
  {
   "cell_type": "code",
   "execution_count": 21,
   "id": "ddc59368",
   "metadata": {},
   "outputs": [],
   "source": [
    "d2020= d2020[d2020_selected_features]"
   ]
  },
  {
   "cell_type": "code",
   "execution_count": 22,
   "id": "e33cf6f1",
   "metadata": {},
   "outputs": [
    {
     "data": {
      "text/plain": [
       "Index(['Age', 'Gender', 'Country', 'CompFreq', 'CompTotal', 'ConvertedComp',\n",
       "       'CurrencyDesc', 'EdLevel', 'UndergradMajor', 'LanguageWorkedWith',\n",
       "       'LanguageDesireNextYear', 'Sexuality', 'Employment', 'year'],\n",
       "      dtype='object')"
      ]
     },
     "execution_count": 22,
     "metadata": {},
     "output_type": "execute_result"
    }
   ],
   "source": [
    "d2020.shape\n",
    "d2020.columns"
   ]
  },
  {
   "cell_type": "code",
   "execution_count": 23,
   "id": "fa2489e9",
   "metadata": {},
   "outputs": [],
   "source": [
    "d2021_selected_features = [\"Age\",\"Gender\",\"Country\",\"ConvertedCompYearly\",\"EdLevel\",\"LanguageHaveWorkedWith\"\n",
    "                           ,\"LanguageWantToWorkWith\",\"Sexuality\"\n",
    "                           ,\"Employment\",\"year\"]"
   ]
  },
  {
   "cell_type": "code",
   "execution_count": 24,
   "id": "3e33be7f",
   "metadata": {},
   "outputs": [],
   "source": [
    "# d2021.head(2)"
   ]
  },
  {
   "cell_type": "code",
   "execution_count": 25,
   "id": "8ec5a9ef",
   "metadata": {},
   "outputs": [],
   "source": [
    "d2021 = d2021[d2021_selected_features]"
   ]
  },
  {
   "cell_type": "code",
   "execution_count": 26,
   "id": "96b7b4dc",
   "metadata": {},
   "outputs": [
    {
     "data": {
      "text/plain": [
       "(83439, 10)"
      ]
     },
     "execution_count": 26,
     "metadata": {},
     "output_type": "execute_result"
    }
   ],
   "source": [
    "d2021.shape"
   ]
  },
  {
   "cell_type": "markdown",
   "id": "8b78dcbf",
   "metadata": {},
   "source": [
    "### Remove all the na values\n"
   ]
  },
  {
   "cell_type": "code",
   "execution_count": 27,
   "id": "ed4faa54",
   "metadata": {},
   "outputs": [
    {
     "name": "stdout",
     "output_type": "stream",
     "text": [
      "(98855, 13)\n",
      "Index(['Age', 'Gender', 'Currency', 'Salary', 'SalaryType', 'Country',\n",
      "       'FormalEducation', 'UndergradMajor', 'LanguageWorkedWith',\n",
      "       'LanguageDesireNextYear', 'SexualOrientation', 'Employment', 'year'],\n",
      "      dtype='object')\n",
      "(27473, 13)\n",
      "Index(['Age', 'Gender', 'Currency', 'Salary', 'SalaryType', 'Country',\n",
      "       'FormalEducation', 'UndergradMajor', 'LanguageWorkedWith',\n",
      "       'LanguageDesireNextYear', 'SexualOrientation', 'Employment', 'year'],\n",
      "      dtype='object')\n",
      "(88883, 14)\n",
      "Index(['Age', 'Gender', 'CurrencyDesc', 'Country', 'CompTotal', 'CompFreq',\n",
      "       'ConvertedComp', 'EdLevel', 'UndergradMajor', 'LanguageWorkedWith',\n",
      "       'LanguageDesireNextYear', 'Sexuality', 'Employment', 'year'],\n",
      "      dtype='object')\n",
      "(42909, 14)\n",
      "Index(['Age', 'Gender', 'CurrencyDesc', 'Country', 'CompTotal', 'CompFreq',\n",
      "       'ConvertedComp', 'EdLevel', 'UndergradMajor', 'LanguageWorkedWith',\n",
      "       'LanguageDesireNextYear', 'Sexuality', 'Employment', 'year'],\n",
      "      dtype='object')\n",
      "(64461, 14)\n",
      "Index(['Age', 'Gender', 'Country', 'CompFreq', 'CompTotal', 'ConvertedComp',\n",
      "       'CurrencyDesc', 'EdLevel', 'UndergradMajor', 'LanguageWorkedWith',\n",
      "       'LanguageDesireNextYear', 'Sexuality', 'Employment', 'year'],\n",
      "      dtype='object')\n",
      "(24071, 14)\n",
      "Index(['Age', 'Gender', 'Country', 'CompFreq', 'CompTotal', 'ConvertedComp',\n",
      "       'CurrencyDesc', 'EdLevel', 'UndergradMajor', 'LanguageWorkedWith',\n",
      "       'LanguageDesireNextYear', 'Sexuality', 'Employment', 'year'],\n",
      "      dtype='object')\n",
      "(83439, 10)\n",
      "Index(['Age', 'Gender', 'Country', 'ConvertedCompYearly', 'EdLevel',\n",
      "       'LanguageHaveWorkedWith', 'LanguageWantToWorkWith', 'Sexuality',\n",
      "       'Employment', 'year'],\n",
      "      dtype='object')\n",
      "(40745, 10)\n",
      "Index(['Age', 'Gender', 'Country', 'ConvertedCompYearly', 'EdLevel',\n",
      "       'LanguageHaveWorkedWith', 'LanguageWantToWorkWith', 'Sexuality',\n",
      "       'Employment', 'year'],\n",
      "      dtype='object')\n"
     ]
    }
   ],
   "source": [
    "dfs = [d2018,d2019,d2020,d2021]\n",
    "for df in dfs:\n",
    "    print(df.shape)\n",
    "    print(df.columns)\n",
    "    df.dropna(inplace=True)\n",
    "    print(df.shape)\n",
    "    print(df.columns)"
   ]
  },
  {
   "cell_type": "markdown",
   "id": "e3021556",
   "metadata": {},
   "source": [
    "### Renaming columns to a common format\n"
   ]
  },
  {
   "cell_type": "code",
   "execution_count": 28,
   "id": "a9cc0493",
   "metadata": {},
   "outputs": [
    {
     "data": {
      "text/plain": [
       "Index(['Age', 'Gender', 'Currency', 'Salary', 'SalaryType', 'Country',\n",
       "       'FormalEducation', 'UndergradMajor', 'LanguageWorkedWith',\n",
       "       'LanguageDesireNextYear', 'SexualOrientation', 'Employment', 'year'],\n",
       "      dtype='object')"
      ]
     },
     "execution_count": 28,
     "metadata": {},
     "output_type": "execute_result"
    }
   ],
   "source": [
    "d2018.columns"
   ]
  },
  {
   "cell_type": "code",
   "execution_count": 29,
   "id": "f2528426",
   "metadata": {},
   "outputs": [
    {
     "name": "stdout",
     "output_type": "stream",
     "text": [
      "Index(['Age', 'Gender', 'Currency', 'Salary', 'SalaryType', 'Country',\n",
      "       'EdLevel', 'UndergradMajor', 'lang_have', 'lang_want', 'Sexuality',\n",
      "       'Employment', 'year'],\n",
      "      dtype='object')\n",
      "Index(['Age', 'Gender', 'Currency', 'Country', 'CompTotal', 'CompFreq',\n",
      "       'ConvertedComp', 'EdLevel', 'UndergradMajor', 'lang_have', 'lang_want',\n",
      "       'Sexuality', 'Employment', 'year'],\n",
      "      dtype='object')\n",
      "Index(['Age', 'Gender', 'Country', 'CompFreq', 'CompTotal', 'ConvertedComp',\n",
      "       'Currency', 'EdLevel', 'UndergradMajor', 'lang_have', 'lang_want',\n",
      "       'Sexuality', 'Employment', 'year'],\n",
      "      dtype='object')\n",
      "Index(['Age', 'Gender', 'Country', 'salary', 'EdLevel', 'lang_have',\n",
      "       'lang_want', 'Sexuality', 'Employment', 'year'],\n",
      "      dtype='object')\n"
     ]
    }
   ],
   "source": [
    "for df in dfs:\n",
    "    df.rename(columns = {'FormalEducation':'EdLevel','LanguageWorkedWith':'lang_have'\n",
    "                                ,'LanguageDesireNextYear':'lang_want','LanguageHaveWorkedWith':'lang_have'\n",
    "                       ,'LanguageWantToWorkWith':'lang_want','CurrencyDesc':'Currency',\n",
    "                         'SexualOrientation':'Sexuality','ConvertedCompYearly':'salary'},inplace = True)\n",
    "    print(df.columns)"
   ]
  },
  {
   "cell_type": "markdown",
   "id": "4cbfb337",
   "metadata": {},
   "source": [
    "## Calculating yearly salaries"
   ]
  },
  {
   "cell_type": "markdown",
   "id": "08b2205e",
   "metadata": {},
   "source": [
    "For 2018"
   ]
  },
  {
   "cell_type": "code",
   "execution_count": 30,
   "id": "3f9edd6d",
   "metadata": {},
   "outputs": [],
   "source": [
    "# d2018.Currency.value_counts()"
   ]
  },
  {
   "cell_type": "code",
   "execution_count": 31,
   "id": "891ea3ae",
   "metadata": {},
   "outputs": [],
   "source": [
    "# d2018.columns"
   ]
  },
  {
   "cell_type": "code",
   "execution_count": 32,
   "id": "c77223b5",
   "metadata": {},
   "outputs": [
    {
     "data": {
      "text/plain": [
       "Yearly     16267\n",
       "Monthly    10370\n",
       "Weekly       836\n",
       "Name: SalaryType, dtype: int64"
      ]
     },
     "execution_count": 32,
     "metadata": {},
     "output_type": "execute_result"
    }
   ],
   "source": [
    "\n",
    "d2018['SalaryType'].value_counts()"
   ]
  },
  {
   "cell_type": "code",
   "execution_count": 33,
   "id": "d3a117f7",
   "metadata": {},
   "outputs": [],
   "source": [
    "#"
   ]
  },
  {
   "cell_type": "code",
   "execution_count": 34,
   "id": "19ce5fe6",
   "metadata": {},
   "outputs": [],
   "source": [
    "d2018[\"Currency\"] = d2018[\"Currency\"].map({\"Euros (€)\":0.848,\"Indian rupees (₹)\":68.422 ,\"U.S. dollars ($)\":1,\n",
    "                                           \"British pounds sterling (£)\":0.750 ,\"Canadian dollars (C$)\":1.297 ,\n",
    "                                          \"Russian rubles (₽)\":62.845 , \"Brazilian reais (R$)\":3.655 ,\"Australian dollars (A$)\"\n",
    "                                          :1.340 ,\"Polish złoty (zł)\":3.612 ,\"Swedish kroner (SEK)\":8.703 ,\"Swiss francs\":0.979 ,\n",
    "                                          \"Chinese yuan renminbi (¥)\":6.620 ,\"Danish krone (kr)\":6.319 ,\"Mexican pesos (MXN$)\":19.227 ,\n",
    "                                          \"South African rands (R)\":13.258 ,\"Norwegian krone (kr)\":8.143,\"Singapore dollars (S$)\":1.349 ,\n",
    "                                          \"Japanese yen (¥)\":110.424 ,\"Bitcoin (btc)\":0 })"
   ]
  },
  {
   "cell_type": "code",
   "execution_count": 35,
   "id": "6af3c0ec",
   "metadata": {},
   "outputs": [],
   "source": [
    "d2018['SalaryType'] =d2018['SalaryType'].map({\"Monthly\":12,\"Yearly\":1,\"Weekly\":48})"
   ]
  },
  {
   "cell_type": "code",
   "execution_count": 36,
   "id": "04aa65c4",
   "metadata": {},
   "outputs": [],
   "source": [
    "d2018['Salary'] = d2018['Salary'].apply(lambda x:x.replace(\",\",\"\").replace(\"nan\",\"0\"))\n",
    "d2018['Salary'] = d2018['Salary'].astype(float)"
   ]
  },
  {
   "cell_type": "code",
   "execution_count": 37,
   "id": "ceed9077",
   "metadata": {},
   "outputs": [],
   "source": [
    "d2018.reset_index(inplace=True)"
   ]
  },
  {
   "cell_type": "code",
   "execution_count": 38,
   "id": "422e2094",
   "metadata": {},
   "outputs": [],
   "source": [
    "d2018['salary'] = (d2018['Salary']*d2018['SalaryType'])/d2018[\"Currency\"]"
   ]
  },
  {
   "cell_type": "code",
   "execution_count": 39,
   "id": "a6964d70",
   "metadata": {},
   "outputs": [
    {
     "data": {
      "text/plain": [
       "0         51000.0\n",
       "1        260000.0\n",
       "2        120000.0\n",
       "3        250000.0\n",
       "4        120000.0\n",
       "           ...   \n",
       "27468         0.0\n",
       "27469     40000.0\n",
       "27470         0.0\n",
       "27471     70000.0\n",
       "27472         0.0\n",
       "Name: Salary, Length: 27473, dtype: float64"
      ]
     },
     "execution_count": 39,
     "metadata": {},
     "output_type": "execute_result"
    }
   ],
   "source": [
    "d2018['Salary']"
   ]
  },
  {
   "cell_type": "code",
   "execution_count": 40,
   "id": "3c52d874",
   "metadata": {},
   "outputs": [
    {
     "data": {
      "text/plain": [
       "1     16267\n",
       "12    10370\n",
       "48      836\n",
       "Name: SalaryType, dtype: int64"
      ]
     },
     "execution_count": 40,
     "metadata": {},
     "output_type": "execute_result"
    }
   ],
   "source": [
    "d2018['SalaryType'].value_counts()"
   ]
  },
  {
   "cell_type": "code",
   "execution_count": 41,
   "id": "12f58638",
   "metadata": {},
   "outputs": [
    {
     "data": {
      "text/plain": [
       "1.000      9382\n",
       "0.848      6878\n",
       "68.422     2526\n",
       "0.750      2464\n",
       "1.297      1121\n",
       "62.845      876\n",
       "3.655       799\n",
       "1.340       681\n",
       "3.612       670\n",
       "8.703       458\n",
       "0.979       278\n",
       "8.143       236\n",
       "6.319       235\n",
       "19.227      235\n",
       "13.258      218\n",
       "6.620       175\n",
       "1.349       108\n",
       "110.424     106\n",
       "0.000        27\n",
       "Name: Currency, dtype: int64"
      ]
     },
     "execution_count": 41,
     "metadata": {},
     "output_type": "execute_result"
    }
   ],
   "source": [
    "d2018[\"Currency\"].value_counts()"
   ]
  },
  {
   "cell_type": "code",
   "execution_count": 42,
   "id": "354bfb2e",
   "metadata": {},
   "outputs": [
    {
     "data": {
      "text/plain": [
       "0         68000.000000\n",
       "1         19610.801026\n",
       "2        120000.000000\n",
       "3        250000.000000\n",
       "4         89552.238806\n",
       "             ...      \n",
       "27468         0.000000\n",
       "27469     24964.893119\n",
       "27470         0.000000\n",
       "27471     93333.333333\n",
       "27472         0.000000\n",
       "Name: salary, Length: 27473, dtype: float64"
      ]
     },
     "execution_count": 42,
     "metadata": {},
     "output_type": "execute_result"
    }
   ],
   "source": [
    "d2018.salary"
   ]
  },
  {
   "cell_type": "code",
   "execution_count": 43,
   "id": "a8c8f7e6",
   "metadata": {},
   "outputs": [
    {
     "data": {
      "text/plain": [
       "2"
      ]
     },
     "execution_count": 43,
     "metadata": {},
     "output_type": "execute_result"
    }
   ],
   "source": [
    "d2018['salary'].isnull().sum()"
   ]
  },
  {
   "cell_type": "code",
   "execution_count": 44,
   "id": "31820e60",
   "metadata": {},
   "outputs": [
    {
     "data": {
      "text/plain": [
       "(27473, 15)"
      ]
     },
     "execution_count": 44,
     "metadata": {},
     "output_type": "execute_result"
    }
   ],
   "source": [
    "d2018.shape"
   ]
  },
  {
   "cell_type": "code",
   "execution_count": 45,
   "id": "5d331894",
   "metadata": {},
   "outputs": [],
   "source": [
    "d2018 = d2018[d2018['salary'] != 0]"
   ]
  },
  {
   "cell_type": "code",
   "execution_count": 46,
   "id": "d8ab3287",
   "metadata": {},
   "outputs": [
    {
     "data": {
      "text/plain": [
       "(27211, 15)"
      ]
     },
     "execution_count": 46,
     "metadata": {},
     "output_type": "execute_result"
    }
   ],
   "source": [
    "d2018.shape"
   ]
  },
  {
   "cell_type": "code",
   "execution_count": 47,
   "id": "de81f1ab",
   "metadata": {},
   "outputs": [
    {
     "data": {
      "text/plain": [
       "Index(['index', 'Age', 'Gender', 'Currency', 'Salary', 'SalaryType', 'Country',\n",
       "       'EdLevel', 'UndergradMajor', 'lang_have', 'lang_want', 'Sexuality',\n",
       "       'Employment', 'year', 'salary'],\n",
       "      dtype='object')"
      ]
     },
     "execution_count": 47,
     "metadata": {},
     "output_type": "execute_result"
    }
   ],
   "source": [
    "d2018.columns"
   ]
  },
  {
   "cell_type": "code",
   "execution_count": 48,
   "id": "6cb09c01",
   "metadata": {},
   "outputs": [
    {
     "name": "stderr",
     "output_type": "stream",
     "text": [
      "/tmp/ipykernel_59601/760843261.py:1: SettingWithCopyWarning: \n",
      "A value is trying to be set on a copy of a slice from a DataFrame\n",
      "\n",
      "See the caveats in the documentation: https://pandas.pydata.org/pandas-docs/stable/user_guide/indexing.html#returning-a-view-versus-a-copy\n",
      "  d2018.drop(columns = ['Currency', 'Salary', 'SalaryType'],inplace=True)\n"
     ]
    }
   ],
   "source": [
    "d2018.drop(columns = ['Currency', 'Salary', 'SalaryType'],inplace=True)"
   ]
  },
  {
   "cell_type": "code",
   "execution_count": 49,
   "id": "8e19104a",
   "metadata": {},
   "outputs": [
    {
     "data": {
      "text/plain": [
       "Index(['index', 'Age', 'Gender', 'Country', 'EdLevel', 'UndergradMajor',\n",
       "       'lang_have', 'lang_want', 'Sexuality', 'Employment', 'year', 'salary'],\n",
       "      dtype='object')"
      ]
     },
     "execution_count": 49,
     "metadata": {},
     "output_type": "execute_result"
    }
   ],
   "source": [
    "d2018.columns"
   ]
  },
  {
   "cell_type": "code",
   "execution_count": 50,
   "id": "02f8d6d6",
   "metadata": {},
   "outputs": [],
   "source": [
    "d2018.to_csv(\"d2018.csv\")"
   ]
  },
  {
   "cell_type": "markdown",
   "id": "c424ee72",
   "metadata": {},
   "source": [
    "For 2019"
   ]
  },
  {
   "cell_type": "code",
   "execution_count": 51,
   "id": "36c1d781",
   "metadata": {},
   "outputs": [
    {
     "data": {
      "text/plain": [
       "Index(['Age', 'Gender', 'Currency', 'Country', 'CompTotal', 'CompFreq',\n",
       "       'ConvertedComp', 'EdLevel', 'UndergradMajor', 'lang_have', 'lang_want',\n",
       "       'Sexuality', 'Employment', 'year'],\n",
       "      dtype='object')"
      ]
     },
     "execution_count": 51,
     "metadata": {},
     "output_type": "execute_result"
    }
   ],
   "source": [
    "\n",
    "d2019.columns"
   ]
  },
  {
   "cell_type": "code",
   "execution_count": 52,
   "id": "f3eb4727",
   "metadata": {},
   "outputs": [],
   "source": [
    "d2019.drop(columns = ['Currency', 'CompTotal', 'CompFreq'],inplace=True)"
   ]
  },
  {
   "cell_type": "code",
   "execution_count": 53,
   "id": "6b3e401b",
   "metadata": {},
   "outputs": [],
   "source": [
    "d2019.rename(columns = {\"ConvertedComp\":\"salary\"},inplace=True)"
   ]
  },
  {
   "cell_type": "code",
   "execution_count": 54,
   "id": "a0af3bd8",
   "metadata": {},
   "outputs": [],
   "source": [
    "d2019['salary'] = d2019['salary'].astype(float)\n",
    "\n"
   ]
  },
  {
   "cell_type": "markdown",
   "id": "53bafa13",
   "metadata": {},
   "source": [
    "For 2020"
   ]
  },
  {
   "cell_type": "code",
   "execution_count": 55,
   "id": "f769a9b3",
   "metadata": {},
   "outputs": [],
   "source": [
    "d2020.drop(columns = ['Currency', 'CompTotal', 'CompFreq'],inplace=True)"
   ]
  },
  {
   "cell_type": "code",
   "execution_count": 56,
   "id": "558dad07",
   "metadata": {},
   "outputs": [],
   "source": [
    "d2020.rename(columns = {\"ConvertedComp\":\"salary\"},inplace=True)"
   ]
  },
  {
   "cell_type": "code",
   "execution_count": 57,
   "id": "f1ecc12e",
   "metadata": {},
   "outputs": [],
   "source": [
    "d2020['salary'] = d2020['salary'].astype(float)\n"
   ]
  },
  {
   "cell_type": "markdown",
   "id": "1406e849",
   "metadata": {},
   "source": [
    "For 2021"
   ]
  },
  {
   "cell_type": "code",
   "execution_count": 58,
   "id": "ba8b156c",
   "metadata": {},
   "outputs": [
    {
     "data": {
      "text/plain": [
       "Index(['Age', 'Gender', 'Country', 'salary', 'EdLevel', 'lang_have',\n",
       "       'lang_want', 'Sexuality', 'Employment', 'year'],\n",
       "      dtype='object')"
      ]
     },
     "execution_count": 58,
     "metadata": {},
     "output_type": "execute_result"
    }
   ],
   "source": [
    "d2021.columns"
   ]
  },
  {
   "cell_type": "markdown",
   "id": "93911649",
   "metadata": {},
   "source": [
    "### Creating undergrad df with 2018,2019,and 2020"
   ]
  },
  {
   "cell_type": "code",
   "execution_count": 59,
   "id": "45d03052",
   "metadata": {},
   "outputs": [],
   "source": [
    "undergrad_df = pd.concat([d2018, d2019, d2020],axis = 0)"
   ]
  },
  {
   "cell_type": "code",
   "execution_count": 61,
   "id": "4721b41c",
   "metadata": {},
   "outputs": [],
   "source": [
    "# undergrad_df.drop(columns = (['Currency', 'Salary', 'SalaryType']),inplace = True)\n",
    "undergrad_df.reset_index(inplace=True)"
   ]
  },
  {
   "cell_type": "code",
   "execution_count": 62,
   "id": "ce66280f",
   "metadata": {},
   "outputs": [],
   "source": [
    "undergrad_df.to_csv(\"undergrad_df.csv\")\n"
   ]
  },
  {
   "cell_type": "markdown",
   "id": "76b56153",
   "metadata": {},
   "source": [
    "### Creating final concatenated df to work with"
   ]
  },
  {
   "cell_type": "code",
   "execution_count": 63,
   "id": "d3235ddd",
   "metadata": {},
   "outputs": [],
   "source": [
    "df = pd.concat([d2018,d2019,d2020,d2021],axis = 0)"
   ]
  },
  {
   "cell_type": "code",
   "execution_count": 66,
   "id": "9cbb4532",
   "metadata": {},
   "outputs": [
    {
     "data": {
      "text/plain": [
       "(134936, 10)"
      ]
     },
     "execution_count": 66,
     "metadata": {},
     "output_type": "execute_result"
    }
   ],
   "source": [
    "df.drop(columns = (['UndergradMajor']),inplace = True)\n",
    "df.shape"
   ]
  },
  {
   "cell_type": "code",
   "execution_count": 67,
   "id": "db0ca0b6",
   "metadata": {},
   "outputs": [
    {
     "data": {
      "text/plain": [
       "Index(['Age', 'Gender', 'Country', 'EdLevel', 'lang_have', 'lang_want',\n",
       "       'Sexuality', 'Employment', 'year', 'salary'],\n",
       "      dtype='object')"
      ]
     },
     "execution_count": 67,
     "metadata": {},
     "output_type": "execute_result"
    }
   ],
   "source": [
    "df.columns\n"
   ]
  },
  {
   "cell_type": "code",
   "execution_count": 68,
   "id": "ceea282e",
   "metadata": {},
   "outputs": [],
   "source": [
    "df.reset_index(inplace=True)\n"
   ]
  },
  {
   "cell_type": "code",
   "execution_count": 69,
   "id": "a431e046",
   "metadata": {},
   "outputs": [
    {
     "data": {
      "text/plain": [
       "(134936, 11)"
      ]
     },
     "execution_count": 69,
     "metadata": {},
     "output_type": "execute_result"
    }
   ],
   "source": [
    "df.shape"
   ]
  },
  {
   "cell_type": "code",
   "execution_count": 70,
   "id": "8df34805",
   "metadata": {},
   "outputs": [
    {
     "data": {
      "text/plain": [
       "(134934, 11)"
      ]
     },
     "execution_count": 70,
     "metadata": {},
     "output_type": "execute_result"
    }
   ],
   "source": [
    "df.dropna(inplace=True)\n",
    "df.shape"
   ]
  },
  {
   "cell_type": "markdown",
   "id": "551d762b",
   "metadata": {},
   "source": [
    "## Cleaning Age column"
   ]
  },
  {
   "cell_type": "code",
   "execution_count": 71,
   "id": "2e78141c",
   "metadata": {},
   "outputs": [
    {
     "data": {
      "text/plain": [
       "{'25-34 years old': 20506,\n",
       " '25 - 34 years old': 15296,\n",
       " '35-44 years old': 9578,\n",
       " '18-24 years old': 6486,\n",
       " '35 - 44 years old': 5294,\n",
       " '18 - 24 years old': 4864,\n",
       " 28.0: 4351,\n",
       " 25.0: 4336,\n",
       " 27.0: 4285,\n",
       " 26.0: 4235,\n",
       " 30.0: 4137,\n",
       " 29.0: 4017,\n",
       " 24.0: 3692,\n",
       " 31.0: 3171,\n",
       " 32.0: 3156,\n",
       " 23.0: 3063,\n",
       " '45-54 years old': 3045,\n",
       " 33.0: 2818,\n",
       " 34.0: 2499,\n",
       " 35.0: 2483,\n",
       " 36.0: 2105,\n",
       " 22.0: 1962,\n",
       " 37.0: 1846,\n",
       " 38.0: 1814,\n",
       " 39.0: 1421,\n",
       " '45 - 54 years old': 1372,\n",
       " 40.0: 1369,\n",
       " 42.0: 1009,\n",
       " 41.0: 966,\n",
       " 21.0: 948,\n",
       " '55-64 years old': 898,\n",
       " 43.0: 811,\n",
       " 44.0: 658,\n",
       " 45.0: 632,\n",
       " 46.0: 512,\n",
       " 48.0: 479,\n",
       " 47.0: 460,\n",
       " 50.0: 406,\n",
       " 49.0: 394,\n",
       " 20.0: 374,\n",
       " '55 - 64 years old': 338,\n",
       " 52.0: 290,\n",
       " 51.0: 284,\n",
       " 53.0: 265,\n",
       " 55.0: 215,\n",
       " 54.0: 214,\n",
       " 19.0: 175,\n",
       " 56.0: 167,\n",
       " 57.0: 139,\n",
       " '65 years or older': 138,\n",
       " 58.0: 118,\n",
       " 59.0: 111,\n",
       " 60.0: 99,\n",
       " 'Under 18 years old': 93,\n",
       " 62.0: 81,\n",
       " 63.0: 67,\n",
       " 61.0: 66,\n",
       " 18.0: 52,\n",
       " 'Prefer not to say': 46,\n",
       " 64.0: 46,\n",
       " 65.0: 33,\n",
       " 66.0: 21,\n",
       " 68.0: 12,\n",
       " 72.0: 12,\n",
       " 67.0: 11,\n",
       " 17.0: 11,\n",
       " 70.0: 9,\n",
       " 69.0: 7,\n",
       " 73.0: 7,\n",
       " 99.0: 6,\n",
       " 71.0: 5,\n",
       " 16.0: 5,\n",
       " 2.0: 4,\n",
       " 74.0: 3,\n",
       " 22.5: 2,\n",
       " 1.0: 2,\n",
       " 75.0: 2,\n",
       " 31.5: 2,\n",
       " 38.5: 1,\n",
       " 61.3: 1,\n",
       " 26.5: 1,\n",
       " 28.5: 1,\n",
       " 33.6: 1,\n",
       " 43.5: 1,\n",
       " 46.5: 1,\n",
       " 15.0: 1,\n",
       " 83.0: 1,\n",
       " 78.0: 1,\n",
       " 27.5: 1,\n",
       " 279.0: 1,\n",
       " 79.0: 1,\n",
       " 85.0: 1,\n",
       " 96.0: 1,\n",
       " 23.8: 1,\n",
       " 49.5: 1,\n",
       " 95.0: 1,\n",
       " 30.8: 1,\n",
       " 84.0: 1,\n",
       " 98.0: 1,\n",
       " 37.5: 1,\n",
       " 3.0: 1,\n",
       " 24.5: 1,\n",
       " 23.5: 1,\n",
       " 29.5: 1,\n",
       " 4.0: 1,\n",
       " 13.0: 1}"
      ]
     },
     "execution_count": 71,
     "metadata": {},
     "output_type": "execute_result"
    }
   ],
   "source": [
    "df.Age.value_counts().to_dict()"
   ]
  },
  {
   "cell_type": "code",
   "execution_count": 72,
   "id": "2dc45ca4",
   "metadata": {},
   "outputs": [],
   "source": [
    "df[\"Age\"] = df[\"Age\"].astype(str).apply(lambda x: x.split(\"years\")[0] if \"years\" in x.lower() else x)"
   ]
  },
  {
   "cell_type": "code",
   "execution_count": 73,
   "id": "3b0af0a1",
   "metadata": {},
   "outputs": [
    {
     "data": {
      "text/plain": [
       "{'25-34 ': 20506,\n",
       " '25 - 34 ': 15296,\n",
       " '35-44 ': 9578,\n",
       " '18-24 ': 6486,\n",
       " '35 - 44 ': 5294,\n",
       " '18 - 24 ': 4864,\n",
       " '28.0': 4351,\n",
       " '25.0': 4336,\n",
       " '27.0': 4285,\n",
       " '26.0': 4235,\n",
       " '30.0': 4137,\n",
       " '29.0': 4017,\n",
       " '24.0': 3692,\n",
       " '31.0': 3171,\n",
       " '32.0': 3156,\n",
       " '23.0': 3063,\n",
       " '45-54 ': 3045,\n",
       " '33.0': 2818,\n",
       " '34.0': 2499,\n",
       " '35.0': 2483,\n",
       " '36.0': 2105,\n",
       " '22.0': 1962,\n",
       " '37.0': 1846,\n",
       " '38.0': 1814,\n",
       " '39.0': 1421,\n",
       " '45 - 54 ': 1372,\n",
       " '40.0': 1369,\n",
       " '42.0': 1009,\n",
       " '41.0': 966,\n",
       " '21.0': 948,\n",
       " '55-64 ': 898,\n",
       " '43.0': 811,\n",
       " '44.0': 658,\n",
       " '45.0': 632,\n",
       " '46.0': 512,\n",
       " '48.0': 479,\n",
       " '47.0': 460,\n",
       " '50.0': 406,\n",
       " '49.0': 394,\n",
       " '20.0': 374,\n",
       " '55 - 64 ': 338,\n",
       " '52.0': 290,\n",
       " '51.0': 284,\n",
       " '53.0': 265,\n",
       " '55.0': 215,\n",
       " '54.0': 214,\n",
       " '19.0': 175,\n",
       " '56.0': 167,\n",
       " '57.0': 139,\n",
       " '65 ': 138,\n",
       " '58.0': 118,\n",
       " '59.0': 111,\n",
       " '60.0': 99,\n",
       " 'Under 18 ': 93,\n",
       " '62.0': 81,\n",
       " '63.0': 67,\n",
       " '61.0': 66,\n",
       " '18.0': 52,\n",
       " 'Prefer not to say': 46,\n",
       " '64.0': 46,\n",
       " '65.0': 33,\n",
       " '66.0': 21,\n",
       " '68.0': 12,\n",
       " '72.0': 12,\n",
       " '67.0': 11,\n",
       " '17.0': 11,\n",
       " '70.0': 9,\n",
       " '69.0': 7,\n",
       " '73.0': 7,\n",
       " '99.0': 6,\n",
       " '71.0': 5,\n",
       " '16.0': 5,\n",
       " '2.0': 4,\n",
       " '74.0': 3,\n",
       " '22.5': 2,\n",
       " '1.0': 2,\n",
       " '75.0': 2,\n",
       " '31.5': 2,\n",
       " '38.5': 1,\n",
       " '61.3': 1,\n",
       " '26.5': 1,\n",
       " '28.5': 1,\n",
       " '33.6': 1,\n",
       " '43.5': 1,\n",
       " '46.5': 1,\n",
       " '15.0': 1,\n",
       " '83.0': 1,\n",
       " '78.0': 1,\n",
       " '27.5': 1,\n",
       " '279.0': 1,\n",
       " '79.0': 1,\n",
       " '85.0': 1,\n",
       " '96.0': 1,\n",
       " '23.8': 1,\n",
       " '49.5': 1,\n",
       " '95.0': 1,\n",
       " '30.8': 1,\n",
       " '84.0': 1,\n",
       " '98.0': 1,\n",
       " '37.5': 1,\n",
       " '3.0': 1,\n",
       " '24.5': 1,\n",
       " '23.5': 1,\n",
       " '29.5': 1,\n",
       " '4.0': 1,\n",
       " '13.0': 1}"
      ]
     },
     "execution_count": 73,
     "metadata": {},
     "output_type": "execute_result"
    }
   ],
   "source": [
    "df[\"Age\"].value_counts().to_dict()"
   ]
  },
  {
   "cell_type": "code",
   "execution_count": 74,
   "id": "b7095767",
   "metadata": {},
   "outputs": [],
   "source": [
    "def clean_age(x):\n",
    "    if \"under\" in x.lower():\n",
    "        return \"18 below\"\n",
    "    if 'Prefer not to say' in x:\n",
    "        return \"na\"\n",
    "    if '25-34 ' in x:  \n",
    "        return '25-30'\n",
    "    if '25 - 34 ' in x:\n",
    "        return '31-35'\n",
    "    if '35-44 ' in x:\n",
    "        return '35-40'\n",
    "    if '35 - 44 ' in x:\n",
    "        return '41-44'\n",
    "    if '45-54 ' in x:\n",
    "        return '45-50'\n",
    "    if '45-54 ' in x:\n",
    "        return '45-50'\n",
    "    if '45 - 54 ' in x:\n",
    "        return '51-55'\n",
    "    if '55 - 64 ' in x:\n",
    "        return '61-64'\n",
    "    if '55-64 ' in x:\n",
    "        return '55-60'\n",
    "    if '18 - 24 ' in x:\n",
    "        return '18-24'\n",
    "    if '18-24 ' in x:\n",
    "        return '18-24'\n",
    "    if float(x) < 5 or float(x) > 85:\n",
    "        return \"na\"\n",
    "    if float(x) < 18:\n",
    "        return \"18 below\"\n",
    "    if 18 <= float(x) <= 25:\n",
    "        return '18-24'\n",
    "    if 18 <= float(x) <= 25:\n",
    "        return '18-24'\n",
    "    if 25 < float(x) <= 30:\n",
    "        return '25-30'\n",
    "    if 30 < float(x) <= 35:\n",
    "        return '31-35'\n",
    "    if 35 < float(x) <= 40:\n",
    "        return '35-40'\n",
    "    if 40 < float(x) <= 45:\n",
    "        return '41-44'\n",
    "    if 45 < float(x) <= 50:\n",
    "        return '45-50'\n",
    "    if 50 < float(x) <= 55:\n",
    "        return '51-55'\n",
    "    if 55 < float(x) <= 60:\n",
    "        return '55-60'\n",
    "    if 60 < float(x) <= 65:\n",
    "        return '61-65'\n",
    "    if float(x) > 65:\n",
    "        return \"65 above\""
   ]
  },
  {
   "cell_type": "code",
   "execution_count": 75,
   "id": "6fefbd95",
   "metadata": {},
   "outputs": [],
   "source": [
    "df[\"Age\"] = df[\"Age\"].apply(clean_age)"
   ]
  },
  {
   "cell_type": "code",
   "execution_count": 76,
   "id": "df25ec0c",
   "metadata": {},
   "outputs": [],
   "source": [
    "df = df[df.Age != 'na']"
   ]
  },
  {
   "cell_type": "code",
   "execution_count": 77,
   "id": "04ec7df5",
   "metadata": {},
   "outputs": [
    {
     "data": {
      "text/plain": [
       "Index(['index', 'Age', 'Gender', 'Country', 'EdLevel', 'lang_have',\n",
       "       'lang_want', 'Sexuality', 'Employment', 'year', 'salary'],\n",
       "      dtype='object')"
      ]
     },
     "execution_count": 77,
     "metadata": {},
     "output_type": "execute_result"
    }
   ],
   "source": [
    "df.columns"
   ]
  },
  {
   "cell_type": "markdown",
   "id": "007917b0",
   "metadata": {},
   "source": [
    "## Cleaning Gender Column"
   ]
  },
  {
   "cell_type": "code",
   "execution_count": 78,
   "id": "25d26e68",
   "metadata": {},
   "outputs": [
    {
     "data": {
      "text/plain": [
       "Man                                                                                   99583\n",
       "Male                                                                                  25173\n",
       "Woman                                                                                  6280\n",
       "Female                                                                                 1662\n",
       "Non-binary, genderqueer, or gender non-conforming                                       754\n",
       "Prefer not to say                                                                       370\n",
       "Man;Non-binary, genderqueer, or gender non-conforming                                   280\n",
       "Woman;Non-binary, genderqueer, or gender non-conforming                                 191\n",
       "Or, in your own words:                                                                  119\n",
       "Man;Or, in your own words:                                                              104\n",
       "Female;Transgender                                                                       61\n",
       "Male;Non-binary, genderqueer, or gender non-conforming                                   49\n",
       "Transgender                                                                              35\n",
       "Woman;Man                                                                                34\n",
       "Female;Non-binary, genderqueer, or gender non-conforming                                 29\n",
       "Transgender;Non-binary, genderqueer, or gender non-conforming                            26\n",
       "Female;Male                                                                              20\n",
       "Male;Transgender                                                                         19\n",
       "Woman;Man;Non-binary, genderqueer, or gender non-conforming                              14\n",
       "Female;Male;Transgender;Non-binary, genderqueer, or gender non-conforming                11\n",
       "Female;Transgender;Non-binary, genderqueer, or gender non-conforming                     11\n",
       "Man;Woman                                                                                 8\n",
       "Non-binary, genderqueer, or gender non-conforming;Or, in your own words:                  7\n",
       "Man;Woman;Non-binary, genderqueer, or gender non-conforming;Or, in your own words:        6\n",
       "Man;Non-binary, genderqueer, or gender non-conforming;Or, in your own words:              5\n",
       "Woman;Non-binary, genderqueer, or gender non-conforming;Or, in your own words:            5\n",
       "Man;Woman;Non-binary, genderqueer, or gender non-conforming                               4\n",
       "Woman;Or, in your own words:                                                              3\n",
       "Female;Male;Transgender                                                                   3\n",
       "Male;Transgender;Non-binary, genderqueer, or gender non-conforming                        2\n",
       "Female;Male;Non-binary, genderqueer, or gender non-conforming                             1\n",
       "Man;Woman;Or, in your own words:                                                          1\n",
       "Name: Gender, dtype: int64"
      ]
     },
     "execution_count": 78,
     "metadata": {},
     "output_type": "execute_result"
    }
   ],
   "source": [
    "df.Gender.value_counts()"
   ]
  },
  {
   "cell_type": "code",
   "execution_count": 79,
   "id": "661899b2",
   "metadata": {},
   "outputs": [],
   "source": [
    "def clean_gender(x):\n",
    "    if 'transgender' in x.lower():\n",
    "        return 'Transgender'\n",
    "    if 'non-binary' in x.lower() or 'genderqueer' in x.lower() or 'non-conforming' in x.lower():\n",
    "        return 'Non-binary/Genderqueer/Non-Conforming'\n",
    "    if 'in your own words' in x.lower():\n",
    "        return 'Self-description'\n",
    "    if 'prefer not to say' in x.lower():\n",
    "        return 'prefer not to say'\n",
    "    if 'woman' in x.lower() or \"female\" in x.lower():\n",
    "        return \"Female\"\n",
    "    if 'man' in x.lower() or 'male' in x.lower():\n",
    "        return \"Male\"\n"
   ]
  },
  {
   "cell_type": "code",
   "execution_count": 80,
   "id": "1f036647",
   "metadata": {},
   "outputs": [],
   "source": [
    "df['Gender'] = df['Gender'].apply(clean_gender)"
   ]
  },
  {
   "cell_type": "markdown",
   "id": "1f17da5a",
   "metadata": {},
   "source": [
    "## Clean Country column"
   ]
  },
  {
   "cell_type": "code",
   "execution_count": 81,
   "id": "49d1a426",
   "metadata": {},
   "outputs": [
    {
     "data": {
      "text/plain": [
       "{'North Korea': 1,\n",
       " 'Bahamas': 1,\n",
       " 'Burkina Faso': 1,\n",
       " 'Saint Vincent and the Grenadines': 1,\n",
       " 'Djibouti': 1,\n",
       " 'Saint Lucia': 1,\n",
       " 'Seychelles': 1,\n",
       " 'Liechtenstein': 1,\n",
       " 'Sierra Leone': 1,\n",
       " \"Democratic People's Republic of Korea\": 1,\n",
       " 'Saint Kitts and Nevis': 1,\n",
       " 'Gambia': 1,\n",
       " 'Dominica': 1,\n",
       " 'Mali': 1,\n",
       " 'Cape Verde': 1,\n",
       " 'Suriname': 2,\n",
       " 'Niger': 2,\n",
       " 'San Marino': 2,\n",
       " 'Brunei Darussalam': 2,\n",
       " 'Guinea': 2,\n",
       " 'Belize': 3,\n",
       " 'Burundi': 3,\n",
       " 'Andorra': 3,\n",
       " 'Guyana': 4,\n",
       " 'Monaco': 4,\n",
       " 'Fiji': 4,\n",
       " \"Lao People's Democratic Republic\": 4,\n",
       " 'Bhutan': 5,\n",
       " 'Tajikistan': 5,\n",
       " 'Haiti': 5,\n",
       " 'Libyan Arab Jamahiriya': 5,\n",
       " 'Isle of Man': 6,\n",
       " 'Lesotho': 6,\n",
       " 'Malawi': 6,\n",
       " 'Mozambique': 7,\n",
       " 'Turkmenistan': 7,\n",
       " 'Angola': 7,\n",
       " 'Togo': 7,\n",
       " 'Somalia': 8,\n",
       " 'Barbados': 8,\n",
       " 'Benin': 8,\n",
       " 'Congo, Republic of the...': 8,\n",
       " 'Palestine': 9,\n",
       " 'Oman': 9,\n",
       " 'Swaziland': 10,\n",
       " 'Namibia': 10,\n",
       " 'Botswana': 10,\n",
       " 'Democratic Republic of the Congo': 11,\n",
       " 'Maldives': 13,\n",
       " 'Yemen': 15,\n",
       " 'Bahrain': 16,\n",
       " 'Mongolia': 16,\n",
       " 'Afghanistan': 18,\n",
       " 'Senegal': 18,\n",
       " 'Rwanda': 18,\n",
       " 'Zambia': 19,\n",
       " 'Qatar': 20,\n",
       " 'Cambodia': 21,\n",
       " \"Côte d'Ivoire\": 22,\n",
       " 'Madagascar': 22,\n",
       " 'Kuwait': 23,\n",
       " 'Trinidad and Tobago': 23,\n",
       " 'Montenegro': 24,\n",
       " 'Nomadic': 24,\n",
       " 'Sudan': 25,\n",
       " 'Jamaica': 25,\n",
       " 'Iraq': 26,\n",
       " 'Kosovo': 28,\n",
       " 'Myanmar': 31,\n",
       " 'Mauritius': 31,\n",
       " 'Kyrgyzstan': 31,\n",
       " 'Syrian Arab Republic': 31,\n",
       " 'Honduras': 37,\n",
       " 'Cameroon': 41,\n",
       " 'Zimbabwe': 42,\n",
       " 'United Republic of Tanzania': 44,\n",
       " 'Republic of Korea': 45,\n",
       " 'Uzbekistan': 51,\n",
       " 'Ethiopia': 52,\n",
       " 'Algeria': 52,\n",
       " 'Nicaragua': 54,\n",
       " 'Panama': 58,\n",
       " 'Cuba': 61,\n",
       " 'Other Country (Not Listed Above)': 62,\n",
       " 'Azerbaijan': 65,\n",
       " 'Bolivia': 68,\n",
       " 'Uganda': 72,\n",
       " 'Ghana': 74,\n",
       " 'Jordan': 75,\n",
       " 'Republic of Moldova': 76,\n",
       " 'Iceland': 76,\n",
       " 'The former Yugoslav Republic of Macedonia': 76,\n",
       " 'Paraguay': 81,\n",
       " 'Cyprus': 83,\n",
       " 'El Salvador': 86,\n",
       " 'Luxembourg': 92,\n",
       " 'Saudi Arabia': 94,\n",
       " 'Albania': 96,\n",
       " 'Tunisia': 97,\n",
       " 'Guatemala': 98,\n",
       " 'Kazakhstan': 100,\n",
       " 'Armenia': 102,\n",
       " 'Malta': 111,\n",
       " 'Morocco': 118,\n",
       " 'Costa Rica': 133,\n",
       " 'Lebanon': 135,\n",
       " 'Venezuela, Bolivarian Republic of...': 139,\n",
       " 'Georgia': 141,\n",
       " 'Ecuador': 147,\n",
       " 'Bosnia and Herzegovina': 160,\n",
       " 'Dominican Republic': 161,\n",
       " 'United Arab Emirates': 167,\n",
       " 'South Korea': 173,\n",
       " 'Thailand': 181,\n",
       " 'Peru': 201,\n",
       " 'Nepal': 203,\n",
       " 'Hong Kong (S.A.R.)': 217,\n",
       " 'Viet Nam': 221,\n",
       " 'Latvia': 237,\n",
       " 'Uruguay': 252,\n",
       " 'Taiwan': 255,\n",
       " 'Kenya': 257,\n",
       " 'Belarus': 319,\n",
       " 'Malaysia': 321,\n",
       " 'Estonia': 323,\n",
       " 'Chile': 343,\n",
       " 'Slovakia': 361,\n",
       " 'Sri Lanka': 366,\n",
       " 'Philippines': 367,\n",
       " 'Egypt': 367,\n",
       " 'Iran, Islamic Republic of...': 383,\n",
       " 'Croatia': 398,\n",
       " 'Nigeria': 401,\n",
       " 'Slovenia': 422,\n",
       " 'Lithuania': 422,\n",
       " 'Singapore': 444,\n",
       " 'Indonesia': 462,\n",
       " 'Iran': 468,\n",
       " 'Bangladesh': 518,\n",
       " 'Serbia': 539,\n",
       " 'Colombia': 593,\n",
       " 'China': 630,\n",
       " 'Japan': 657,\n",
       " 'Bulgaria': 692,\n",
       " 'Hungary': 698,\n",
       " 'New Zealand': 735,\n",
       " 'Pakistan': 792,\n",
       " 'Greece': 854,\n",
       " 'Ireland': 868,\n",
       " 'Argentina': 931,\n",
       " 'Portugal': 959,\n",
       " 'Finland': 980,\n",
       " 'Czech Republic': 995,\n",
       " 'South Africa': 1027,\n",
       " 'Romania': 1055,\n",
       " 'Israel': 1059,\n",
       " 'Turkey': 1089,\n",
       " 'Denmark': 1096,\n",
       " 'Norway': 1167,\n",
       " 'Austria': 1180,\n",
       " 'Belgium': 1248,\n",
       " 'Ukraine': 1303,\n",
       " 'Mexico': 1313,\n",
       " 'Switzerland': 1478,\n",
       " 'Sweden': 2264,\n",
       " 'Italy': 2304,\n",
       " 'United Kingdom of Great Britain and Northern Ireland': 2582,\n",
       " 'Australia': 2987,\n",
       " 'Russian Federation': 3067,\n",
       " 'Netherlands': 3101,\n",
       " 'Spain': 3124,\n",
       " 'Poland': 3351,\n",
       " 'Brazil': 4320,\n",
       " 'France': 4573,\n",
       " 'Canada': 5335,\n",
       " 'United Kingdom': 7393,\n",
       " 'United States of America': 8696,\n",
       " 'Germany': 8805,\n",
       " 'India': 9997,\n",
       " 'United States': 25882}"
      ]
     },
     "execution_count": 81,
     "metadata": {},
     "output_type": "execute_result"
    }
   ],
   "source": [
    "df.Country.value_counts().sort_values().to_dict()"
   ]
  },
  {
   "cell_type": "code",
   "execution_count": 82,
   "id": "00c2d502",
   "metadata": {},
   "outputs": [],
   "source": [
    "def clean_country(x):\n",
    "    if 'congo' in x.lower():\n",
    "        return 'Republic of Congo'\n",
    "    if 'iran' in x.lower() and 'islam' in x.lower():\n",
    "        return 'Iran'\n",
    "    if 'dominica' in x.lower():\n",
    "        return 'Dominican Republic'\n",
    "    if \"Democratic People's Republic of Korea\" in x.lower() and \"north korea\" in x.lower():\n",
    "        return 'North Korea'\n",
    "    if 'united states' in x.lower():\n",
    "        return \"USA\"\n",
    "    if 'united kingdom' in x.lower():\n",
    "        return \"UK\"\n",
    "    else :\n",
    "        return x\n",
    "    "
   ]
  },
  {
   "cell_type": "code",
   "execution_count": 83,
   "id": "96e821b3",
   "metadata": {},
   "outputs": [],
   "source": [
    "df[\"Country\"] = df[\"Country\"].apply(clean_country)"
   ]
  },
  {
   "cell_type": "code",
   "execution_count": null,
   "id": "88017a09",
   "metadata": {},
   "outputs": [],
   "source": []
  },
  {
   "cell_type": "markdown",
   "id": "9d00f2b5",
   "metadata": {},
   "source": [
    "## Cleaning Education level column"
   ]
  },
  {
   "cell_type": "code",
   "execution_count": 84,
   "id": "6aa11e30",
   "metadata": {},
   "outputs": [
    {
     "data": {
      "text/plain": [
       "Bachelor’s degree (BA, BS, B.Eng., etc.)                                              36623\n",
       "Bachelor’s degree (B.A., B.S., B.Eng., etc.)                                          32096\n",
       "Master’s degree (MA, MS, M.Eng., MBA, etc.)                                           18540\n",
       "Some college/university study without earning a degree                                17439\n",
       "Master’s degree (M.A., M.S., M.Eng., MBA, etc.)                                       16844\n",
       "Associate degree                                                                       2447\n",
       "Other doctoral degree (Ph.D., Ed.D., etc.)                                             2291\n",
       "Other doctoral degree (Ph.D, Ed.D., etc.)                                              2132\n",
       "Associate degree (A.A., A.S., etc.)                                                    2074\n",
       "Professional degree (JD, MD, etc.)                                                     2025\n",
       "Secondary school (e.g. American high school, German Realschule or Gymnasium, etc.)     1771\n",
       "Something else                                                                          395\n",
       "Primary/elementary school                                                               193\n",
       "Name: EdLevel, dtype: int64"
      ]
     },
     "execution_count": 84,
     "metadata": {},
     "output_type": "execute_result"
    }
   ],
   "source": [
    "df.EdLevel.value_counts()"
   ]
  },
  {
   "cell_type": "code",
   "execution_count": 85,
   "id": "d4ff5c18",
   "metadata": {},
   "outputs": [],
   "source": [
    "def clean_edu (x):\n",
    "    if \"bachelor\" in x.lower():\n",
    "        return \"Graduate\"\n",
    "    if 'master' in x.lower():\n",
    "        return \"Post-graduate\"\n",
    "    if \"doctoral\" in x.lower():\n",
    "        return \"Doctorate\"\n",
    "    if \"associate\" in x.lower() or \"professional\" in x.lower() or \"some college\" in x.lower():\n",
    "        return \"Diploma/professional \"\n",
    "    if \"school\" in x.lower() or \"something else\" in x.lower():\n",
    "        return \"Below graduation\"\n",
    "    \n",
    "    "
   ]
  },
  {
   "cell_type": "code",
   "execution_count": 86,
   "id": "5c562418",
   "metadata": {},
   "outputs": [],
   "source": [
    "df[\"EdLevel\"] = df[\"EdLevel\"].apply(clean_edu)"
   ]
  },
  {
   "cell_type": "code",
   "execution_count": 87,
   "id": "dec9e5de",
   "metadata": {},
   "outputs": [
    {
     "data": {
      "text/plain": [
       "Graduate                 68719\n",
       "Post-graduate            35384\n",
       "Diploma/professional     23985\n",
       "Doctorate                 4423\n",
       "Below graduation          2359\n",
       "Name: EdLevel, dtype: int64"
      ]
     },
     "execution_count": 87,
     "metadata": {},
     "output_type": "execute_result"
    }
   ],
   "source": [
    "df[\"EdLevel\"].value_counts()"
   ]
  },
  {
   "cell_type": "markdown",
   "id": "b93a8ce4",
   "metadata": {},
   "source": [
    "## Clean language want to work with and language working with "
   ]
  },
  {
   "cell_type": "code",
   "execution_count": 88,
   "id": "10134f23",
   "metadata": {},
   "outputs": [],
   "source": [
    "df['lang_have'] = df['lang_have'].apply(lambda x: x.replace(\"/\",\" \").replace(\";\",\" \") ) "
   ]
  },
  {
   "cell_type": "code",
   "execution_count": 89,
   "id": "bcb7fab0",
   "metadata": {},
   "outputs": [],
   "source": [
    "df['lang_want'] = df['lang_want'].apply(lambda x: x.replace(\"/\",\" \").replace(\";\",\" \") ) "
   ]
  },
  {
   "cell_type": "code",
   "execution_count": 90,
   "id": "83b5ef8e",
   "metadata": {},
   "outputs": [
    {
     "data": {
      "text/plain": [
       "Straight / Heterosexual                                                           97059\n",
       "Straight or heterosexual                                                          25082\n",
       "Bisexual                                                                           4142\n",
       "Gay or Lesbian                                                                     2884\n",
       "Prefer not to say                                                                  1688\n",
       "Bisexual or Queer                                                                   918\n",
       "Prefer to self-describe:                                                            509\n",
       "Bisexual;Straight / Heterosexual                                                    407\n",
       "Queer                                                                               306\n",
       "Straight / Heterosexual;Bisexual                                                    304\n",
       "Bisexual;Queer                                                                      280\n",
       "Asexual                                                                             234\n",
       "Straight or heterosexual;Bisexual or Queer                                          168\n",
       "Straight / Heterosexual;Prefer to self-describe:                                    126\n",
       "Gay or Lesbian;Queer                                                                124\n",
       "Bisexual;Gay or Lesbian                                                             109\n",
       "Straight or heterosexual;Asexual                                                    101\n",
       "Straight / Heterosexual;Queer                                                        84\n",
       "Gay or Lesbian;Bisexual or Queer                                                     46\n",
       "Bisexual;Gay or Lesbian;Queer                                                        34\n",
       "Prefer to self-describe:;Queer                                                       30\n",
       "Bisexual or Queer;Asexual                                                            27\n",
       "Bisexual;Gay or Lesbian;Straight / Heterosexual                                      24\n",
       "Straight or heterosexual;Gay or Lesbian;Bisexual or Queer;Asexual                    22\n",
       "Gay or Lesbian;Straight / Heterosexual                                               18\n",
       "Bisexual;Prefer to self-describe:;Queer                                              15\n",
       "Gay or Lesbian;Asexual                                                               13\n",
       "Bisexual;Prefer to self-describe:                                                    13\n",
       "Bisexual;Gay or Lesbian;Straight / Heterosexual;Queer                                11\n",
       "Straight or heterosexual;Bisexual or Queer;Asexual                                   11\n",
       "Straight / Heterosexual;Bisexual;Gay or Lesbian                                      10\n",
       "Straight / Heterosexual;Gay or Lesbian                                                8\n",
       "Prefer to self-describe:;Gay or Lesbian;Queer                                         7\n",
       "Straight or heterosexual;Gay or Lesbian;Bisexual or Queer                             7\n",
       "Straight / Heterosexual;Bisexual;Queer                                                7\n",
       "Straight or heterosexual;Gay or Lesbian                                               7\n",
       "Gay or Lesbian;Bisexual or Queer;Asexual                                              6\n",
       "Straight / Heterosexual;Bisexual;Gay or Lesbian;Queer                                 5\n",
       "Straight / Heterosexual;Prefer to self-describe:;Queer                                4\n",
       "Bisexual;Straight / Heterosexual;Queer                                                4\n",
       "Straight / Heterosexual;Bisexual;Prefer to self-describe:                             4\n",
       "Straight / Heterosexual;Bisexual;Prefer to self-describe:;Gay or Lesbian;Queer        3\n",
       "Bisexual;Prefer to self-describe:;Gay or Lesbian;Queer                                3\n",
       "Bisexual;Prefer to self-describe:;Gay or Lesbian                                      2\n",
       "Prefer to self-describe:;Gay or Lesbian                                               2\n",
       "Straight / Heterosexual;Bisexual;Prefer to self-describe:;Gay or Lesbian              1\n",
       "Straight / Heterosexual;Bisexual;Prefer to self-describe:;Queer                       1\n",
       "Name: Sexuality, dtype: int64"
      ]
     },
     "execution_count": 90,
     "metadata": {},
     "output_type": "execute_result"
    }
   ],
   "source": [
    "df.Sexuality.value_counts()"
   ]
  },
  {
   "cell_type": "code",
   "execution_count": 100,
   "id": "03083d74",
   "metadata": {},
   "outputs": [],
   "source": [
    "def clean_sexuality(x):\n",
    "    if \"straight\" in x.lower() or \"heterosexual\" in x.lower():\n",
    "        return \"Straigh/Heterosexual\"\n",
    "    if 'asexual' in x.lower():\n",
    "        return \"Asexual\"\n",
    "    if \"queer\" in x.lower() :\n",
    "        return \"Queer\"\n",
    "    if \"self-describe\" in x.lower():\n",
    "        return \"Prefer to self-describe\"\n",
    "    if \"prefer not to say\" in x.lower():\n",
    "        return \"Prefer not to say\"\n",
    "    if \"gay\" in x.lower() or \"lesbian\" in x.lower():\n",
    "        return \"Gay or Lesbian\"\n",
    "    if \"bisexual\" in x.lower():\n",
    "        return \"Bisexual\"\n",
    "    "
   ]
  },
  {
   "cell_type": "code",
   "execution_count": 103,
   "id": "f2f2d09d",
   "metadata": {},
   "outputs": [],
   "source": [
    "df.Sexuality =df.Sexuality.apply(clean_sexuality)"
   ]
  },
  {
   "cell_type": "code",
   "execution_count": 105,
   "id": "a7abb250",
   "metadata": {},
   "outputs": [
    {
     "data": {
      "text/plain": [
       "Straigh/Heterosexual       122141\n",
       "Bisexual                     4853\n",
       "Gay or Lesbian               3060\n",
       "Queer                        2057\n",
       "Prefer not to say            1688\n",
       "Prefer to self-describe       657\n",
       "Asexual                       414\n",
       "Name: Sexuality, dtype: int64"
      ]
     },
     "execution_count": 105,
     "metadata": {},
     "output_type": "execute_result"
    }
   ],
   "source": [
    "df.Sexuality.value_counts()"
   ]
  },
  {
   "cell_type": "code",
   "execution_count": 94,
   "id": "e161f226",
   "metadata": {},
   "outputs": [
    {
     "data": {
      "text/plain": [
       "Employed full-time                                      118374\n",
       "Independent contractor, freelancer, or self-employed     11587\n",
       "Employed part-time                                        4291\n",
       "Not employed, but looking for work                         439\n",
       "Not employed, and not looking for work                     131\n",
       "Retired                                                     25\n",
       "I prefer not to say                                         23\n",
       "Name: Employment, dtype: int64"
      ]
     },
     "execution_count": 94,
     "metadata": {},
     "output_type": "execute_result"
    }
   ],
   "source": [
    "df.Employment.value_counts()\n"
   ]
  },
  {
   "cell_type": "code",
   "execution_count": 95,
   "id": "c4608fb3",
   "metadata": {},
   "outputs": [
    {
     "data": {
      "text/plain": [
       "index         0\n",
       "Age           0\n",
       "Gender        0\n",
       "Country       0\n",
       "EdLevel       0\n",
       "lang_have     0\n",
       "lang_want     0\n",
       "Sexuality     0\n",
       "Employment    0\n",
       "year          0\n",
       "salary        0\n",
       "dtype: int64"
      ]
     },
     "execution_count": 95,
     "metadata": {},
     "output_type": "execute_result"
    }
   ],
   "source": [
    "df.isna().sum()"
   ]
  },
  {
   "cell_type": "code",
   "execution_count": 96,
   "id": "33f5553d",
   "metadata": {},
   "outputs": [
    {
     "name": "stdout",
     "output_type": "stream",
     "text": [
      "index\n",
      "24184    4\n",
      "23775    4\n",
      "8817     4\n",
      "16244    4\n",
      "23825    4\n",
      "        ..\n",
      "73597    1\n",
      "73594    1\n",
      "73593    1\n",
      "73592    1\n",
      "83434    1\n",
      "Name: index, Length: 73740, dtype: int64\n",
      "Age\n",
      "25-30       41535\n",
      "31-35       29427\n",
      "18-24       25957\n",
      "35-40       18135\n",
      "41-44        9371\n",
      "45-50        5298\n",
      "51-55        2640\n",
      "55-60        1532\n",
      "61-65         432\n",
      "61-64         338\n",
      "18 below      111\n",
      "65 above       94\n",
      "Name: Age, dtype: int64\n",
      "Gender\n",
      "Male                                     124756\n",
      "Female                                     8004\n",
      "Non-binary/Genderqueer/Non-Conforming      1345\n",
      "prefer not to say                           370\n",
      "Self-description                            227\n",
      "Transgender                                 168\n",
      "Name: Gender, dtype: int64\n",
      "Country\n",
      "USA              34578\n",
      "India             9997\n",
      "UK                9975\n",
      "Germany           8805\n",
      "Canada            5335\n",
      "                 ...  \n",
      "Mali                 1\n",
      "Seychelles           1\n",
      "Liechtenstein        1\n",
      "Sierra Leone         1\n",
      "North Korea          1\n",
      "Name: Country, Length: 175, dtype: int64\n",
      "EdLevel\n",
      "Graduate                 68719\n",
      "Post-graduate            35384\n",
      "Diploma/professional     23985\n",
      "Doctorate                 4423\n",
      "Below graduation          2359\n",
      "Name: EdLevel, dtype: int64\n",
      "lang_have\n",
      "C# HTML CSS JavaScript SQL                                                    1623\n",
      "HTML CSS JavaScript PHP SQL                                                   1462\n",
      "C# HTML CSS JavaScript SQL TypeScript                                         1325\n",
      "Java                                                                          1087\n",
      "Python                                                                        1067\n",
      "                                                                              ... \n",
      "Bash Shell PowerShell Java Rust Other(s):                                        1\n",
      "Bash Shell PowerShell Dart HTML CSS Java JavaScript Objective-C Python SQL       1\n",
      "Bash Shell PowerShell Go HTML CSS JavaScript PHP Python SQL Other(s):            1\n",
      "Assembly C C++ Go HTML CSS JavaScript Kotlin Swift TypeScript                    1\n",
      "Delphi Elixir HTML CSS Java JavaScript                                           1\n",
      "Name: lang_have, Length: 41330, dtype: int64\n",
      "lang_want\n",
      "Python                                                                         1810\n",
      "C#                                                                             1118\n",
      "Go                                                                              922\n",
      "Rust                                                                            865\n",
      "HTML CSS JavaScript TypeScript                                                  826\n",
      "                                                                               ... \n",
      "C# Go HTML CSS Java JavaScript Kotlin Objective-C PHP Python Ruby SQL Swift       1\n",
      "Bash Shell PowerShell HTML CSS Java JavaScript Python R SQL VBA WebAssembly       1\n",
      "C++ Objective-C PHP Python SQL                                                    1\n",
      "Assembly Bash Shell PowerShell C HTML CSS JavaScript Ruby SQL WebAssembly         1\n",
      "Elixir HTML CSS Java JavaScript Node.js PHP SQL TypeScript                        1\n",
      "Name: lang_want, Length: 46403, dtype: int64\n",
      "Sexuality\n",
      "Straigh/Heterosexual       122141\n",
      "Bisexual                     4853\n",
      "Gay or Lesbian               3060\n",
      "Queer                        2057\n",
      "Prefer not to say            1688\n",
      "Prefer to self-describe       657\n",
      "Asexual                       414\n",
      "Name: Sexuality, dtype: int64\n",
      "Employment\n",
      "Employed full-time                                      118374\n",
      "Independent contractor, freelancer, or self-employed     11587\n",
      "Employed part-time                                        4291\n",
      "Not employed, but looking for work                         439\n",
      "Not employed, and not looking for work                     131\n",
      "Retired                                                     25\n",
      "I prefer not to say                                         23\n",
      "Name: Employment, dtype: int64\n",
      "year\n",
      "2019    42895\n",
      "2021    40699\n",
      "2018    27209\n",
      "2020    24067\n",
      "Name: year, dtype: int64\n",
      "salary\n",
      "120000.0    1367\n",
      "100000.0    1248\n",
      "150000.0    1130\n",
      "80000.0      995\n",
      "130000.0     939\n",
      "            ... \n",
      "32883.0        1\n",
      "587700.0       1\n",
      "55934.0        1\n",
      "37524.0        1\n",
      "816816.0       1\n",
      "Name: salary, Length: 19600, dtype: int64\n"
     ]
    }
   ],
   "source": [
    "for column in df.columns:\n",
    "    print(column)\n",
    "    print(df[column].value_counts())"
   ]
  },
  {
   "cell_type": "code",
   "execution_count": 98,
   "id": "3e3fe990",
   "metadata": {},
   "outputs": [
    {
     "data": {
      "text/plain": [
       "Index(['index', 'Age', 'Gender', 'Country', 'EdLevel', 'lang_have',\n",
       "       'lang_want', 'Sexuality', 'Employment', 'year', 'salary'],\n",
       "      dtype='object')"
      ]
     },
     "execution_count": 98,
     "metadata": {},
     "output_type": "execute_result"
    }
   ],
   "source": [
    "# df.drop(columns = (['level_0', 'index']),inplace=True)\n",
    "df.columns"
   ]
  },
  {
   "cell_type": "code",
   "execution_count": 99,
   "id": "c5671157",
   "metadata": {},
   "outputs": [],
   "source": [
    "df.to_csv(\"clean_df.csv\")"
   ]
  },
  {
   "cell_type": "code",
   "execution_count": null,
   "id": "b4b309aa",
   "metadata": {},
   "outputs": [],
   "source": []
  }
 ],
 "metadata": {
  "kernelspec": {
   "display_name": "Python 3 (ipykernel)",
   "language": "python",
   "name": "python3"
  },
  "language_info": {
   "codemirror_mode": {
    "name": "ipython",
    "version": 3
   },
   "file_extension": ".py",
   "mimetype": "text/x-python",
   "name": "python",
   "nbconvert_exporter": "python",
   "pygments_lexer": "ipython3",
   "version": "3.9.12"
  }
 },
 "nbformat": 4,
 "nbformat_minor": 5
}
